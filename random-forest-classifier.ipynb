{
 "cells": [
  {
   "cell_type": "code",
   "execution_count": 1,
   "id": "fb45a720",
   "metadata": {
    "_cell_guid": "b1076dfc-b9ad-4769-8c92-a6c4dae69d19",
    "_uuid": "8f2839f25d086af736a60e9eeb907d3b93b6e0e5",
    "execution": {
     "iopub.execute_input": "2023-03-13T22:35:57.827558Z",
     "iopub.status.busy": "2023-03-13T22:35:57.827068Z",
     "iopub.status.idle": "2023-03-13T22:35:57.840098Z",
     "shell.execute_reply": "2023-03-13T22:35:57.838627Z"
    },
    "papermill": {
     "duration": 0.028531,
     "end_time": "2023-03-13T22:35:57.843636",
     "exception": false,
     "start_time": "2023-03-13T22:35:57.815105",
     "status": "completed"
    },
    "tags": []
   },
   "outputs": [],
   "source": [
    "# This Python 3 environment comes with many helpful analytics libraries installed\n",
    "# It is defined by the kaggle/python Docker image: https://github.com/kaggle/docker-python\n",
    "# For example, here's several helpful packages to load\n",
    "\n",
    "import numpy as np # linear algebra\n",
    "import pandas as pd # data processing, CSV file I/O (e.g. pd.read_csv)\n",
    "\n",
    "# Input data files are available in the read-only \"../input/\" directory\n",
    "# For example, running this (by clicking run or pressing Shift+Enter) will list all files under the input directory\n",
    "\n",
    "import os\n",
    "for dirname, _, filenames in os.walk('/kaggle/input'):\n",
    "    for filename in filenames:\n",
    "        print(os.path.join(dirname, filename))\n",
    "\n",
    "# You can write up to 20GB to the current directory (/kaggle/working/) that gets preserved as output when you create a version using \"Save & Run All\" \n",
    "# You can also write temporary files to /kaggle/temp/, but they won't be saved outside of the current session"
   ]
  },
  {
   "cell_type": "code",
   "execution_count": 2,
   "id": "38815f84",
   "metadata": {
    "execution": {
     "iopub.execute_input": "2023-03-13T22:35:57.862909Z",
     "iopub.status.busy": "2023-03-13T22:35:57.862439Z",
     "iopub.status.idle": "2023-03-13T22:35:59.728614Z",
     "shell.execute_reply": "2023-03-13T22:35:59.727239Z"
    },
    "papermill": {
     "duration": 1.879675,
     "end_time": "2023-03-13T22:35:59.731951",
     "exception": false,
     "start_time": "2023-03-13T22:35:57.852276",
     "status": "completed"
    },
    "tags": []
   },
   "outputs": [],
   "source": [
    "from sklearn.ensemble import RandomForestClassifier\n",
    "from sklearn.datasets import make_classification\n",
    "from sklearn.model_selection import train_test_split"
   ]
  },
  {
   "cell_type": "code",
   "execution_count": 3,
   "id": "bf0dfb57",
   "metadata": {
    "execution": {
     "iopub.execute_input": "2023-03-13T22:35:59.745675Z",
     "iopub.status.busy": "2023-03-13T22:35:59.745243Z",
     "iopub.status.idle": "2023-03-13T22:36:00.147206Z",
     "shell.execute_reply": "2023-03-13T22:36:00.145239Z"
    },
    "papermill": {
     "duration": 0.412516,
     "end_time": "2023-03-13T22:36:00.150449",
     "exception": false,
     "start_time": "2023-03-13T22:35:59.737933",
     "status": "completed"
    },
    "tags": []
   },
   "outputs": [
    {
     "name": "stdout",
     "output_type": "stream",
     "text": [
      "Dataset shape: (90000, 52) (90000,)\n"
     ]
    }
   ],
   "source": [
    "# generate a toy dataset\n",
    "X, y = make_classification(n_samples=90000, n_features=52, random_state=42)\n",
    "print(\"Dataset shape:\", X.shape, y.shape)"
   ]
  },
  {
   "cell_type": "code",
   "execution_count": 4,
   "id": "3b98fc1b",
   "metadata": {
    "execution": {
     "iopub.execute_input": "2023-03-13T22:36:00.165102Z",
     "iopub.status.busy": "2023-03-13T22:36:00.164658Z",
     "iopub.status.idle": "2023-03-13T22:36:00.195421Z",
     "shell.execute_reply": "2023-03-13T22:36:00.194109Z"
    },
    "papermill": {
     "duration": 0.041919,
     "end_time": "2023-03-13T22:36:00.198838",
     "exception": false,
     "start_time": "2023-03-13T22:36:00.156919",
     "status": "completed"
    },
    "tags": []
   },
   "outputs": [],
   "source": [
    "# split the dataset into training and testing sets\n",
    "X_train, X_test, y_train, y_test = train_test_split(X, y, test_size=0.3, random_state=42)"
   ]
  },
  {
   "cell_type": "code",
   "execution_count": 5,
   "id": "de162229",
   "metadata": {
    "execution": {
     "iopub.execute_input": "2023-03-13T22:36:00.213380Z",
     "iopub.status.busy": "2023-03-13T22:36:00.211948Z",
     "iopub.status.idle": "2023-03-13T22:36:00.218345Z",
     "shell.execute_reply": "2023-03-13T22:36:00.217213Z"
    },
    "papermill": {
     "duration": 0.016614,
     "end_time": "2023-03-13T22:36:00.221239",
     "exception": false,
     "start_time": "2023-03-13T22:36:00.204625",
     "status": "completed"
    },
    "tags": []
   },
   "outputs": [],
   "source": [
    "# create a random forest classifier object\n",
    "rf_classifier = RandomForestClassifier(n_estimators=100, random_state=42)"
   ]
  },
  {
   "cell_type": "code",
   "execution_count": 6,
   "id": "80c2263c",
   "metadata": {
    "execution": {
     "iopub.execute_input": "2023-03-13T22:36:00.235061Z",
     "iopub.status.busy": "2023-03-13T22:36:00.234657Z",
     "iopub.status.idle": "2023-03-13T22:37:35.196271Z",
     "shell.execute_reply": "2023-03-13T22:37:35.194940Z"
    },
    "papermill": {
     "duration": 94.977547,
     "end_time": "2023-03-13T22:37:35.204592",
     "exception": false,
     "start_time": "2023-03-13T22:36:00.227045",
     "status": "completed"
    },
    "tags": []
   },
   "outputs": [
    {
     "data": {
      "text/plain": [
       "RandomForestClassifier(random_state=42)"
      ]
     },
     "execution_count": 6,
     "metadata": {},
     "output_type": "execute_result"
    }
   ],
   "source": [
    "# train the random forest classifier on the training data\n",
    "rf_classifier.fit(X_train, y_train)"
   ]
  },
  {
   "cell_type": "code",
   "execution_count": 7,
   "id": "169b9239",
   "metadata": {
    "execution": {
     "iopub.execute_input": "2023-03-13T22:37:35.217977Z",
     "iopub.status.busy": "2023-03-13T22:37:35.217558Z",
     "iopub.status.idle": "2023-03-13T22:37:35.837624Z",
     "shell.execute_reply": "2023-03-13T22:37:35.836489Z"
    },
    "papermill": {
     "duration": 0.630221,
     "end_time": "2023-03-13T22:37:35.840524",
     "exception": false,
     "start_time": "2023-03-13T22:37:35.210303",
     "status": "completed"
    },
    "tags": []
   },
   "outputs": [],
   "source": [
    "# make predictions on the test data\n",
    "y_pred = rf_classifier.predict(X_test)"
   ]
  },
  {
   "cell_type": "code",
   "execution_count": 8,
   "id": "2a9c8091",
   "metadata": {
    "execution": {
     "iopub.execute_input": "2023-03-13T22:37:35.854300Z",
     "iopub.status.busy": "2023-03-13T22:37:35.853336Z",
     "iopub.status.idle": "2023-03-13T22:37:36.461553Z",
     "shell.execute_reply": "2023-03-13T22:37:36.460200Z"
    },
    "papermill": {
     "duration": 0.617797,
     "end_time": "2023-03-13T22:37:36.464160",
     "exception": false,
     "start_time": "2023-03-13T22:37:35.846363",
     "status": "completed"
    },
    "tags": []
   },
   "outputs": [
    {
     "name": "stdout",
     "output_type": "stream",
     "text": [
      "Random Forest classifier accuracy: 0.9382592592592592\n"
     ]
    }
   ],
   "source": [
    "# evaluate the accuracy of the model\n",
    "accuracy = rf_classifier.score(X_test, y_test)\n",
    "print(f\"Random Forest classifier accuracy: {accuracy}\")"
   ]
  },
  {
   "cell_type": "code",
   "execution_count": 9,
   "id": "14c80f00",
   "metadata": {
    "execution": {
     "iopub.execute_input": "2023-03-13T22:37:36.477390Z",
     "iopub.status.busy": "2023-03-13T22:37:36.476963Z",
     "iopub.status.idle": "2023-03-13T22:37:36.930458Z",
     "shell.execute_reply": "2023-03-13T22:37:36.929153Z"
    },
    "papermill": {
     "duration": 0.463442,
     "end_time": "2023-03-13T22:37:36.933262",
     "exception": false,
     "start_time": "2023-03-13T22:37:36.469820",
     "status": "completed"
    },
    "tags": []
   },
   "outputs": [
    {
     "data": {
      "text/plain": [
       "Text(0.5, 1.0, 'Actual vs Predicted')"
      ]
     },
     "execution_count": 9,
     "metadata": {},
     "output_type": "execute_result"
    },
    {
     "data": {
      "image/png": "[encoded data removed]",
      "text/plain": [
       "<Figure size 1500x1000 with 1 Axes>"
      ]
     },
     "metadata": {},
     "output_type": "display_data"
    }
   ],
   "source": [
    "import matplotlib.pyplot as plt\n",
    "plt.figure(figsize = (15,10))\n",
    "plt.scatter(y_test, y_pred)\n",
    "plt.xlabel('Actual')\n",
    "plt.ylabel('Predicted')\n",
    "plt.title('Actual vs Predicted')"
   ]
  },
  {
   "cell_type": "markdown",
   "id": "91a5445c",
   "metadata": {
    "papermill": {
     "duration": 0.005969,
     "end_time": "2023-03-13T22:37:36.945568",
     "exception": false,
     "start_time": "2023-03-13T22:37:36.939599",
     "status": "completed"
    },
    "tags": []
   },
   "source": [
    "### What if we use decision tree regression?\n"
   ]
  },
  {
   "cell_type": "code",
   "execution_count": 10,
   "id": "7379c913",
   "metadata": {
    "execution": {
     "iopub.execute_input": "2023-03-13T22:37:36.961578Z",
     "iopub.status.busy": "2023-03-13T22:37:36.960690Z",
     "iopub.status.idle": "2023-03-13T22:37:49.458417Z",
     "shell.execute_reply": "2023-03-13T22:37:49.457474Z"
    },
    "papermill": {
     "duration": 12.507812,
     "end_time": "2023-03-13T22:37:49.460892",
     "exception": false,
     "start_time": "2023-03-13T22:37:36.953080",
     "status": "completed"
    },
    "tags": []
   },
   "outputs": [
    {
     "data": {
      "text/plain": [
       "DecisionTreeRegressor(random_state=1)"
      ]
     },
     "execution_count": 10,
     "metadata": {},
     "output_type": "execute_result"
    }
   ],
   "source": [
    "from sklearn.tree import DecisionTreeRegressor\n",
    "# Define model. Specify a number for random_state to ensure same results each run\n",
    "mtr = DecisionTreeRegressor(random_state=1)\n",
    "\n",
    "# Fit model\n",
    "mtr.fit(X_train, y_train)"
   ]
  },
  {
   "cell_type": "code",
   "execution_count": 11,
   "id": "c78b3775",
   "metadata": {
    "execution": {
     "iopub.execute_input": "2023-03-13T22:37:49.476403Z",
     "iopub.status.busy": "2023-03-13T22:37:49.475425Z",
     "iopub.status.idle": "2023-03-13T22:37:49.488449Z",
     "shell.execute_reply": "2023-03-13T22:37:49.487398Z"
    },
    "papermill": {
     "duration": 0.023606,
     "end_time": "2023-03-13T22:37:49.491139",
     "exception": false,
     "start_time": "2023-03-13T22:37:49.467533",
     "status": "completed"
    },
    "tags": []
   },
   "outputs": [],
   "source": [
    "# Make predictions on the test data\n",
    "y_pred = mtr.predict(X_test)"
   ]
  },
  {
   "cell_type": "code",
   "execution_count": 12,
   "id": "847f732e",
   "metadata": {
    "execution": {
     "iopub.execute_input": "2023-03-13T22:37:49.506329Z",
     "iopub.status.busy": "2023-03-13T22:37:49.505510Z",
     "iopub.status.idle": "2023-03-13T22:37:49.522421Z",
     "shell.execute_reply": "2023-03-13T22:37:49.520875Z"
    },
    "papermill": {
     "duration": 0.027777,
     "end_time": "2023-03-13T22:37:49.525396",
     "exception": false,
     "start_time": "2023-03-13T22:37:49.497619",
     "status": "completed"
    },
    "tags": []
   },
   "outputs": [
    {
     "name": "stdout",
     "output_type": "stream",
     "text": [
      "R^2 score: 0.60\n"
     ]
    }
   ],
   "source": [
    "from sklearn.metrics import r2_score\n",
    "# Evaluate the performance of the model using R^2 score\n",
    "r2 = mtr.score(X_test, y_test)\n",
    "print(\"R^2 score: {:.2f}\".format(r2))"
   ]
  },
  {
   "cell_type": "code",
   "execution_count": 13,
   "id": "6984d7dc",
   "metadata": {
    "execution": {
     "iopub.execute_input": "2023-03-13T22:37:49.540767Z",
     "iopub.status.busy": "2023-03-13T22:37:49.539758Z",
     "iopub.status.idle": "2023-03-13T22:37:49.558444Z",
     "shell.execute_reply": "2023-03-13T22:37:49.556805Z"
    },
    "papermill": {
     "duration": 0.029662,
     "end_time": "2023-03-13T22:37:49.561619",
     "exception": false,
     "start_time": "2023-03-13T22:37:49.531957",
     "status": "completed"
    },
    "tags": []
   },
   "outputs": [
    {
     "name": "stdout",
     "output_type": "stream",
     "text": [
      "rmse: 0.31546555837130386\n",
      "mae :0.09951851851851852\n",
      "r2: 0.601925923741706\n",
      "[1 0 0 ... 1 1 0]\n"
     ]
    }
   ],
   "source": [
    "from sklearn.metrics import mean_absolute_error\n",
    "from sklearn.metrics import mean_squared_error\n",
    "\n",
    "\n",
    "predicted = mtr.predict(X_test)\n",
    "rmse = mean_squared_error(y_test, predicted, squared=False)\n",
    "print(\"rmse: {}\".format(rmse))\n",
    "\n",
    "val_mae = mean_absolute_error(y_test, predicted)\n",
    "\n",
    "# uncomment following line to see the validation_mae\n",
    "print('mae :{}'.format(val_mae))\n",
    "\n",
    "\n",
    "r2 = r2_score(y_test, predicted)\n",
    "print('r2: {}'.format(r2))\n",
    "print(y_test)"
   ]
  },
  {
   "cell_type": "code",
   "execution_count": 14,
   "id": "6231651c",
   "metadata": {
    "execution": {
     "iopub.execute_input": "2023-03-13T22:37:49.577427Z",
     "iopub.status.busy": "2023-03-13T22:37:49.576729Z",
     "iopub.status.idle": "2023-03-13T22:37:50.010547Z",
     "shell.execute_reply": "2023-03-13T22:37:50.009234Z"
    },
    "papermill": {
     "duration": 0.444552,
     "end_time": "2023-03-13T22:37:50.013245",
     "exception": false,
     "start_time": "2023-03-13T22:37:49.568693",
     "status": "completed"
    },
    "tags": []
   },
   "outputs": [
    {
     "data": {
      "text/plain": [
       "Text(0.5, 1.0, 'Actual vs Predicted')"
      ]
     },
     "execution_count": 14,
     "metadata": {},
     "output_type": "execute_result"
    },
    {
     "data": {
      "image/png": "[encoded data removed]",
      "text/plain": [
       "<Figure size 2000x1000 with 1 Axes>"
      ]
     },
     "metadata": {},
     "output_type": "display_data"
    }
   ],
   "source": [
    "import matplotlib.pyplot as plt\n",
    "plt.figure(figsize = (20,10))\n",
    "plt.scatter(y_test, predicted)\n",
    "plt.xlabel('Actual')\n",
    "plt.ylabel('Predicted')\n",
    "plt.title('Actual vs Predicted')"
   ]
  },
  {
   "cell_type": "markdown",
   "id": "2b62102c",
   "metadata": {
    "papermill": {
     "duration": 0.00685,
     "end_time": "2023-03-13T22:37:50.027397",
     "exception": false,
     "start_time": "2023-03-13T22:37:50.020547",
     "status": "completed"
    },
    "tags": []
   },
   "source": [
    "### DecisionTreeRegression shows significant less accurate evaluation for large dataset containing 90000 rows. Need to figure out why is that"
   ]
  },
  {
   "cell_type": "markdown",
   "id": "51a97329",
   "metadata": {
    "papermill": {
     "duration": 0.006931,
     "end_time": "2023-03-13T22:37:50.041599",
     "exception": false,
     "start_time": "2023-03-13T22:37:50.034668",
     "status": "completed"
    },
    "tags": []
   },
   "source": [
    "#### What if we use linear regression?"
   ]
  },
  {
   "cell_type": "markdown",
   "id": "ff6aebcb",
   "metadata": {
    "papermill": {
     "duration": 0.006753,
     "end_time": "2023-03-13T22:37:50.055361",
     "exception": false,
     "start_time": "2023-03-13T22:37:50.048608",
     "status": "completed"
    },
    "tags": []
   },
   "source": [
    "### What if we use more arguments in make_classification?"
   ]
  },
  {
   "cell_type": "code",
   "execution_count": 15,
   "id": "f1aaf876",
   "metadata": {
    "execution": {
     "iopub.execute_input": "2023-03-13T22:37:50.071222Z",
     "iopub.status.busy": "2023-03-13T22:37:50.070733Z",
     "iopub.status.idle": "2023-03-13T22:37:50.478703Z",
     "shell.execute_reply": "2023-03-13T22:37:50.477231Z"
    },
    "papermill": {
     "duration": 0.419355,
     "end_time": "2023-03-13T22:37:50.481724",
     "exception": false,
     "start_time": "2023-03-13T22:37:50.062369",
     "status": "completed"
    },
    "tags": []
   },
   "outputs": [
    {
     "name": "stdout",
     "output_type": "stream",
     "text": [
      "Dataset shape: (90000, 52) (90000,)\n"
     ]
    }
   ],
   "source": [
    "# Generate a dataset with more diverse features\n",
    "XX, yy = make_classification(n_samples=90000, n_features=52, n_informative=8,\n",
    "                           n_redundant=2, n_classes=3, class_sep=2.0,\n",
    "                           weights=[0.3, 0.3, 0.4], random_state=42)\n",
    "print('Dataset shape:',XX.shape,yy.shape)"
   ]
  },
  {
   "cell_type": "code",
   "execution_count": 16,
   "id": "df96fd90",
   "metadata": {
    "execution": {
     "iopub.execute_input": "2023-03-13T22:37:50.499299Z",
     "iopub.status.busy": "2023-03-13T22:37:50.498615Z",
     "iopub.status.idle": "2023-03-13T22:39:11.758346Z",
     "shell.execute_reply": "2023-03-13T22:39:11.757114Z"
    },
    "papermill": {
     "duration": 81.278272,
     "end_time": "2023-03-13T22:39:11.767761",
     "exception": false,
     "start_time": "2023-03-13T22:37:50.489489",
     "status": "completed"
    },
    "tags": []
   },
   "outputs": [
    {
     "name": "stdout",
     "output_type": "stream",
     "text": [
      "Random Forest classifier accuracy: 0.9832222222222222\n"
     ]
    }
   ],
   "source": [
    "# split the dataset into training and testing sets\n",
    "XX_train, XX_test, yy_train, yy_test = train_test_split(XX, yy, test_size=0.3, random_state=42)\n",
    "# create a random forest classifier object\n",
    "rfc_classifier = RandomForestClassifier(n_estimators=100, random_state=42)\n",
    "# train the random forest classifier on the training data\n",
    "rfc_classifier.fit(XX_train, yy_train)\n",
    "# make predictions on the test data\n",
    "yy_pred = rfc_classifier.predict(XX_test)\n",
    "# evaluate the accuracy of the model\n",
    "accuracy_2 = rfc_classifier.score(XX_test, yy_test)\n",
    "print(f\"Random Forest classifier accuracy: {accuracy_2}\")"
   ]
  },
  {
   "cell_type": "code",
   "execution_count": 17,
   "id": "9e6c78f2",
   "metadata": {
    "execution": {
     "iopub.execute_input": "2023-03-13T22:39:11.785074Z",
     "iopub.status.busy": "2023-03-13T22:39:11.784632Z",
     "iopub.status.idle": "2023-03-13T22:39:12.252675Z",
     "shell.execute_reply": "2023-03-13T22:39:12.251227Z"
    },
    "papermill": {
     "duration": 0.480622,
     "end_time": "2023-03-13T22:39:12.256445",
     "exception": false,
     "start_time": "2023-03-13T22:39:11.775823",
     "status": "completed"
    },
    "tags": []
   },
   "outputs": [
    {
     "data": {
      "text/plain": [
       "Text(0.5, 1.0, 'Actual vs Predicted')"
      ]
     },
     "execution_count": 17,
     "metadata": {},
     "output_type": "execute_result"
    },
    {
     "data": {
      "image/png": "[encoded data removed]",
      "text/plain": [
       "<Figure size 2000x1000 with 1 Axes>"
      ]
     },
     "metadata": {},
     "output_type": "display_data"
    }
   ],
   "source": [
    "import matplotlib.pyplot as plt\n",
    "plt.figure(figsize = (20,10))\n",
    "plt.scatter(yy_test, yy_pred)\n",
    "plt.xlabel('Actual')\n",
    "plt.ylabel('Predicted')\n",
    "plt.title('Actual vs Predicted')"
   ]
  },
  {
   "cell_type": "code",
   "execution_count": null,
   "id": "ec750078",
   "metadata": {
    "papermill": {
     "duration": 0.008017,
     "end_time": "2023-03-13T22:39:12.272793",
     "exception": false,
     "start_time": "2023-03-13T22:39:12.264776",
     "status": "completed"
    },
    "tags": []
   },
   "outputs": [],
   "source": []
  }
 ],
 "metadata": {
  "kernelspec": {
   "display_name": "Python 3",
   "language": "python",
   "name": "python3"
  },
  "language_info": {
   "codemirror_mode": {
    "name": "ipython",
    "version": 3
   },
   "file_extension": ".py",
   "mimetype": "text/x-python",
   "name": "python",
   "nbconvert_exporter": "python",
   "pygments_lexer": "ipython3",
   "version": "3.7.12"
  },
  "papermill": {
   "default_parameters": {},
   "duration": 206.421506,
   "end_time": "2023-03-13T22:39:13.105312",
   "environment_variables": {},
   "exception": null,
   "input_path": "__notebook__.ipynb",
   "output_path": "__notebook__.ipynb",
   "parameters": {},
   "start_time": "2023-03-13T22:35:46.683806",
   "version": "2.4.0"
  }
 },
 "nbformat": 4,
 "nbformat_minor": 5
}
