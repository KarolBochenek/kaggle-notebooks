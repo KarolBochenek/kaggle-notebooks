{
 "cells": [
  {
   "cell_type": "markdown",
   "id": "8fad0f94",
   "metadata": {
    "papermill": {
     "duration": 0.004648,
     "end_time": "2023-03-23T12:09:04.811798",
     "exception": false,
     "start_time": "2023-03-23T12:09:04.807150",
     "status": "completed"
    },
    "tags": []
   },
   "source": [
    "# BASIC PYTHON ALGORYTHMS"
   ]
  },
  {
   "cell_type": "markdown",
   "id": "a98b4c81",
   "metadata": {
    "_cell_guid": "b1076dfc-b9ad-4769-8c92-a6c4dae69d19",
    "_uuid": "8f2839f25d086af736a60e9eeb907d3b93b6e0e5",
    "papermill": {
     "duration": 0.003521,
     "end_time": "2023-03-23T12:09:04.819103",
     "exception": false,
     "start_time": "2023-03-23T12:09:04.815582",
     "status": "completed"
    },
    "tags": []
   },
   "source": [
    "## Fibonacci"
   ]
  },
  {
   "cell_type": "markdown",
   "id": "31fb877c",
   "metadata": {
    "papermill": {
     "duration": 0.003272,
     "end_time": "2023-03-23T12:09:04.825925",
     "exception": false,
     "start_time": "2023-03-23T12:09:04.822653",
     "status": "completed"
    },
    "tags": []
   },
   "source": [
    "recursive"
   ]
  },
  {
   "cell_type": "code",
   "execution_count": 1,
   "id": "4d798974",
   "metadata": {
    "execution": {
     "iopub.execute_input": "2023-03-23T12:09:04.835280Z",
     "iopub.status.busy": "2023-03-23T12:09:04.834630Z",
     "iopub.status.idle": "2023-03-23T12:09:04.847512Z",
     "shell.execute_reply": "2023-03-23T12:09:04.846695Z"
    },
    "papermill": {
     "duration": 0.020426,
     "end_time": "2023-03-23T12:09:04.849943",
     "exception": false,
     "start_time": "2023-03-23T12:09:04.829517",
     "status": "completed"
    },
    "tags": []
   },
   "outputs": [
    {
     "data": {
      "text/plain": [
       "[0, 1, 1, 2, 3, 5, 8, 13, 21, 34, 55, 89, 144, 233, 377]"
      ]
     },
     "execution_count": 1,
     "metadata": {},
     "output_type": "execute_result"
    }
   ],
   "source": [
    "def fibonacci_recur(n):\n",
    "    if n in {0,1}:\n",
    "        return n\n",
    "    return fibonacci_recur(n-1) + fibonacci_recur(n-2)\n",
    "[fibonacci_recur(n) for n in range(15)]"
   ]
  },
  {
   "cell_type": "markdown",
   "id": "bed9ab84",
   "metadata": {
    "papermill": {
     "duration": 0.003462,
     "end_time": "2023-03-23T12:09:04.857237",
     "exception": false,
     "start_time": "2023-03-23T12:09:04.853775",
     "status": "completed"
    },
    "tags": []
   },
   "source": [
    "iterative"
   ]
  },
  {
   "cell_type": "code",
   "execution_count": 2,
   "id": "3de42bf3",
   "metadata": {
    "execution": {
     "iopub.execute_input": "2023-03-23T12:09:04.866992Z",
     "iopub.status.busy": "2023-03-23T12:09:04.865915Z",
     "iopub.status.idle": "2023-03-23T12:09:04.874414Z",
     "shell.execute_reply": "2023-03-23T12:09:04.873301Z"
    },
    "papermill": {
     "duration": 0.015897,
     "end_time": "2023-03-23T12:09:04.876903",
     "exception": false,
     "start_time": "2023-03-23T12:09:04.861006",
     "status": "completed"
    },
    "tags": []
   },
   "outputs": [
    {
     "data": {
      "text/plain": [
       "[0, 1, 1, 2, 3, 5, 8, 13, 21, 34, 55, 89, 144, 233, 377]"
      ]
     },
     "execution_count": 2,
     "metadata": {},
     "output_type": "execute_result"
    }
   ],
   "source": [
    "def fibonacci_iter(n):\n",
    "    a,b = 0,1\n",
    "    for i in range(0,n):\n",
    "        a,b = b, a+b\n",
    "    return a\n",
    "[fibonacci_iter(n) for n in range(15)]\n",
    "        \n",
    "    \n",
    "        "
   ]
  },
  {
   "cell_type": "markdown",
   "id": "94eedf99",
   "metadata": {
    "papermill": {
     "duration": 0.003574,
     "end_time": "2023-03-23T12:09:04.884417",
     "exception": false,
     "start_time": "2023-03-23T12:09:04.880843",
     "status": "completed"
    },
    "tags": []
   },
   "source": [
    "## Bubble Sort"
   ]
  },
  {
   "cell_type": "code",
   "execution_count": 3,
   "id": "ce5d6b24",
   "metadata": {
    "execution": {
     "iopub.execute_input": "2023-03-23T12:09:04.894232Z",
     "iopub.status.busy": "2023-03-23T12:09:04.893512Z",
     "iopub.status.idle": "2023-03-23T12:09:04.901677Z",
     "shell.execute_reply": "2023-03-23T12:09:04.900489Z"
    },
    "papermill": {
     "duration": 0.015895,
     "end_time": "2023-03-23T12:09:04.904103",
     "exception": false,
     "start_time": "2023-03-23T12:09:04.888208",
     "status": "completed"
    },
    "tags": []
   },
   "outputs": [
    {
     "name": "stdout",
     "output_type": "stream",
     "text": [
      "[34, 25, 12, 22, 11, 64, 5, 1, 90]\n",
      "[25, 12, 22, 11, 34, 5, 1, 64, 90]\n",
      "[12, 22, 11, 25, 5, 1, 34, 64, 90]\n",
      "[12, 11, 22, 5, 1, 25, 34, 64, 90]\n",
      "[11, 12, 5, 1, 22, 25, 34, 64, 90]\n",
      "[11, 5, 1, 12, 22, 25, 34, 64, 90]\n",
      "[5, 1, 11, 12, 22, 25, 34, 64, 90]\n",
      "[1, 5, 11, 12, 22, 25, 34, 64, 90]\n",
      "[1, 5, 11, 12, 22, 25, 34, 64, 90]\n"
     ]
    }
   ],
   "source": [
    "def bubbleSort(tab):\n",
    "    \n",
    "    for y in range(len(tab)):\n",
    "        for x in range(len(tab)-y-1):\n",
    "\n",
    "            #print('tab',tab[x-1])\n",
    "            if  tab[x]>tab[x+1]:\n",
    "                tab[x],tab[x+1] = tab[x+1],tab[x]\n",
    "        print(tab)    \n",
    "arr = [64, 34, 25, 12, 22, 11, 90, 5, 1]\n",
    "bubbleSort(arr)"
   ]
  },
  {
   "cell_type": "markdown",
   "id": "a53cbde9",
   "metadata": {
    "papermill": {
     "duration": 0.003537,
     "end_time": "2023-03-23T12:09:04.911864",
     "exception": false,
     "start_time": "2023-03-23T12:09:04.908327",
     "status": "completed"
    },
    "tags": []
   },
   "source": [
    "## Binary Search"
   ]
  },
  {
   "cell_type": "code",
   "execution_count": 4,
   "id": "405ac0bb",
   "metadata": {
    "execution": {
     "iopub.execute_input": "2023-03-23T12:09:04.921423Z",
     "iopub.status.busy": "2023-03-23T12:09:04.921022Z",
     "iopub.status.idle": "2023-03-23T12:09:04.928653Z",
     "shell.execute_reply": "2023-03-23T12:09:04.927490Z"
    },
    "papermill": {
     "duration": 0.016012,
     "end_time": "2023-03-23T12:09:04.931631",
     "exception": false,
     "start_time": "2023-03-23T12:09:04.915619",
     "status": "completed"
    },
    "tags": []
   },
   "outputs": [
    {
     "name": "stdout",
     "output_type": "stream",
     "text": [
      "Index of searched number in list:  8\n"
     ]
    }
   ],
   "source": [
    "def binarySearch(tab,n):\n",
    "    left = tab[0]\n",
    "    right = tab[-1]\n",
    "    while left<=right:\n",
    "        mid = tab[int((tab.index(left)+tab.index(right))/2)]\n",
    "        #print(left,right,mid)\n",
    "        if mid == n:\n",
    "            return tab.index(mid)\n",
    "        if n<mid:\n",
    "            right = tab[tab.index(mid)-1]\n",
    "            #print(\"left side\",left,right,mid)\n",
    "        else:\n",
    "            left = tab[tab.index(mid)+1]\n",
    "            #print(\"right side\",left,right,mid)\n",
    "    return \"Number not found in list\"\n",
    "print('Index of searched number in list: ',binarySearch(arr,90))"
   ]
  },
  {
   "cell_type": "markdown",
   "id": "64bc9409",
   "metadata": {
    "papermill": {
     "duration": 0.003615,
     "end_time": "2023-03-23T12:09:04.939176",
     "exception": false,
     "start_time": "2023-03-23T12:09:04.935561",
     "status": "completed"
    },
    "tags": []
   },
   "source": [
    "## Insert Sort"
   ]
  },
  {
   "cell_type": "code",
   "execution_count": 5,
   "id": "34eeff48",
   "metadata": {
    "execution": {
     "iopub.execute_input": "2023-03-23T12:09:04.948771Z",
     "iopub.status.busy": "2023-03-23T12:09:04.948407Z",
     "iopub.status.idle": "2023-03-23T12:09:04.955531Z",
     "shell.execute_reply": "2023-03-23T12:09:04.954489Z"
    },
    "papermill": {
     "duration": 0.015387,
     "end_time": "2023-03-23T12:09:04.958451",
     "exception": false,
     "start_time": "2023-03-23T12:09:04.943064",
     "status": "completed"
    },
    "tags": []
   },
   "outputs": [
    {
     "name": "stdout",
     "output_type": "stream",
     "text": [
      "[34, 64, 25, 12, 22, 11, 90, 5, 1]\n",
      "[25, 34, 64, 12, 22, 11, 90, 5, 1]\n",
      "[12, 25, 34, 64, 22, 11, 90, 5, 1]\n",
      "[12, 22, 25, 34, 64, 11, 90, 5, 1]\n",
      "[11, 12, 22, 25, 34, 64, 90, 5, 1]\n",
      "[11, 12, 22, 25, 34, 64, 90, 5, 1]\n",
      "[5, 11, 12, 22, 25, 34, 64, 90, 1]\n",
      "[1, 5, 11, 12, 22, 25, 34, 64, 90]\n",
      "insert sorted tab:  [1, 5, 11, 12, 22, 25, 34, 64, 90]\n"
     ]
    }
   ],
   "source": [
    "arr2 = [64, 34, 25, 12, 22, 11, 90, 5, 1]\n",
    "def insertSort(tab):\n",
    "    for i in range(1,len(tab)):\n",
    "        j = i\n",
    "        while j>0 and tab[j]<tab[j-1]:\n",
    "            tab[j],tab[j-1] = tab[j-1],tab[j]\n",
    "            j-=1\n",
    "        print(tab)\n",
    "    return tab\n",
    "print('insert sorted tab: ',insertSort(arr2))\n",
    "        \n",
    "        "
   ]
  },
  {
   "cell_type": "markdown",
   "id": "65863c76",
   "metadata": {
    "papermill": {
     "duration": 0.004013,
     "end_time": "2023-03-23T12:09:04.967500",
     "exception": false,
     "start_time": "2023-03-23T12:09:04.963487",
     "status": "completed"
    },
    "tags": []
   },
   "source": [
    "## Selection Sort"
   ]
  },
  {
   "cell_type": "code",
   "execution_count": 6,
   "id": "f9fe3777",
   "metadata": {
    "execution": {
     "iopub.execute_input": "2023-03-23T12:09:04.977387Z",
     "iopub.status.busy": "2023-03-23T12:09:04.976994Z",
     "iopub.status.idle": "2023-03-23T12:09:04.984436Z",
     "shell.execute_reply": "2023-03-23T12:09:04.983145Z"
    },
    "papermill": {
     "duration": 0.015841,
     "end_time": "2023-03-23T12:09:04.987279",
     "exception": false,
     "start_time": "2023-03-23T12:09:04.971438",
     "status": "completed"
    },
    "tags": []
   },
   "outputs": [
    {
     "name": "stdout",
     "output_type": "stream",
     "text": [
      "selection sorted list:  [11, 12, 22, 25, 64]\n"
     ]
    }
   ],
   "source": [
    "def selectionSort(tab):\n",
    "    for m in range(len(tab)):\n",
    "        min_id = m\n",
    "        for n in range(m+1,len(tab)):\n",
    "            if tab[min_id]>tab[n]:\n",
    "                min_id = n\n",
    "        tab[m],tab[min_id] = tab[min_id],tab[m]\n",
    "    return tab\n",
    "arr3 = [64, 25, 12, 22, 11]\n",
    "print('selection sorted list: ',selectionSort(arr3))\n",
    "\n",
    "        \n",
    "     \n"
   ]
  },
  {
   "cell_type": "code",
   "execution_count": null,
   "id": "be04c710",
   "metadata": {
    "papermill": {
     "duration": 0.003868,
     "end_time": "2023-03-23T12:09:04.995250",
     "exception": false,
     "start_time": "2023-03-23T12:09:04.991382",
     "status": "completed"
    },
    "tags": []
   },
   "outputs": [],
   "source": []
  }
 ],
 "metadata": {
  "kernelspec": {
   "display_name": "Python 3",
   "language": "python",
   "name": "python3"
  },
  "language_info": {
   "codemirror_mode": {
    "name": "ipython",
    "version": 3
   },
   "file_extension": ".py",
   "mimetype": "text/x-python",
   "name": "python",
   "nbconvert_exporter": "python",
   "pygments_lexer": "ipython3",
   "version": "3.7.12"
  },
  "papermill": {
   "default_parameters": {},
   "duration": 10.553044,
   "end_time": "2023-03-23T12:09:05.620188",
   "environment_variables": {},
   "exception": null,
   "input_path": "__notebook__.ipynb",
   "output_path": "__notebook__.ipynb",
   "parameters": {},
   "start_time": "2023-03-23T12:08:55.067144",
   "version": "2.4.0"
  }
 },
 "nbformat": 4,
 "nbformat_minor": 5
}
