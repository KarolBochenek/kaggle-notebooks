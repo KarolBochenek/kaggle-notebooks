{
 "cells": [
  {
   "cell_type": "markdown",
   "id": "e8c72e4b",
   "metadata": {
    "_cell_guid": "b1076dfc-b9ad-4769-8c92-a6c4dae69d19",
    "_uuid": "8f2839f25d086af736a60e9eeb907d3b93b6e0e5",
    "papermill": {
     "duration": 0.003327,
     "end_time": "2023-03-22T23:55:34.456648",
     "exception": false,
     "start_time": "2023-03-22T23:55:34.453321",
     "status": "completed"
    },
    "tags": []
   },
   "source": [
    "Fibonacci"
   ]
  },
  {
   "cell_type": "code",
   "execution_count": 1,
   "id": "c5396861",
   "metadata": {
    "execution": {
     "iopub.execute_input": "2023-03-22T23:55:34.464737Z",
     "iopub.status.busy": "2023-03-22T23:55:34.464251Z",
     "iopub.status.idle": "2023-03-22T23:55:34.478771Z",
     "shell.execute_reply": "2023-03-22T23:55:34.477677Z"
    },
    "papermill": {
     "duration": 0.021113,
     "end_time": "2023-03-22T23:55:34.480698",
     "exception": false,
     "start_time": "2023-03-22T23:55:34.459585",
     "status": "completed"
    },
    "tags": []
   },
   "outputs": [
    {
     "data": {
      "text/plain": [
       "[0, 1, 1, 2, 3, 5, 8, 13, 21, 34, 55, 89, 144, 233, 377]"
      ]
     },
     "execution_count": 1,
     "metadata": {},
     "output_type": "execute_result"
    }
   ],
   "source": [
    "def fibonacci_recur(n):\n",
    "    if n in {0,1}:\n",
    "        return n\n",
    "    return fibonacci_recur(n-1) + fibonacci_recur(n-2)\n",
    "[fibonacci_recur(n) for n in range(15)]"
   ]
  },
  {
   "cell_type": "code",
   "execution_count": 2,
   "id": "96f7b735",
   "metadata": {
    "execution": {
     "iopub.execute_input": "2023-03-22T23:55:34.487839Z",
     "iopub.status.busy": "2023-03-22T23:55:34.487154Z",
     "iopub.status.idle": "2023-03-22T23:55:34.495623Z",
     "shell.execute_reply": "2023-03-22T23:55:34.494177Z"
    },
    "papermill": {
     "duration": 0.014816,
     "end_time": "2023-03-22T23:55:34.498121",
     "exception": false,
     "start_time": "2023-03-22T23:55:34.483305",
     "status": "completed"
    },
    "tags": []
   },
   "outputs": [
    {
     "data": {
      "text/plain": [
       "[0, 1, 1, 2, 3, 5, 8, 13, 21, 34, 55, 89, 144, 233, 377]"
      ]
     },
     "execution_count": 2,
     "metadata": {},
     "output_type": "execute_result"
    }
   ],
   "source": [
    "def fibonacci_iter(n):\n",
    "    a,b = 0,1\n",
    "    for i in range(0,n):\n",
    "        a,b = b, a+b\n",
    "    return a\n",
    "[fibonacci_iter(n) for n in range(15)]\n",
    "        \n",
    "    \n",
    "        "
   ]
  },
  {
   "cell_type": "markdown",
   "id": "e33f37cc",
   "metadata": {
    "papermill": {
     "duration": 0.002329,
     "end_time": "2023-03-22T23:55:34.503252",
     "exception": false,
     "start_time": "2023-03-22T23:55:34.500923",
     "status": "completed"
    },
    "tags": []
   },
   "source": [
    "Bubble Sort"
   ]
  },
  {
   "cell_type": "code",
   "execution_count": 3,
   "id": "1e7b732f",
   "metadata": {
    "execution": {
     "iopub.execute_input": "2023-03-22T23:55:34.510268Z",
     "iopub.status.busy": "2023-03-22T23:55:34.509847Z",
     "iopub.status.idle": "2023-03-22T23:55:34.518240Z",
     "shell.execute_reply": "2023-03-22T23:55:34.516124Z"
    },
    "papermill": {
     "duration": 0.015221,
     "end_time": "2023-03-22T23:55:34.520949",
     "exception": false,
     "start_time": "2023-03-22T23:55:34.505728",
     "status": "completed"
    },
    "tags": []
   },
   "outputs": [
    {
     "name": "stdout",
     "output_type": "stream",
     "text": [
      "[34, 25, 12, 22, 11, 64, 5, 1, 90]\n",
      "[25, 12, 22, 11, 34, 5, 1, 64, 90]\n",
      "[12, 22, 11, 25, 5, 1, 34, 64, 90]\n",
      "[12, 11, 22, 5, 1, 25, 34, 64, 90]\n",
      "[11, 12, 5, 1, 22, 25, 34, 64, 90]\n",
      "[11, 5, 1, 12, 22, 25, 34, 64, 90]\n",
      "[5, 1, 11, 12, 22, 25, 34, 64, 90]\n",
      "[1, 5, 11, 12, 22, 25, 34, 64, 90]\n",
      "[1, 5, 11, 12, 22, 25, 34, 64, 90]\n"
     ]
    }
   ],
   "source": [
    "def bubbleSort(tab):\n",
    "    \n",
    "    for y in range(len(tab)):\n",
    "        for x in range(len(tab)-y-1):\n",
    "\n",
    "            #print('tab',tab[x-1])\n",
    "            if  tab[x]>tab[x+1]:\n",
    "                tab[x],tab[x+1] = tab[x+1],tab[x]\n",
    "        print(tab)    \n",
    "arr = [64, 34, 25, 12, 22, 11, 90, 5, 1]\n",
    "bubbleSort(arr)"
   ]
  },
  {
   "cell_type": "markdown",
   "id": "31f66a8c",
   "metadata": {
    "papermill": {
     "duration": 0.002426,
     "end_time": "2023-03-22T23:55:34.526291",
     "exception": false,
     "start_time": "2023-03-22T23:55:34.523865",
     "status": "completed"
    },
    "tags": []
   },
   "source": [
    "Binary Sort"
   ]
  },
  {
   "cell_type": "code",
   "execution_count": 4,
   "id": "0f385def",
   "metadata": {
    "execution": {
     "iopub.execute_input": "2023-03-22T23:55:34.533653Z",
     "iopub.status.busy": "2023-03-22T23:55:34.533249Z",
     "iopub.status.idle": "2023-03-22T23:55:34.543028Z",
     "shell.execute_reply": "2023-03-22T23:55:34.542127Z"
    },
    "papermill": {
     "duration": 0.016248,
     "end_time": "2023-03-22T23:55:34.545327",
     "exception": false,
     "start_time": "2023-03-22T23:55:34.529079",
     "status": "completed"
    },
    "tags": []
   },
   "outputs": [
    {
     "name": "stdout",
     "output_type": "stream",
     "text": [
      "1 90 22\n",
      "right side 25 90 22\n",
      "25 90 34\n",
      "right side 64 90 34\n",
      "64 90 64\n",
      "right side 90 90 64\n",
      "90 90 90\n"
     ]
    },
    {
     "data": {
      "text/plain": [
       "8"
      ]
     },
     "execution_count": 4,
     "metadata": {},
     "output_type": "execute_result"
    }
   ],
   "source": [
    "def binarySort(tab,n):\n",
    "    left = tab[0]\n",
    "    right = tab[-1]\n",
    "    while left<=right:\n",
    "        mid = tab[int((tab.index(left)+tab.index(right))/2)]\n",
    "        print(left,right,mid)\n",
    "        if mid == n:\n",
    "            return tab.index(mid)\n",
    "        if n<mid:\n",
    "            right = tab[tab.index(mid)-1]\n",
    "            print(\"left side\",left,right,mid)\n",
    "        else:\n",
    "            left = tab[tab.index(mid)+1]\n",
    "            print(\"right side\",left,right,mid)\n",
    "    return \"Number not found in list\"\n",
    "binarySort(arr,90)"
   ]
  },
  {
   "cell_type": "code",
   "execution_count": null,
   "id": "cd958779",
   "metadata": {
    "papermill": {
     "duration": 0.002566,
     "end_time": "2023-03-22T23:55:34.550935",
     "exception": false,
     "start_time": "2023-03-22T23:55:34.548369",
     "status": "completed"
    },
    "tags": []
   },
   "outputs": [],
   "source": []
  }
 ],
 "metadata": {
  "kernelspec": {
   "display_name": "Python 3",
   "language": "python",
   "name": "python3"
  },
  "language_info": {
   "codemirror_mode": {
    "name": "ipython",
    "version": 3
   },
   "file_extension": ".py",
   "mimetype": "text/x-python",
   "name": "python",
   "nbconvert_exporter": "python",
   "pygments_lexer": "ipython3",
   "version": "3.7.12"
  },
  "papermill": {
   "default_parameters": {},
   "duration": 10.185717,
   "end_time": "2023-03-22T23:55:34.774277",
   "environment_variables": {},
   "exception": null,
   "input_path": "__notebook__.ipynb",
   "output_path": "__notebook__.ipynb",
   "parameters": {},
   "start_time": "2023-03-22T23:55:24.588560",
   "version": "2.4.0"
  }
 },
 "nbformat": 4,
 "nbformat_minor": 5
}
