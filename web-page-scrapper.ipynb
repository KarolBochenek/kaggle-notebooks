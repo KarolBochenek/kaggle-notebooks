{
 "cells": [
  {
   "cell_type": "markdown",
   "id": "4445913f",
   "metadata": {
    "papermill": {
     "duration": 0.003486,
     "end_time": "2023-04-18T22:45:47.892678",
     "exception": false,
     "start_time": "2023-04-18T22:45:47.889192",
     "status": "completed"
    },
    "tags": []
   },
   "source": [
    "## Web scrapper"
   ]
  },
  {
   "cell_type": "markdown",
   "id": "159f8fe7",
   "metadata": {
    "papermill": {
     "duration": 0.001964,
     "end_time": "2023-04-18T22:45:47.897406",
     "exception": false,
     "start_time": "2023-04-18T22:45:47.895442",
     "status": "completed"
    },
    "tags": []
   },
   "source": [
    "### First working solution, scrapping only the links and saving as csv"
   ]
  },
  {
   "cell_type": "code",
   "execution_count": 1,
   "id": "ab0292e4",
   "metadata": {
    "execution": {
     "iopub.execute_input": "2023-04-18T22:45:47.904565Z",
     "iopub.status.busy": "2023-04-18T22:45:47.903719Z",
     "iopub.status.idle": "2023-04-18T22:45:48.223131Z",
     "shell.execute_reply": "2023-04-18T22:45:48.221724Z"
    },
    "papermill": {
     "duration": 0.326897,
     "end_time": "2023-04-18T22:45:48.226435",
     "exception": false,
     "start_time": "2023-04-18T22:45:47.899538",
     "status": "completed"
    },
    "tags": []
   },
   "outputs": [
    {
     "name": "stdout",
     "output_type": "stream",
     "text": [
      "status code:  200\n",
      "Last night in Sweden\n"
     ]
    }
   ],
   "source": [
    "import requests\n",
    "import pandas as pd\n",
    "import numpy as np\n",
    "from bs4 import BeautifulSoup\n",
    "\n",
    "page = requests.get('https://lastnight.in/Sweden/#page-top')\n",
    "print('status code: ',page.status_code)\n",
    "soup = BeautifulSoup(page.content, 'html.parser')\n",
    "\n",
    "# Extract title of page\n",
    "page_title = soup.title.text\n",
    "\n",
    "# print the result\n",
    "print(page_title)\n",
    "\n",
    "links = []\n",
    "for a in soup.find_all('a', href=True):\n",
    "        if a['href'][0:8]=='https://':\n",
    "            links.append(a['href'])\n",
    "            \n",
    "links_distinct = []\n",
    "[links_distinct.append(x) for x in links if x not in links_distinct]\n",
    "links_distinct.remove('https://twitter.com/InLastnight')\n",
    "\n",
    "\n",
    "links_distinct.insert(0,'link')\n",
    "np.savetxt(\"LastNightInSweden.csv\", \n",
    "           links_distinct,\n",
    "           delimiter =\", \", \n",
    "           fmt ='% s')"
   ]
  },
  {
   "cell_type": "markdown",
   "id": "da04e2ef",
   "metadata": {
    "papermill": {
     "duration": 0.002066,
     "end_time": "2023-04-18T22:45:48.231422",
     "exception": false,
     "start_time": "2023-04-18T22:45:48.229356",
     "status": "completed"
    },
    "tags": []
   },
   "source": [
    "### Improving the solution with date, icons and location"
   ]
  },
  {
   "cell_type": "code",
   "execution_count": 2,
   "id": "641568a1",
   "metadata": {
    "execution": {
     "iopub.execute_input": "2023-04-18T22:45:48.238578Z",
     "iopub.status.busy": "2023-04-18T22:45:48.237619Z",
     "iopub.status.idle": "2023-04-18T22:45:48.247834Z",
     "shell.execute_reply": "2023-04-18T22:45:48.246371Z"
    },
    "papermill": {
     "duration": 0.016647,
     "end_time": "2023-04-18T22:45:48.250281",
     "exception": false,
     "start_time": "2023-04-18T22:45:48.233634",
     "status": "completed"
    },
    "tags": []
   },
   "outputs": [
    {
     "data": {
      "text/plain": [
       "[<i class=\"icon-menu\"></i>,\n",
       " <i class=\"icon-bomb\"></i>,\n",
       " <i class=\"icon-cross\"></i>,\n",
       " <i class=\"icon-aid-kit\"></i>,\n",
       " <i class=\"icon-share\"></i>,\n",
       " <i class=\"icon-gun\"></i>,\n",
       " <i class=\"icon-cross\"></i>,\n",
       " <i class=\"icon-aid-kit\"></i>,\n",
       " <i class=\"icon-share\"></i>,\n",
       " <i class=\"icon-gun\"></i>,\n",
       " <i class=\"icon-cross\"></i>,\n",
       " <i class=\"icon-aid-kit\"></i>,\n",
       " <i class=\"icon-share\"></i>,\n",
       " <i class=\"icon-gun\"></i>,\n",
       " <i class=\"icon-cross\"></i>,\n",
       " <i class=\"icon-aid-kit\"></i>,\n",
       " <i class=\"icon-share\"></i>,\n",
       " <i class=\"icon-gun\"></i>,\n",
       " <i class=\"icon-cross\"></i>,\n",
       " <i class=\"icon-aid-kit\"></i>,\n",
       " <i class=\"icon-share\"></i>,\n",
       " <i class=\"icon-angle-double-down animated\"></i>,\n",
       " <i class=\"icon-twitter\"></i>,\n",
       " <i class=\"icon-envelope\"></i>]"
      ]
     },
     "execution_count": 2,
     "metadata": {},
     "output_type": "execute_result"
    }
   ],
   "source": [
    "icons = soup.find_all('i')\n",
    "icons"
   ]
  },
  {
   "cell_type": "code",
   "execution_count": null,
   "id": "744b1606",
   "metadata": {
    "papermill": {
     "duration": 0.002119,
     "end_time": "2023-04-18T22:45:48.254937",
     "exception": false,
     "start_time": "2023-04-18T22:45:48.252818",
     "status": "completed"
    },
    "tags": []
   },
   "outputs": [],
   "source": []
  }
 ],
 "metadata": {
  "kernelspec": {
   "display_name": "Python 3",
   "language": "python",
   "name": "python3"
  },
  "language_info": {
   "codemirror_mode": {
    "name": "ipython",
    "version": 3
   },
   "file_extension": ".py",
   "mimetype": "text/x-python",
   "name": "python",
   "nbconvert_exporter": "python",
   "pygments_lexer": "ipython3",
   "version": "3.7.12"
  },
  "papermill": {
   "default_parameters": {},
   "duration": 11.512,
   "end_time": "2023-04-18T22:45:48.978726",
   "environment_variables": {},
   "exception": null,
   "input_path": "__notebook__.ipynb",
   "output_path": "__notebook__.ipynb",
   "parameters": {},
   "start_time": "2023-04-18T22:45:37.466726",
   "version": "2.4.0"
  }
 },
 "nbformat": 4,
 "nbformat_minor": 5
}
