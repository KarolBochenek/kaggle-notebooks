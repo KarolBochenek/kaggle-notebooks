{
 "cells": [
  {
   "cell_type": "code",
   "execution_count": null,
   "id": "d060c92c",
   "metadata": {
    "papermill": {
     "duration": 0.005924,
     "end_time": "2023-04-17T15:40:14.505298",
     "exception": false,
     "start_time": "2023-04-17T15:40:14.499374",
     "status": "completed"
    },
    "tags": []
   },
   "outputs": [],
   "source": []
  },
  {
   "cell_type": "code",
   "execution_count": 1,
   "id": "da7d1aba",
   "metadata": {
    "_cell_guid": "b1076dfc-b9ad-4769-8c92-a6c4dae69d19",
    "_uuid": "8f2839f25d086af736a60e9eeb907d3b93b6e0e5",
    "execution": {
     "iopub.execute_input": "2023-04-17T15:40:14.517144Z",
     "iopub.status.busy": "2023-04-17T15:40:14.516743Z",
     "iopub.status.idle": "2023-04-17T15:40:14.526003Z",
     "shell.execute_reply": "2023-04-17T15:40:14.525072Z"
    },
    "papermill": {
     "duration": 0.017954,
     "end_time": "2023-04-17T15:40:14.528241",
     "exception": false,
     "start_time": "2023-04-17T15:40:14.510287",
     "status": "completed"
    },
    "tags": []
   },
   "outputs": [],
   "source": [
    "import pandas as pd\n",
    "from urllib.request import urlopen"
   ]
  },
  {
   "cell_type": "code",
   "execution_count": 2,
   "id": "7254bcba",
   "metadata": {
    "execution": {
     "iopub.execute_input": "2023-04-17T15:40:14.540289Z",
     "iopub.status.busy": "2023-04-17T15:40:14.539634Z",
     "iopub.status.idle": "2023-04-17T15:40:14.808600Z",
     "shell.execute_reply": "2023-04-17T15:40:14.807351Z"
    },
    "papermill": {
     "duration": 0.279145,
     "end_time": "2023-04-17T15:40:14.812318",
     "exception": false,
     "start_time": "2023-04-17T15:40:14.533173",
     "status": "completed"
    },
    "tags": []
   },
   "outputs": [
    {
     "name": "stdout",
     "output_type": "stream",
     "text": [
      "status code:  200\n"
     ]
    }
   ],
   "source": [
    "import requests\n",
    "\n",
    "res = requests.get('https://lastnight.in/Sweden/#page-top')\n",
    "\n",
    "#print('text: ',res.text)\n",
    "print('status code: ',res.status_code)"
   ]
  },
  {
   "cell_type": "code",
   "execution_count": 3,
   "id": "9cb867c7",
   "metadata": {
    "execution": {
     "iopub.execute_input": "2023-04-17T15:40:14.824421Z",
     "iopub.status.busy": "2023-04-17T15:40:14.823593Z",
     "iopub.status.idle": "2023-04-17T15:40:15.273499Z",
     "shell.execute_reply": "2023-04-17T15:40:15.272082Z"
    },
    "papermill": {
     "duration": 0.459862,
     "end_time": "2023-04-17T15:40:15.277179",
     "exception": false,
     "start_time": "2023-04-17T15:40:14.817317",
     "status": "completed"
    },
    "tags": []
   },
   "outputs": [
    {
     "name": "stdout",
     "output_type": "stream",
     "text": [
      "Last night in Sweden\n"
     ]
    }
   ],
   "source": [
    "from bs4 import BeautifulSoup\n",
    "\n",
    "page = requests.get('https://lastnight.in/Sweden/#page-top')\n",
    "soup = BeautifulSoup(page.content, 'html.parser')\n",
    "\n",
    "# Extract title of page\n",
    "page_title = soup.title.text\n",
    "\n",
    "# print the result\n",
    "print(page_title)"
   ]
  },
  {
   "cell_type": "code",
   "execution_count": 4,
   "id": "6590f798",
   "metadata": {
    "execution": {
     "iopub.execute_input": "2023-04-17T15:40:15.289471Z",
     "iopub.status.busy": "2023-04-17T15:40:15.288837Z",
     "iopub.status.idle": "2023-04-17T15:40:15.404216Z",
     "shell.execute_reply": "2023-04-17T15:40:15.402893Z"
    },
    "papermill": {
     "duration": 0.125133,
     "end_time": "2023-04-17T15:40:15.407655",
     "exception": false,
     "start_time": "2023-04-17T15:40:15.282522",
     "status": "completed"
    },
    "tags": []
   },
   "outputs": [
    {
     "name": "stdout",
     "output_type": "stream",
     "text": [
      "<body id=\"page-top\">\n",
      "<nav class=\"navbar navbar-expand-lg navbar-light fixed-top\" id=\"mainNav\">\n",
      "<div class=\"container\">\n",
      "<a class=\"navbar-brand js-scroll-trigger\" href=\"/Sweden/#page-top\">#lastnightinsweden</a>\n",
      "<button aria-controls=\"navbarResponsive\" aria-expanded=\"false\" aria-label=\"Toggle navigation\" class=\"navbar-toggler navbar-toggler-right\" data-target=\"#navbarResponsive\" data-toggle=\"collapse\" type=\"button\">\n",
      "<i class=\"icon-menu\"></i>\n",
      "</button>\n",
      "<div class=\"collapse navbar-collapse\" id=\"navbarResponsive\">\n",
      "<ul class=\"navbar-nav ml-auto\">\n",
      "<li class=\"nav-item\">\n",
      "<a class=\"nav-link js-scroll-trigger\" href=\"#about\">About</a>\n",
      "</li>\n",
      "<li class=\"nav-item\">\n",
      "<a class=\"nav-link js-scroll-trigger\" href=\"#facts\">Facts</a>\n",
      "</li>\n",
      "<li class=\"nav-item\">\n",
      "<a class=\"nav-link js-scroll-trigger\" href=\"#contact\">Contact</a>\n",
      "</li>\n",
      "</ul>\n",
      "</div>\n",
      "</div>\n",
      "</nav>\n",
      "<header class=\"masthead\">\n",
      "<div class=\"intro-body\">\n",
      "<div class=\"container\">\n",
      "<div class=\"row\">\n",
      "<div class=\"col-lg-8 mx-auto\">\n",
      "<h1 class=\"brand-heading visible-heading\">#lastnightinsweden</h1>\n",
      "<p class=\"intro-text\">\n",
      "Sweden is not as dangerous as some people want us to think. Let the facts speak for themselves instead of listening to #fakenews.\n",
      "</p>\n",
      "<div class=\"card\">\n",
      "<div class=\"card-body\">\n",
      "<h3 class=\"card-title\">\n",
      "There has been <strong>2</strong> days since the last major incident\n",
      "</h3>\n",
      "<p class=\"card-text\">\n",
      "The last major incident<sup>*</sup> was a shooting that took place in <a href=\"/Stockholm\">Stockholm</a>, <a href=\"/Älta\">Älta</a>.\n",
      "Nobody was injured in the incident.\n",
      "<a href=\"https://www.svt.se/nyheter/lokalt/stockholm/skottlossning-i-alta-centrum-stor-polisinsats-pagar\" rel=\"noopener\" target=\"_blank\">Source</a>\n",
      "</p>\n",
      "<h5>Latest incidents in Sweden</h5>\n",
      "<table class=\"table table-borderless table-sm\">\n",
      "<tbody>\n",
      "<tr>\n",
      "<td>\n",
      "April 14\n",
      "</td>\n",
      "<td>\n",
      "<i class=\"icon-gun\"></i>\n",
      "</td>\n",
      "<td>\n",
      "<a href=\"/Stockholm\">Stockholm</a>, <a href=\"/Älta\">Älta</a>\n",
      "</td>\n",
      "<td class=\"d-none d-lg-table-cell\">\n",
      "</td>\n",
      "<td class=\"d-lg-none\">\n",
      "<i class=\"icon-cross\"></i> x 0\n",
      "</td>\n",
      "<td class=\"d-lg-none\">\n",
      "<i class=\"icon-aid-kit\"></i> x 0\n",
      "</td>\n",
      "<td class=\"d-none d-lg-table-cell\">\n",
      "<a href=\"https://www.svt.se/nyheter/lokalt/stockholm/skottlossning-i-alta-centrum-stor-polisinsats-pagar\" rel=\"noopener\" target=\"_blank\">Source</a>\n",
      "</td>\n",
      "<td class=\"d-lg-none\">\n",
      "<a href=\"https://www.svt.se/nyheter/lokalt/stockholm/skottlossning-i-alta-centrum-stor-polisinsats-pagar\" rel=\"noopener\" target=\"_blank\"><i class=\"icon-share\"></i></a>\n",
      "</td>\n",
      "</tr>\n",
      "<tr>\n",
      "<td>\n",
      "April 14\n",
      "</td>\n",
      "<td>\n",
      "<i class=\"icon-gun\"></i>\n",
      "</td>\n",
      "<td>\n",
      "<a href=\"/Västerås\">Västerås</a>\n",
      "</td>\n",
      "<td class=\"d-none d-lg-table-cell\">\n",
      "</td>\n",
      "<td class=\"d-lg-none\">\n",
      "<i class=\"icon-cross\"></i> x 0\n",
      "</td>\n",
      "<td class=\"d-lg-none\">\n",
      "<i class=\"icon-aid-kit\"></i> x 0\n",
      "</td>\n",
      "<td class=\"d-none d-lg-table-cell\">\n",
      "<a href=\"https://www.svt.se/nyheter/lokalt/vastmanland/bostad-i-vasteras-beskjuten\" rel=\"noopener\" target=\"_blank\">Source</a>\n",
      "</td>\n",
      "<td class=\"d-lg-none\">\n",
      "<a href=\"https://www.svt.se/nyheter/lokalt/vastmanland/bostad-i-vasteras-beskjuten\" rel=\"noopener\" target=\"_blank\"><i class=\"icon-share\"></i></a>\n",
      "</td>\n",
      "</tr>\n",
      "<tr>\n",
      "<td>\n",
      "April 14\n",
      "</td>\n",
      "<td>\n",
      "<i class=\"icon-gun\"></i>\n",
      "</td>\n",
      "<td>\n",
      "<a href=\"/Stockholm\">Stockholm</a>, <a href=\"/Rågsved\">Rågsved</a>\n",
      "</td>\n",
      "<td class=\"d-none d-lg-table-cell\">\n",
      "One dead\n",
      "</td>\n",
      "<td class=\"d-lg-none\">\n",
      "<i class=\"icon-cross\"></i> x 1\n",
      "</td>\n",
      "<td class=\"d-lg-none\">\n",
      "<i class=\"icon-aid-kit\"></i> x 0\n",
      "</td>\n",
      "<td class=\"d-none d-lg-table-cell\">\n",
      "<a href=\"https://www.svt.se/nyheter/lokalt/stockholm/misstankt-skottlossning-i-ragsved-person-hittad-skadad\" rel=\"noopener\" target=\"_blank\">Source</a>\n",
      "</td>\n",
      "<td class=\"d-lg-none\">\n",
      "<a href=\"https://www.svt.se/nyheter/lokalt/stockholm/misstankt-skottlossning-i-ragsved-person-hittad-skadad\" rel=\"noopener\" target=\"_blank\"><i class=\"icon-share\"></i></a>\n",
      "</td>\n",
      "</tr>\n",
      "<tr>\n",
      "<td>\n",
      "April 12\n",
      "</td>\n",
      "<td>\n",
      "<i class=\"icon-gun\"></i>\n",
      "</td>\n",
      "<td>\n",
      "<a href=\"/Vadstena\">Vadstena</a>\n",
      "</td>\n",
      "<td class=\"d-none d-lg-table-cell\">\n",
      "</td>\n",
      "<td class=\"d-lg-none\">\n",
      "<i class=\"icon-cross\"></i> x 0\n",
      "</td>\n",
      "<td class=\"d-lg-none\">\n",
      "<i class=\"icon-aid-kit\"></i> x 0\n",
      "</td>\n",
      "<td class=\"d-none d-lg-table-cell\">\n",
      "<a href=\"https://www.svt.se/nyheter/lokalt/ost/skott-genom-fonster-in-i-bostad-i-vadstena-i-natt\" rel=\"noopener\" target=\"_blank\">Source</a>\n",
      "</td>\n",
      "<td class=\"d-lg-none\">\n",
      "<a href=\"https://www.svt.se/nyheter/lokalt/ost/skott-genom-fonster-in-i-bostad-i-vadstena-i-natt\" rel=\"noopener\" target=\"_blank\"><i class=\"icon-share\"></i></a>\n",
      "</td>\n",
      "</tr>\n",
      "<tr>\n",
      "<td>\n",
      "April 11\n",
      "</td>\n",
      "<td>\n",
      "<i class=\"icon-bomb\"></i>\n",
      "</td>\n",
      "<td>\n",
      "<a href=\"/Hässleholm\">Hässleholm</a>\n",
      "</td>\n",
      "<td class=\"d-none d-lg-table-cell\">\n",
      "</td>\n",
      "<td class=\"d-lg-none\">\n",
      "<i class=\"icon-cross\"></i> x 0\n",
      "</td>\n",
      "<td class=\"d-lg-none\">\n",
      "<i class=\"icon-aid-kit\"></i> x 0\n",
      "</td>\n",
      "<td class=\"d-none d-lg-table-cell\">\n",
      "<a href=\"https://www.svt.se/nyheter/lokalt/skane/explosion-i-hassleholm\" rel=\"noopener\" target=\"_blank\">Source</a>\n",
      "</td>\n",
      "<td class=\"d-lg-none\">\n",
      "<a href=\"https://www.svt.se/nyheter/lokalt/skane/explosion-i-hassleholm\" rel=\"noopener\" target=\"_blank\"><i class=\"icon-share\"></i></a>\n",
      "</td>\n",
      "</tr>\n",
      "</tbody>\n",
      "</table>\n",
      "<sup>*</sup><small>Shooting, lethal stabbing or bombing</small>\n",
      "</div>\n",
      "</div>\n",
      "<a class=\"btn btn-circle js-scroll-trigger\" href=\"#about\">\n",
      "<i class=\"icon-angle-double-down animated\"></i>\n",
      "</a>\n",
      "</div>\n",
      "</div>\n",
      "</div>\n",
      "</div>\n",
      "</header>\n",
      "<section class=\"content-section about-section text-center\" id=\"about\">\n",
      "<div class=\"container\">\n",
      "<div class=\"row\">\n",
      "<div class=\"col-lg-8 mx-auto\">\n",
      "<h2 class=\"visible-heading\">About #lastnightinsweden</h2>\n",
      "<p>In february 2017, a mere four weeks after being elected the president of the United States, Donald Trump held his infamous \"Last night in Sweden\" speech. He left an entire world puzzled, wondering what he was talking about. The peaceful nation of Sweden with its tolerant people was upset by this attempt to make cheap political points on behalf of their peaceful nation.</p>\n",
      "<p>The day after the hate mongering presidents speech the swedish people gathered under the #lastnightinsweden hashtag and filled social media with the true picture of what happened in Sweden that famous night. Which was - nothing in particular.</p>\n",
      "<p>This web site picks up the thread where the social media activity for the #lastnightinsweden hashtag left off.</p>\n",
      "<p>We are here to tell you what happened in sweden that very night, and all the nights following. By turning our back on the so called \"alternative media\", only reporting from trusted sources our mission is to bring you real facts about our wonderful country. Our goal is to keep the fake news at bay by bringing only the truth.</p>\n",
      "<p>If you like this initiative, please share it on social media and follow us on <a href=\"https://twitter.com/InLastnight\" ref=\"noopener\" target=\"_blank\">Twitter</a>.</p>\n",
      "</div>\n",
      "</div>\n",
      "</div>\n",
      "</section>\n",
      "<section class=\"content-section facts-section text-center\" id=\"facts\">\n",
      "<div class=\"container\">\n",
      "<div class=\"row\">\n",
      "<div class=\"col-lg-8 mx-auto\">\n",
      "<h2 class=\"visible-heading\">Facts</h2>\n",
      "<p class=\"intro-text\">\n",
      "Help us out by sharing your story! Should you stumble upon a reliable source reporting about anything of the following, please pass it on to us<sup>*</sup>.\n",
      "<ul class=\"intro-text\">\n",
      "<li>Shooting\n",
      "<li>Lethal stabbing\n",
      "<li>Bombing or explosion\n",
      "</li></li></li></ul>\n",
      "</p>\n",
      "<a class=\"btn btn-default btn-lg\" data-target=\"#submitFacts\" data-toggle=\"modal\" href=\"#\" id=\"submit-facts-form\">Submit facts</a>\n",
      "<p class=\"intro-text\"><small><sup>*</sup>All reports of incidents are subject to manual approval before being published</small></p>\n",
      "</div>\n",
      "</div>\n",
      "</div>\n",
      "</section>\n",
      "<section class=\"content-section contact-section text-center\" id=\"contact\">\n",
      "<div class=\"container\">\n",
      "<div class=\"row\">\n",
      "<div class=\"col-lg-8 mx-auto\">\n",
      "<h2 class=\"visible-heading\">Contact #lastnightinsweden</h2>\n",
      "<p>We would love to hear from you if you have any questions or comments about this web site. Follow us on <a href=\"https://twitter.com/InLastnight\">Twitter</a> to get the latest news and updates from us.</p>\n",
      "<ul class=\"list-inline banner-social-buttons\">\n",
      "<li class=\"list-inline-item\">\n",
      "<a class=\"btn btn-default btn-lg\" href=\"https://twitter.com/InLastnight\">\n",
      "<i class=\"icon-twitter\"></i>\n",
      "<span class=\"network-name\">Twitter</span>\n",
      "</a>\n",
      "</li>\n",
      "<li class=\"list-inline-item\">\n",
      "<a class=\"btn btn-default btn-lg\" href=\"#\" id=\"contact-form-link\">\n",
      "<i class=\"icon-envelope\"></i>\n",
      "<span class=\"network-name\">Mail</span>\n",
      "</a>\n",
      "</li>\n",
      "</ul>\n",
      "</div>\n",
      "</div>\n",
      "</div>\n",
      "</section>\n",
      "<div aria-hidden=\"true\" aria-labelledby=\"submitFactsTitle\" class=\"modal fade\" id=\"submitFacts\" role=\"dialog\" tabindex=\"-1\">\n",
      "<div class=\"modal-dialog\" role=\"document\">\n",
      "<div class=\"modal-content\">\n",
      "<div class=\"modal-header\">\n",
      "<h5 class=\"modal-title\" id=\"submitFactsTitle\">Submit new incident</h5>\n",
      "<button aria-label=\"Close\" class=\"close\" data-dismiss=\"modal\" type=\"button\">\n",
      "<span aria-hidden=\"true\">×</span>\n",
      "</button>\n",
      "</div>\n",
      "<div class=\"modal-body\">\n",
      "Loading ...\n",
      "</div>\n",
      "</div>\n",
      "</div>\n",
      "</div>\n",
      "<footer class=\"site-footer\">\n",
      "<div class=\"container text-center\">\n",
      "<p>© 2018 #lastnightinsweden - Design by <span class=\"it-logo\"><b>Indigo</b>Titty</span></p>\n",
      "</div>\n",
      "</footer>\n",
      "<script src=\"/static/CACHE/js/213b084b465b.js\" type=\"text/javascript\"></script>\n",
      "</body>\n"
     ]
    }
   ],
   "source": [
    "# Extract body of page\n",
    "page_body = soup.body\n",
    "\n",
    "# Extract head of page\n",
    "page_head = soup.head\n",
    "\n",
    "# print the result\n",
    "print(page_body)"
   ]
  },
  {
   "cell_type": "code",
   "execution_count": 5,
   "id": "df7c3602",
   "metadata": {
    "execution": {
     "iopub.execute_input": "2023-04-17T15:40:15.421212Z",
     "iopub.status.busy": "2023-04-17T15:40:15.420803Z",
     "iopub.status.idle": "2023-04-17T15:40:15.432887Z",
     "shell.execute_reply": "2023-04-17T15:40:15.431459Z"
    },
    "papermill": {
     "duration": 0.021794,
     "end_time": "2023-04-17T15:40:15.435346",
     "exception": false,
     "start_time": "2023-04-17T15:40:15.413552",
     "status": "completed"
    },
    "tags": []
   },
   "outputs": [
    {
     "name": "stdout",
     "output_type": "stream",
     "text": [
      "['#lastnightinsweden', 'About', 'Facts', 'Contact', 'Stockholm', 'Älta', 'Source', 'Stockholm', 'Älta', 'Source', '', 'Västerås', 'Source', '', 'Stockholm', 'Rågsved', 'Source', '', 'Vadstena', 'Source', '', 'Hässleholm', 'Source', '', '\\n\\n', 'Twitter', 'Submit facts', 'Twitter', '\\n\\nTwitter\\n', '\\n\\nMail\\n']\n"
     ]
    }
   ],
   "source": [
    "first_a = soup.select('a')[0].text\n",
    "all_as = []\n",
    "for elem in soup.select('a'):\n",
    "    all_as.append(elem.text)\n",
    "print (all_as)"
   ]
  },
  {
   "cell_type": "code",
   "execution_count": 6,
   "id": "c348bdc1",
   "metadata": {
    "execution": {
     "iopub.execute_input": "2023-04-17T15:40:15.448880Z",
     "iopub.status.busy": "2023-04-17T15:40:15.447713Z",
     "iopub.status.idle": "2023-04-17T15:40:15.456260Z",
     "shell.execute_reply": "2023-04-17T15:40:15.454860Z"
    },
    "papermill": {
     "duration": 0.018044,
     "end_time": "2023-04-17T15:40:15.458970",
     "exception": false,
     "start_time": "2023-04-17T15:40:15.440926",
     "status": "completed"
    },
    "tags": []
   },
   "outputs": [],
   "source": [
    "card_body = soup.select('div.card-body')"
   ]
  },
  {
   "cell_type": "code",
   "execution_count": 7,
   "id": "b2de1fb5",
   "metadata": {
    "execution": {
     "iopub.execute_input": "2023-04-17T15:40:15.471772Z",
     "iopub.status.busy": "2023-04-17T15:40:15.471326Z",
     "iopub.status.idle": "2023-04-17T15:40:15.482926Z",
     "shell.execute_reply": "2023-04-17T15:40:15.481532Z"
    },
    "papermill": {
     "duration": 0.021259,
     "end_time": "2023-04-17T15:40:15.485676",
     "exception": false,
     "start_time": "2023-04-17T15:40:15.464417",
     "status": "completed"
    },
    "tags": []
   },
   "outputs": [
    {
     "data": {
      "text/plain": [
       "[<div class=\"card-body\">\n",
       " <h3 class=\"card-title\">\n",
       " There has been <strong>2</strong> days since the last major incident\n",
       " </h3>\n",
       " <p class=\"card-text\">\n",
       " The last major incident<sup>*</sup> was a shooting that took place in <a href=\"/Stockholm\">Stockholm</a>, <a href=\"/Älta\">Älta</a>.\n",
       " Nobody was injured in the incident.\n",
       " <a href=\"https://www.svt.se/nyheter/lokalt/stockholm/skottlossning-i-alta-centrum-stor-polisinsats-pagar\" rel=\"noopener\" target=\"_blank\">Source</a>\n",
       " </p>\n",
       " <h5>Latest incidents in Sweden</h5>\n",
       " <table class=\"table table-borderless table-sm\">\n",
       " <tbody>\n",
       " <tr>\n",
       " <td>\n",
       " April 14\n",
       " </td>\n",
       " <td>\n",
       " <i class=\"icon-gun\"></i>\n",
       " </td>\n",
       " <td>\n",
       " <a href=\"/Stockholm\">Stockholm</a>, <a href=\"/Älta\">Älta</a>\n",
       " </td>\n",
       " <td class=\"d-none d-lg-table-cell\">\n",
       " </td>\n",
       " <td class=\"d-lg-none\">\n",
       " <i class=\"icon-cross\"></i> x 0\n",
       " </td>\n",
       " <td class=\"d-lg-none\">\n",
       " <i class=\"icon-aid-kit\"></i> x 0\n",
       " </td>\n",
       " <td class=\"d-none d-lg-table-cell\">\n",
       " <a href=\"https://www.svt.se/nyheter/lokalt/stockholm/skottlossning-i-alta-centrum-stor-polisinsats-pagar\" rel=\"noopener\" target=\"_blank\">Source</a>\n",
       " </td>\n",
       " <td class=\"d-lg-none\">\n",
       " <a href=\"https://www.svt.se/nyheter/lokalt/stockholm/skottlossning-i-alta-centrum-stor-polisinsats-pagar\" rel=\"noopener\" target=\"_blank\"><i class=\"icon-share\"></i></a>\n",
       " </td>\n",
       " </tr>\n",
       " <tr>\n",
       " <td>\n",
       " April 14\n",
       " </td>\n",
       " <td>\n",
       " <i class=\"icon-gun\"></i>\n",
       " </td>\n",
       " <td>\n",
       " <a href=\"/Västerås\">Västerås</a>\n",
       " </td>\n",
       " <td class=\"d-none d-lg-table-cell\">\n",
       " </td>\n",
       " <td class=\"d-lg-none\">\n",
       " <i class=\"icon-cross\"></i> x 0\n",
       " </td>\n",
       " <td class=\"d-lg-none\">\n",
       " <i class=\"icon-aid-kit\"></i> x 0\n",
       " </td>\n",
       " <td class=\"d-none d-lg-table-cell\">\n",
       " <a href=\"https://www.svt.se/nyheter/lokalt/vastmanland/bostad-i-vasteras-beskjuten\" rel=\"noopener\" target=\"_blank\">Source</a>\n",
       " </td>\n",
       " <td class=\"d-lg-none\">\n",
       " <a href=\"https://www.svt.se/nyheter/lokalt/vastmanland/bostad-i-vasteras-beskjuten\" rel=\"noopener\" target=\"_blank\"><i class=\"icon-share\"></i></a>\n",
       " </td>\n",
       " </tr>\n",
       " <tr>\n",
       " <td>\n",
       " April 14\n",
       " </td>\n",
       " <td>\n",
       " <i class=\"icon-gun\"></i>\n",
       " </td>\n",
       " <td>\n",
       " <a href=\"/Stockholm\">Stockholm</a>, <a href=\"/Rågsved\">Rågsved</a>\n",
       " </td>\n",
       " <td class=\"d-none d-lg-table-cell\">\n",
       " One dead\n",
       " </td>\n",
       " <td class=\"d-lg-none\">\n",
       " <i class=\"icon-cross\"></i> x 1\n",
       " </td>\n",
       " <td class=\"d-lg-none\">\n",
       " <i class=\"icon-aid-kit\"></i> x 0\n",
       " </td>\n",
       " <td class=\"d-none d-lg-table-cell\">\n",
       " <a href=\"https://www.svt.se/nyheter/lokalt/stockholm/misstankt-skottlossning-i-ragsved-person-hittad-skadad\" rel=\"noopener\" target=\"_blank\">Source</a>\n",
       " </td>\n",
       " <td class=\"d-lg-none\">\n",
       " <a href=\"https://www.svt.se/nyheter/lokalt/stockholm/misstankt-skottlossning-i-ragsved-person-hittad-skadad\" rel=\"noopener\" target=\"_blank\"><i class=\"icon-share\"></i></a>\n",
       " </td>\n",
       " </tr>\n",
       " <tr>\n",
       " <td>\n",
       " April 12\n",
       " </td>\n",
       " <td>\n",
       " <i class=\"icon-gun\"></i>\n",
       " </td>\n",
       " <td>\n",
       " <a href=\"/Vadstena\">Vadstena</a>\n",
       " </td>\n",
       " <td class=\"d-none d-lg-table-cell\">\n",
       " </td>\n",
       " <td class=\"d-lg-none\">\n",
       " <i class=\"icon-cross\"></i> x 0\n",
       " </td>\n",
       " <td class=\"d-lg-none\">\n",
       " <i class=\"icon-aid-kit\"></i> x 0\n",
       " </td>\n",
       " <td class=\"d-none d-lg-table-cell\">\n",
       " <a href=\"https://www.svt.se/nyheter/lokalt/ost/skott-genom-fonster-in-i-bostad-i-vadstena-i-natt\" rel=\"noopener\" target=\"_blank\">Source</a>\n",
       " </td>\n",
       " <td class=\"d-lg-none\">\n",
       " <a href=\"https://www.svt.se/nyheter/lokalt/ost/skott-genom-fonster-in-i-bostad-i-vadstena-i-natt\" rel=\"noopener\" target=\"_blank\"><i class=\"icon-share\"></i></a>\n",
       " </td>\n",
       " </tr>\n",
       " <tr>\n",
       " <td>\n",
       " April 11\n",
       " </td>\n",
       " <td>\n",
       " <i class=\"icon-bomb\"></i>\n",
       " </td>\n",
       " <td>\n",
       " <a href=\"/Hässleholm\">Hässleholm</a>\n",
       " </td>\n",
       " <td class=\"d-none d-lg-table-cell\">\n",
       " </td>\n",
       " <td class=\"d-lg-none\">\n",
       " <i class=\"icon-cross\"></i> x 0\n",
       " </td>\n",
       " <td class=\"d-lg-none\">\n",
       " <i class=\"icon-aid-kit\"></i> x 0\n",
       " </td>\n",
       " <td class=\"d-none d-lg-table-cell\">\n",
       " <a href=\"https://www.svt.se/nyheter/lokalt/skane/explosion-i-hassleholm\" rel=\"noopener\" target=\"_blank\">Source</a>\n",
       " </td>\n",
       " <td class=\"d-lg-none\">\n",
       " <a href=\"https://www.svt.se/nyheter/lokalt/skane/explosion-i-hassleholm\" rel=\"noopener\" target=\"_blank\"><i class=\"icon-share\"></i></a>\n",
       " </td>\n",
       " </tr>\n",
       " </tbody>\n",
       " </table>\n",
       " <sup>*</sup><small>Shooting, lethal stabbing or bombing</small>\n",
       " </div>]"
      ]
     },
     "execution_count": 7,
     "metadata": {},
     "output_type": "execute_result"
    }
   ],
   "source": [
    "card_body"
   ]
  },
  {
   "cell_type": "code",
   "execution_count": 8,
   "id": "4d0af213",
   "metadata": {
    "execution": {
     "iopub.execute_input": "2023-04-17T15:40:15.499691Z",
     "iopub.status.busy": "2023-04-17T15:40:15.499241Z",
     "iopub.status.idle": "2023-04-17T15:40:15.507964Z",
     "shell.execute_reply": "2023-04-17T15:40:15.506982Z"
    },
    "papermill": {
     "duration": 0.018633,
     "end_time": "2023-04-17T15:40:15.510200",
     "exception": false,
     "start_time": "2023-04-17T15:40:15.491567",
     "status": "completed"
    },
    "tags": []
   },
   "outputs": [
    {
     "data": {
      "text/plain": [
       "[<a class=\"navbar-brand js-scroll-trigger\" href=\"/Sweden/#page-top\">#lastnightinsweden</a>,\n",
       " <a class=\"nav-link js-scroll-trigger\" href=\"#about\">About</a>,\n",
       " <a class=\"nav-link js-scroll-trigger\" href=\"#facts\">Facts</a>,\n",
       " <a class=\"nav-link js-scroll-trigger\" href=\"#contact\">Contact</a>,\n",
       " <a href=\"/Stockholm\">Stockholm</a>,\n",
       " <a href=\"/Älta\">Älta</a>,\n",
       " <a href=\"https://www.svt.se/nyheter/lokalt/stockholm/skottlossning-i-alta-centrum-stor-polisinsats-pagar\" rel=\"noopener\" target=\"_blank\">Source</a>,\n",
       " <a href=\"/Stockholm\">Stockholm</a>,\n",
       " <a href=\"/Älta\">Älta</a>,\n",
       " <a href=\"https://www.svt.se/nyheter/lokalt/stockholm/skottlossning-i-alta-centrum-stor-polisinsats-pagar\" rel=\"noopener\" target=\"_blank\">Source</a>,\n",
       " <a href=\"https://www.svt.se/nyheter/lokalt/stockholm/skottlossning-i-alta-centrum-stor-polisinsats-pagar\" rel=\"noopener\" target=\"_blank\"><i class=\"icon-share\"></i></a>,\n",
       " <a href=\"/Västerås\">Västerås</a>,\n",
       " <a href=\"https://www.svt.se/nyheter/lokalt/vastmanland/bostad-i-vasteras-beskjuten\" rel=\"noopener\" target=\"_blank\">Source</a>,\n",
       " <a href=\"https://www.svt.se/nyheter/lokalt/vastmanland/bostad-i-vasteras-beskjuten\" rel=\"noopener\" target=\"_blank\"><i class=\"icon-share\"></i></a>,\n",
       " <a href=\"/Stockholm\">Stockholm</a>,\n",
       " <a href=\"/Rågsved\">Rågsved</a>,\n",
       " <a href=\"https://www.svt.se/nyheter/lokalt/stockholm/misstankt-skottlossning-i-ragsved-person-hittad-skadad\" rel=\"noopener\" target=\"_blank\">Source</a>,\n",
       " <a href=\"https://www.svt.se/nyheter/lokalt/stockholm/misstankt-skottlossning-i-ragsved-person-hittad-skadad\" rel=\"noopener\" target=\"_blank\"><i class=\"icon-share\"></i></a>,\n",
       " <a href=\"/Vadstena\">Vadstena</a>,\n",
       " <a href=\"https://www.svt.se/nyheter/lokalt/ost/skott-genom-fonster-in-i-bostad-i-vadstena-i-natt\" rel=\"noopener\" target=\"_blank\">Source</a>,\n",
       " <a href=\"https://www.svt.se/nyheter/lokalt/ost/skott-genom-fonster-in-i-bostad-i-vadstena-i-natt\" rel=\"noopener\" target=\"_blank\"><i class=\"icon-share\"></i></a>,\n",
       " <a href=\"/Hässleholm\">Hässleholm</a>,\n",
       " <a href=\"https://www.svt.se/nyheter/lokalt/skane/explosion-i-hassleholm\" rel=\"noopener\" target=\"_blank\">Source</a>,\n",
       " <a href=\"https://www.svt.se/nyheter/lokalt/skane/explosion-i-hassleholm\" rel=\"noopener\" target=\"_blank\"><i class=\"icon-share\"></i></a>,\n",
       " <a class=\"btn btn-circle js-scroll-trigger\" href=\"#about\">\n",
       " <i class=\"icon-angle-double-down animated\"></i>\n",
       " </a>,\n",
       " <a href=\"https://twitter.com/InLastnight\" ref=\"noopener\" target=\"_blank\">Twitter</a>,\n",
       " <a class=\"btn btn-default btn-lg\" data-target=\"#submitFacts\" data-toggle=\"modal\" href=\"#\" id=\"submit-facts-form\">Submit facts</a>,\n",
       " <a href=\"https://twitter.com/InLastnight\">Twitter</a>,\n",
       " <a class=\"btn btn-default btn-lg\" href=\"https://twitter.com/InLastnight\">\n",
       " <i class=\"icon-twitter\"></i>\n",
       " <span class=\"network-name\">Twitter</span>\n",
       " </a>,\n",
       " <a class=\"btn btn-default btn-lg\" href=\"#\" id=\"contact-form-link\">\n",
       " <i class=\"icon-envelope\"></i>\n",
       " <span class=\"network-name\">Mail</span>\n",
       " </a>]"
      ]
     },
     "execution_count": 8,
     "metadata": {},
     "output_type": "execute_result"
    }
   ],
   "source": [
    "soup.find_all('a')"
   ]
  },
  {
   "cell_type": "code",
   "execution_count": 9,
   "id": "872f1ee3",
   "metadata": {
    "execution": {
     "iopub.execute_input": "2023-04-17T15:40:15.523999Z",
     "iopub.status.busy": "2023-04-17T15:40:15.523491Z",
     "iopub.status.idle": "2023-04-17T15:40:15.530257Z",
     "shell.execute_reply": "2023-04-17T15:40:15.529352Z"
    },
    "papermill": {
     "duration": 0.016894,
     "end_time": "2023-04-17T15:40:15.532932",
     "exception": false,
     "start_time": "2023-04-17T15:40:15.516038",
     "status": "completed"
    },
    "tags": []
   },
   "outputs": [
    {
     "name": "stdout",
     "output_type": "stream",
     "text": [
      "/Sweden/#page-top\n",
      "#about\n",
      "#facts\n",
      "#contact\n",
      "/Stockholm\n",
      "/Älta\n",
      "https://www.svt.se/nyheter/lokalt/stockholm/skottlossning-i-alta-centrum-stor-polisinsats-pagar\n",
      "/Stockholm\n",
      "/Älta\n",
      "https://www.svt.se/nyheter/lokalt/stockholm/skottlossning-i-alta-centrum-stor-polisinsats-pagar\n",
      "https://www.svt.se/nyheter/lokalt/stockholm/skottlossning-i-alta-centrum-stor-polisinsats-pagar\n",
      "/Västerås\n",
      "https://www.svt.se/nyheter/lokalt/vastmanland/bostad-i-vasteras-beskjuten\n",
      "https://www.svt.se/nyheter/lokalt/vastmanland/bostad-i-vasteras-beskjuten\n",
      "/Stockholm\n",
      "/Rågsved\n",
      "https://www.svt.se/nyheter/lokalt/stockholm/misstankt-skottlossning-i-ragsved-person-hittad-skadad\n",
      "https://www.svt.se/nyheter/lokalt/stockholm/misstankt-skottlossning-i-ragsved-person-hittad-skadad\n",
      "/Vadstena\n",
      "https://www.svt.se/nyheter/lokalt/ost/skott-genom-fonster-in-i-bostad-i-vadstena-i-natt\n",
      "https://www.svt.se/nyheter/lokalt/ost/skott-genom-fonster-in-i-bostad-i-vadstena-i-natt\n",
      "/Hässleholm\n",
      "https://www.svt.se/nyheter/lokalt/skane/explosion-i-hassleholm\n",
      "https://www.svt.se/nyheter/lokalt/skane/explosion-i-hassleholm\n",
      "#about\n",
      "https://twitter.com/InLastnight\n",
      "#\n",
      "https://twitter.com/InLastnight\n",
      "https://twitter.com/InLastnight\n",
      "#\n"
     ]
    }
   ],
   "source": [
    "for link in soup.find_all('a'):\n",
    "    print(link.get('href'))"
   ]
  },
  {
   "cell_type": "code",
   "execution_count": 10,
   "id": "6153ecfa",
   "metadata": {
    "execution": {
     "iopub.execute_input": "2023-04-17T15:40:15.547304Z",
     "iopub.status.busy": "2023-04-17T15:40:15.546873Z",
     "iopub.status.idle": "2023-04-17T15:40:15.554154Z",
     "shell.execute_reply": "2023-04-17T15:40:15.552766Z"
    },
    "papermill": {
     "duration": 0.017263,
     "end_time": "2023-04-17T15:40:15.556674",
     "exception": false,
     "start_time": "2023-04-17T15:40:15.539411",
     "status": "completed"
    },
    "tags": []
   },
   "outputs": [],
   "source": [
    "links = []\n",
    "for a in soup.find_all('a', href=True):\n",
    "        if a['href'][0:8]=='https://':\n",
    "            links.append(a['href'])"
   ]
  },
  {
   "cell_type": "code",
   "execution_count": 11,
   "id": "b91a94c5",
   "metadata": {
    "execution": {
     "iopub.execute_input": "2023-04-17T15:40:15.570407Z",
     "iopub.status.busy": "2023-04-17T15:40:15.569934Z",
     "iopub.status.idle": "2023-04-17T15:40:15.576253Z",
     "shell.execute_reply": "2023-04-17T15:40:15.574603Z"
    },
    "papermill": {
     "duration": 0.016408,
     "end_time": "2023-04-17T15:40:15.579027",
     "exception": false,
     "start_time": "2023-04-17T15:40:15.562619",
     "status": "completed"
    },
    "tags": []
   },
   "outputs": [],
   "source": [
    "from collections import OrderedDict\n",
    "res = list(OrderedDict.fromkeys(links))"
   ]
  },
  {
   "cell_type": "code",
   "execution_count": 12,
   "id": "6f47c1b4",
   "metadata": {
    "execution": {
     "iopub.execute_input": "2023-04-17T15:40:15.592842Z",
     "iopub.status.busy": "2023-04-17T15:40:15.592403Z",
     "iopub.status.idle": "2023-04-17T15:40:15.599966Z",
     "shell.execute_reply": "2023-04-17T15:40:15.598751Z"
    },
    "papermill": {
     "duration": 0.017436,
     "end_time": "2023-04-17T15:40:15.602511",
     "exception": false,
     "start_time": "2023-04-17T15:40:15.585075",
     "status": "completed"
    },
    "tags": []
   },
   "outputs": [
    {
     "data": {
      "text/plain": [
       "['https://www.svt.se/nyheter/lokalt/stockholm/skottlossning-i-alta-centrum-stor-polisinsats-pagar',\n",
       " 'https://www.svt.se/nyheter/lokalt/vastmanland/bostad-i-vasteras-beskjuten',\n",
       " 'https://www.svt.se/nyheter/lokalt/stockholm/misstankt-skottlossning-i-ragsved-person-hittad-skadad',\n",
       " 'https://www.svt.se/nyheter/lokalt/ost/skott-genom-fonster-in-i-bostad-i-vadstena-i-natt',\n",
       " 'https://www.svt.se/nyheter/lokalt/skane/explosion-i-hassleholm',\n",
       " 'https://twitter.com/InLastnight']"
      ]
     },
     "execution_count": 12,
     "metadata": {},
     "output_type": "execute_result"
    }
   ],
   "source": [
    "res"
   ]
  },
  {
   "cell_type": "code",
   "execution_count": 13,
   "id": "ee895547",
   "metadata": {
    "execution": {
     "iopub.execute_input": "2023-04-17T15:40:15.616586Z",
     "iopub.status.busy": "2023-04-17T15:40:15.616117Z",
     "iopub.status.idle": "2023-04-17T15:40:15.621814Z",
     "shell.execute_reply": "2023-04-17T15:40:15.620579Z"
    },
    "papermill": {
     "duration": 0.015547,
     "end_time": "2023-04-17T15:40:15.624249",
     "exception": false,
     "start_time": "2023-04-17T15:40:15.608702",
     "status": "completed"
    },
    "tags": []
   },
   "outputs": [],
   "source": [
    "res.remove('https://twitter.com/InLastnight')"
   ]
  },
  {
   "cell_type": "code",
   "execution_count": 14,
   "id": "6cbfbed7",
   "metadata": {
    "execution": {
     "iopub.execute_input": "2023-04-17T15:40:15.638344Z",
     "iopub.status.busy": "2023-04-17T15:40:15.637943Z",
     "iopub.status.idle": "2023-04-17T15:40:15.645034Z",
     "shell.execute_reply": "2023-04-17T15:40:15.643799Z"
    },
    "papermill": {
     "duration": 0.017264,
     "end_time": "2023-04-17T15:40:15.647574",
     "exception": false,
     "start_time": "2023-04-17T15:40:15.630310",
     "status": "completed"
    },
    "tags": []
   },
   "outputs": [
    {
     "data": {
      "text/plain": [
       "['https://www.svt.se/nyheter/lokalt/stockholm/skottlossning-i-alta-centrum-stor-polisinsats-pagar',\n",
       " 'https://www.svt.se/nyheter/lokalt/vastmanland/bostad-i-vasteras-beskjuten',\n",
       " 'https://www.svt.se/nyheter/lokalt/stockholm/misstankt-skottlossning-i-ragsved-person-hittad-skadad',\n",
       " 'https://www.svt.se/nyheter/lokalt/ost/skott-genom-fonster-in-i-bostad-i-vadstena-i-natt',\n",
       " 'https://www.svt.se/nyheter/lokalt/skane/explosion-i-hassleholm']"
      ]
     },
     "execution_count": 14,
     "metadata": {},
     "output_type": "execute_result"
    }
   ],
   "source": [
    "res"
   ]
  },
  {
   "cell_type": "code",
   "execution_count": 15,
   "id": "084adf68",
   "metadata": {
    "execution": {
     "iopub.execute_input": "2023-04-17T15:40:15.663559Z",
     "iopub.status.busy": "2023-04-17T15:40:15.662360Z",
     "iopub.status.idle": "2023-04-17T15:40:15.671920Z",
     "shell.execute_reply": "2023-04-17T15:40:15.670725Z"
    },
    "papermill": {
     "duration": 0.0198,
     "end_time": "2023-04-17T15:40:15.674668",
     "exception": false,
     "start_time": "2023-04-17T15:40:15.654868",
     "status": "completed"
    },
    "tags": []
   },
   "outputs": [
    {
     "data": {
      "text/plain": [
       "[<i class=\"icon-menu\"></i>,\n",
       " <i class=\"icon-gun\"></i>,\n",
       " <i class=\"icon-cross\"></i>,\n",
       " <i class=\"icon-aid-kit\"></i>,\n",
       " <i class=\"icon-share\"></i>,\n",
       " <i class=\"icon-gun\"></i>,\n",
       " <i class=\"icon-cross\"></i>,\n",
       " <i class=\"icon-aid-kit\"></i>,\n",
       " <i class=\"icon-share\"></i>,\n",
       " <i class=\"icon-gun\"></i>,\n",
       " <i class=\"icon-cross\"></i>,\n",
       " <i class=\"icon-aid-kit\"></i>,\n",
       " <i class=\"icon-share\"></i>,\n",
       " <i class=\"icon-gun\"></i>,\n",
       " <i class=\"icon-cross\"></i>,\n",
       " <i class=\"icon-aid-kit\"></i>,\n",
       " <i class=\"icon-share\"></i>,\n",
       " <i class=\"icon-bomb\"></i>,\n",
       " <i class=\"icon-cross\"></i>,\n",
       " <i class=\"icon-aid-kit\"></i>,\n",
       " <i class=\"icon-share\"></i>,\n",
       " <i class=\"icon-angle-double-down animated\"></i>,\n",
       " <i class=\"icon-twitter\"></i>,\n",
       " <i class=\"icon-envelope\"></i>]"
      ]
     },
     "execution_count": 15,
     "metadata": {},
     "output_type": "execute_result"
    }
   ],
   "source": [
    "icons = soup.find_all('i')\n",
    "icons"
   ]
  },
  {
   "cell_type": "code",
   "execution_count": null,
   "id": "48ece27f",
   "metadata": {
    "papermill": {
     "duration": 0.006003,
     "end_time": "2023-04-17T15:40:15.687041",
     "exception": false,
     "start_time": "2023-04-17T15:40:15.681038",
     "status": "completed"
    },
    "tags": []
   },
   "outputs": [],
   "source": []
  }
 ],
 "metadata": {
  "kernelspec": {
   "display_name": "Python 3",
   "language": "python",
   "name": "python3"
  },
  "language_info": {
   "codemirror_mode": {
    "name": "ipython",
    "version": 3
   },
   "file_extension": ".py",
   "mimetype": "text/x-python",
   "name": "python",
   "nbconvert_exporter": "python",
   "pygments_lexer": "ipython3",
   "version": "3.7.12"
  },
  "papermill": {
   "default_parameters": {},
   "duration": 12.737879,
   "end_time": "2023-04-17T15:40:16.416346",
   "environment_variables": {},
   "exception": null,
   "input_path": "__notebook__.ipynb",
   "output_path": "__notebook__.ipynb",
   "parameters": {},
   "start_time": "2023-04-17T15:40:03.678467",
   "version": "2.4.0"
  }
 },
 "nbformat": 4,
 "nbformat_minor": 5
}
