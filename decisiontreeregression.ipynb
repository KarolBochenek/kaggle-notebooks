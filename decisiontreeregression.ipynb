{
 "cells": [
  {
   "cell_type": "markdown",
   "id": "ed94c581",
   "metadata": {
    "papermill": {
     "duration": 0.004157,
     "end_time": "2023-03-13T10:32:07.569327",
     "exception": false,
     "start_time": "2023-03-13T10:32:07.565170",
     "status": "completed"
    },
    "tags": []
   },
   "source": [
    "### Importing numpy and pandas"
   ]
  },
  {
   "cell_type": "code",
   "execution_count": 1,
   "id": "a9e53474",
   "metadata": {
    "_cell_guid": "b1076dfc-b9ad-4769-8c92-a6c4dae69d19",
    "_uuid": "8f2839f25d086af736a60e9eeb907d3b93b6e0e5",
    "execution": {
     "iopub.execute_input": "2023-03-13T10:32:07.577966Z",
     "iopub.status.busy": "2023-03-13T10:32:07.577533Z",
     "iopub.status.idle": "2023-03-13T10:32:07.589954Z",
     "shell.execute_reply": "2023-03-13T10:32:07.587847Z"
    },
    "papermill": {
     "duration": 0.020508,
     "end_time": "2023-03-13T10:32:07.593245",
     "exception": false,
     "start_time": "2023-03-13T10:32:07.572737",
     "status": "completed"
    },
    "tags": []
   },
   "outputs": [],
   "source": [
    "import numpy as np # linear algebra\n",
    "import pandas as pd # data processing, CSV file I/O (e.g. pd.read_csv)"
   ]
  },
  {
   "cell_type": "code",
   "execution_count": 2,
   "id": "c61d7fb5",
   "metadata": {
    "execution": {
     "iopub.execute_input": "2023-03-13T10:32:07.604865Z",
     "iopub.status.busy": "2023-03-13T10:32:07.603991Z",
     "iopub.status.idle": "2023-03-13T10:32:09.719656Z",
     "shell.execute_reply": "2023-03-13T10:32:09.718344Z"
    },
    "papermill": {
     "duration": 2.124102,
     "end_time": "2023-03-13T10:32:09.722165",
     "exception": false,
     "start_time": "2023-03-13T10:32:07.598063",
     "status": "completed"
    },
    "tags": []
   },
   "outputs": [],
   "source": [
    "train = pd.read_csv('../input/quantum/internship_train.csv')\n",
    "test = pd.read_csv('../input/quantum/internship_hidden_test.csv')"
   ]
  },
  {
   "cell_type": "markdown",
   "id": "67ee4c95",
   "metadata": {
    "papermill": {
     "duration": 0.003261,
     "end_time": "2023-03-13T10:32:09.729170",
     "exception": false,
     "start_time": "2023-03-13T10:32:09.725909",
     "status": "completed"
    },
    "tags": []
   },
   "source": [
    "### Checking how our data might look"
   ]
  },
  {
   "cell_type": "code",
   "execution_count": 3,
   "id": "71739549",
   "metadata": {
    "execution": {
     "iopub.execute_input": "2023-03-13T10:32:09.737546Z",
     "iopub.status.busy": "2023-03-13T10:32:09.737172Z",
     "iopub.status.idle": "2023-03-13T10:32:09.746031Z",
     "shell.execute_reply": "2023-03-13T10:32:09.744673Z"
    },
    "papermill": {
     "duration": 0.016062,
     "end_time": "2023-03-13T10:32:09.748670",
     "exception": false,
     "start_time": "2023-03-13T10:32:09.732608",
     "status": "completed"
    },
    "tags": []
   },
   "outputs": [
    {
     "data": {
      "text/plain": [
       "Index(['0', '1', '2', '3', '4', '5', '6', '7', '8', '9', '10', '11', '12',\n",
       "       '13', '14', '15', '16', '17', '18', '19', '20', '21', '22', '23', '24',\n",
       "       '25', '26', '27', '28', '29', '30', '31', '32', '33', '34', '35', '36',\n",
       "       '37', '38', '39', '40', '41', '42', '43', '44', '45', '46', '47', '48',\n",
       "       '49', '50', '51', '52', 'target'],\n",
       "      dtype='object')"
      ]
     },
     "execution_count": 3,
     "metadata": {},
     "output_type": "execute_result"
    }
   ],
   "source": [
    "train.columns"
   ]
  },
  {
   "cell_type": "code",
   "execution_count": 4,
   "id": "ddc3ea03",
   "metadata": {
    "execution": {
     "iopub.execute_input": "2023-03-13T10:32:09.758498Z",
     "iopub.status.busy": "2023-03-13T10:32:09.758125Z",
     "iopub.status.idle": "2023-03-13T10:32:09.788311Z",
     "shell.execute_reply": "2023-03-13T10:32:09.787066Z"
    },
    "papermill": {
     "duration": 0.037732,
     "end_time": "2023-03-13T10:32:09.790563",
     "exception": false,
     "start_time": "2023-03-13T10:32:09.752831",
     "status": "completed"
    },
    "tags": []
   },
   "outputs": [
    {
     "data": {
      "text/html": [
       "<div>\n",
       "<style scoped>\n",
       "    .dataframe tbody tr th:only-of-type {\n",
       "        vertical-align: middle;\n",
       "    }\n",
       "\n",
       "    .dataframe tbody tr th {\n",
       "        vertical-align: top;\n",
       "    }\n",
       "\n",
       "    .dataframe thead th {\n",
       "        text-align: right;\n",
       "    }\n",
       "</style>\n",
       "<table border=\"1\" class=\"dataframe\">\n",
       "  <thead>\n",
       "    <tr style=\"text-align: right;\">\n",
       "      <th></th>\n",
       "      <th>0</th>\n",
       "      <th>1</th>\n",
       "      <th>2</th>\n",
       "      <th>3</th>\n",
       "      <th>4</th>\n",
       "      <th>5</th>\n",
       "      <th>6</th>\n",
       "      <th>7</th>\n",
       "      <th>8</th>\n",
       "      <th>9</th>\n",
       "      <th>...</th>\n",
       "      <th>44</th>\n",
       "      <th>45</th>\n",
       "      <th>46</th>\n",
       "      <th>47</th>\n",
       "      <th>48</th>\n",
       "      <th>49</th>\n",
       "      <th>50</th>\n",
       "      <th>51</th>\n",
       "      <th>52</th>\n",
       "      <th>target</th>\n",
       "    </tr>\n",
       "  </thead>\n",
       "  <tbody>\n",
       "    <tr>\n",
       "      <th>0</th>\n",
       "      <td>236</td>\n",
       "      <td>488</td>\n",
       "      <td>16</td>\n",
       "      <td>221</td>\n",
       "      <td>382</td>\n",
       "      <td>97</td>\n",
       "      <td>-4.472136</td>\n",
       "      <td>0.107472</td>\n",
       "      <td>0</td>\n",
       "      <td>132</td>\n",
       "      <td>...</td>\n",
       "      <td>13.340874</td>\n",
       "      <td>0.870542</td>\n",
       "      <td>1.962937</td>\n",
       "      <td>7.466666</td>\n",
       "      <td>11.547794</td>\n",
       "      <td>8.822916</td>\n",
       "      <td>9.046424</td>\n",
       "      <td>7.895535</td>\n",
       "      <td>11.010677</td>\n",
       "      <td>20.107472</td>\n",
       "    </tr>\n",
       "    <tr>\n",
       "      <th>1</th>\n",
       "      <td>386</td>\n",
       "      <td>206</td>\n",
       "      <td>357</td>\n",
       "      <td>232</td>\n",
       "      <td>1</td>\n",
       "      <td>198</td>\n",
       "      <td>7.810250</td>\n",
       "      <td>0.763713</td>\n",
       "      <td>1</td>\n",
       "      <td>143</td>\n",
       "      <td>...</td>\n",
       "      <td>12.484882</td>\n",
       "      <td>7.168680</td>\n",
       "      <td>2.885415</td>\n",
       "      <td>12.413973</td>\n",
       "      <td>10.260494</td>\n",
       "      <td>10.091351</td>\n",
       "      <td>9.270888</td>\n",
       "      <td>3.173994</td>\n",
       "      <td>13.921871</td>\n",
       "      <td>61.763713</td>\n",
       "    </tr>\n",
       "    <tr>\n",
       "      <th>2</th>\n",
       "      <td>429</td>\n",
       "      <td>49</td>\n",
       "      <td>481</td>\n",
       "      <td>111</td>\n",
       "      <td>111</td>\n",
       "      <td>146</td>\n",
       "      <td>8.602325</td>\n",
       "      <td>0.651162</td>\n",
       "      <td>1</td>\n",
       "      <td>430</td>\n",
       "      <td>...</td>\n",
       "      <td>14.030257</td>\n",
       "      <td>0.394970</td>\n",
       "      <td>8.160625</td>\n",
       "      <td>12.592059</td>\n",
       "      <td>8.937577</td>\n",
       "      <td>2.265191</td>\n",
       "      <td>11.255721</td>\n",
       "      <td>12.794841</td>\n",
       "      <td>12.080951</td>\n",
       "      <td>74.651162</td>\n",
       "    </tr>\n",
       "    <tr>\n",
       "      <th>3</th>\n",
       "      <td>414</td>\n",
       "      <td>350</td>\n",
       "      <td>481</td>\n",
       "      <td>370</td>\n",
       "      <td>208</td>\n",
       "      <td>158</td>\n",
       "      <td>8.306624</td>\n",
       "      <td>0.424645</td>\n",
       "      <td>1</td>\n",
       "      <td>340</td>\n",
       "      <td>...</td>\n",
       "      <td>2.789577</td>\n",
       "      <td>6.416708</td>\n",
       "      <td>10.549814</td>\n",
       "      <td>11.456437</td>\n",
       "      <td>6.468099</td>\n",
       "      <td>2.519049</td>\n",
       "      <td>0.258284</td>\n",
       "      <td>9.317696</td>\n",
       "      <td>5.383098</td>\n",
       "      <td>69.424645</td>\n",
       "    </tr>\n",
       "    <tr>\n",
       "      <th>4</th>\n",
       "      <td>318</td>\n",
       "      <td>359</td>\n",
       "      <td>20</td>\n",
       "      <td>218</td>\n",
       "      <td>317</td>\n",
       "      <td>301</td>\n",
       "      <td>8.124038</td>\n",
       "      <td>0.767304</td>\n",
       "      <td>1</td>\n",
       "      <td>212</td>\n",
       "      <td>...</td>\n",
       "      <td>1.886560</td>\n",
       "      <td>1.919999</td>\n",
       "      <td>2.268203</td>\n",
       "      <td>0.149421</td>\n",
       "      <td>4.105907</td>\n",
       "      <td>10.416291</td>\n",
       "      <td>6.816217</td>\n",
       "      <td>8.586960</td>\n",
       "      <td>4.512419</td>\n",
       "      <td>66.767304</td>\n",
       "    </tr>\n",
       "  </tbody>\n",
       "</table>\n",
       "<p>5 rows × 54 columns</p>\n",
       "</div>"
      ],
      "text/plain": [
       "     0    1    2    3    4    5         6         7  8    9  ...         44  \\\n",
       "0  236  488   16  221  382   97 -4.472136  0.107472  0  132  ...  13.340874   \n",
       "1  386  206  357  232    1  198  7.810250  0.763713  1  143  ...  12.484882   \n",
       "2  429   49  481  111  111  146  8.602325  0.651162  1  430  ...  14.030257   \n",
       "3  414  350  481  370  208  158  8.306624  0.424645  1  340  ...   2.789577   \n",
       "4  318  359   20  218  317  301  8.124038  0.767304  1  212  ...   1.886560   \n",
       "\n",
       "         45         46         47         48         49         50         51  \\\n",
       "0  0.870542   1.962937   7.466666  11.547794   8.822916   9.046424   7.895535   \n",
       "1  7.168680   2.885415  12.413973  10.260494  10.091351   9.270888   3.173994   \n",
       "2  0.394970   8.160625  12.592059   8.937577   2.265191  11.255721  12.794841   \n",
       "3  6.416708  10.549814  11.456437   6.468099   2.519049   0.258284   9.317696   \n",
       "4  1.919999   2.268203   0.149421   4.105907  10.416291   6.816217   8.586960   \n",
       "\n",
       "          52     target  \n",
       "0  11.010677  20.107472  \n",
       "1  13.921871  61.763713  \n",
       "2  12.080951  74.651162  \n",
       "3   5.383098  69.424645  \n",
       "4   4.512419  66.767304  \n",
       "\n",
       "[5 rows x 54 columns]"
      ]
     },
     "execution_count": 4,
     "metadata": {},
     "output_type": "execute_result"
    }
   ],
   "source": [
    "train.head()"
   ]
  },
  {
   "cell_type": "code",
   "execution_count": 5,
   "id": "783cb7f9",
   "metadata": {
    "execution": {
     "iopub.execute_input": "2023-03-13T10:32:09.799827Z",
     "iopub.status.busy": "2023-03-13T10:32:09.799494Z",
     "iopub.status.idle": "2023-03-13T10:32:10.064270Z",
     "shell.execute_reply": "2023-03-13T10:32:10.063538Z"
    },
    "papermill": {
     "duration": 0.271404,
     "end_time": "2023-03-13T10:32:10.066041",
     "exception": false,
     "start_time": "2023-03-13T10:32:09.794637",
     "status": "completed"
    },
    "tags": []
   },
   "outputs": [
    {
     "data": {
      "text/html": [
       "<div>\n",
       "<style scoped>\n",
       "    .dataframe tbody tr th:only-of-type {\n",
       "        vertical-align: middle;\n",
       "    }\n",
       "\n",
       "    .dataframe tbody tr th {\n",
       "        vertical-align: top;\n",
       "    }\n",
       "\n",
       "    .dataframe thead th {\n",
       "        text-align: right;\n",
       "    }\n",
       "</style>\n",
       "<table border=\"1\" class=\"dataframe\">\n",
       "  <thead>\n",
       "    <tr style=\"text-align: right;\">\n",
       "      <th></th>\n",
       "      <th>0</th>\n",
       "      <th>1</th>\n",
       "      <th>2</th>\n",
       "      <th>3</th>\n",
       "      <th>4</th>\n",
       "      <th>5</th>\n",
       "      <th>6</th>\n",
       "      <th>7</th>\n",
       "      <th>8</th>\n",
       "      <th>9</th>\n",
       "      <th>...</th>\n",
       "      <th>44</th>\n",
       "      <th>45</th>\n",
       "      <th>46</th>\n",
       "      <th>47</th>\n",
       "      <th>48</th>\n",
       "      <th>49</th>\n",
       "      <th>50</th>\n",
       "      <th>51</th>\n",
       "      <th>52</th>\n",
       "      <th>target</th>\n",
       "    </tr>\n",
       "  </thead>\n",
       "  <tbody>\n",
       "    <tr>\n",
       "      <th>count</th>\n",
       "      <td>90000.000000</td>\n",
       "      <td>90000.000000</td>\n",
       "      <td>90000.000000</td>\n",
       "      <td>90000.000000</td>\n",
       "      <td>90000.000000</td>\n",
       "      <td>90000.000000</td>\n",
       "      <td>90000.000000</td>\n",
       "      <td>90000.000000</td>\n",
       "      <td>90000.000000</td>\n",
       "      <td>90000.000000</td>\n",
       "      <td>...</td>\n",
       "      <td>90000.000000</td>\n",
       "      <td>90000.000000</td>\n",
       "      <td>90000.000000</td>\n",
       "      <td>90000.000000</td>\n",
       "      <td>90000.000000</td>\n",
       "      <td>90000.000000</td>\n",
       "      <td>90000.000000</td>\n",
       "      <td>90000.000000</td>\n",
       "      <td>90000.000000</td>\n",
       "      <td>90000.000000</td>\n",
       "    </tr>\n",
       "    <tr>\n",
       "      <th>mean</th>\n",
       "      <td>249.423944</td>\n",
       "      <td>250.236267</td>\n",
       "      <td>248.637289</td>\n",
       "      <td>249.736600</td>\n",
       "      <td>249.436178</td>\n",
       "      <td>249.656167</td>\n",
       "      <td>-0.011402</td>\n",
       "      <td>0.498548</td>\n",
       "      <td>0.499189</td>\n",
       "      <td>249.842033</td>\n",
       "      <td>...</td>\n",
       "      <td>7.475155</td>\n",
       "      <td>7.523962</td>\n",
       "      <td>7.508397</td>\n",
       "      <td>7.473322</td>\n",
       "      <td>7.490658</td>\n",
       "      <td>7.474578</td>\n",
       "      <td>7.509206</td>\n",
       "      <td>7.487159</td>\n",
       "      <td>7.513316</td>\n",
       "      <td>50.033981</td>\n",
       "    </tr>\n",
       "    <tr>\n",
       "      <th>std</th>\n",
       "      <td>144.336393</td>\n",
       "      <td>144.022200</td>\n",
       "      <td>144.107577</td>\n",
       "      <td>144.284945</td>\n",
       "      <td>143.941581</td>\n",
       "      <td>144.329168</td>\n",
       "      <td>7.038171</td>\n",
       "      <td>0.288682</td>\n",
       "      <td>0.500002</td>\n",
       "      <td>144.612718</td>\n",
       "      <td>...</td>\n",
       "      <td>4.330410</td>\n",
       "      <td>4.321537</td>\n",
       "      <td>4.331761</td>\n",
       "      <td>4.335692</td>\n",
       "      <td>4.332122</td>\n",
       "      <td>4.323035</td>\n",
       "      <td>4.326364</td>\n",
       "      <td>4.324876</td>\n",
       "      <td>4.333080</td>\n",
       "      <td>28.897243</td>\n",
       "    </tr>\n",
       "    <tr>\n",
       "      <th>min</th>\n",
       "      <td>0.000000</td>\n",
       "      <td>0.000000</td>\n",
       "      <td>0.000000</td>\n",
       "      <td>0.000000</td>\n",
       "      <td>0.000000</td>\n",
       "      <td>0.000000</td>\n",
       "      <td>-9.949874</td>\n",
       "      <td>0.000014</td>\n",
       "      <td>0.000000</td>\n",
       "      <td>0.000000</td>\n",
       "      <td>...</td>\n",
       "      <td>0.000019</td>\n",
       "      <td>0.000040</td>\n",
       "      <td>0.000154</td>\n",
       "      <td>0.000083</td>\n",
       "      <td>0.000367</td>\n",
       "      <td>0.000014</td>\n",
       "      <td>0.000160</td>\n",
       "      <td>0.000147</td>\n",
       "      <td>0.000125</td>\n",
       "      <td>0.002634</td>\n",
       "    </tr>\n",
       "    <tr>\n",
       "      <th>25%</th>\n",
       "      <td>125.000000</td>\n",
       "      <td>126.000000</td>\n",
       "      <td>124.000000</td>\n",
       "      <td>125.000000</td>\n",
       "      <td>125.000000</td>\n",
       "      <td>124.000000</td>\n",
       "      <td>-7.071068</td>\n",
       "      <td>0.248932</td>\n",
       "      <td>0.000000</td>\n",
       "      <td>124.000000</td>\n",
       "      <td>...</td>\n",
       "      <td>3.707544</td>\n",
       "      <td>3.797002</td>\n",
       "      <td>3.760627</td>\n",
       "      <td>3.715721</td>\n",
       "      <td>3.739358</td>\n",
       "      <td>3.715298</td>\n",
       "      <td>3.773381</td>\n",
       "      <td>3.743536</td>\n",
       "      <td>3.776322</td>\n",
       "      <td>25.091903</td>\n",
       "    </tr>\n",
       "    <tr>\n",
       "      <th>50%</th>\n",
       "      <td>250.000000</td>\n",
       "      <td>251.000000</td>\n",
       "      <td>248.000000</td>\n",
       "      <td>250.000000</td>\n",
       "      <td>250.000000</td>\n",
       "      <td>250.000000</td>\n",
       "      <td>0.000000</td>\n",
       "      <td>0.497136</td>\n",
       "      <td>0.000000</td>\n",
       "      <td>250.000000</td>\n",
       "      <td>...</td>\n",
       "      <td>7.474127</td>\n",
       "      <td>7.533987</td>\n",
       "      <td>7.505259</td>\n",
       "      <td>7.459774</td>\n",
       "      <td>7.494167</td>\n",
       "      <td>7.477270</td>\n",
       "      <td>7.512575</td>\n",
       "      <td>7.476564</td>\n",
       "      <td>7.506812</td>\n",
       "      <td>50.030705</td>\n",
       "    </tr>\n",
       "    <tr>\n",
       "      <th>75%</th>\n",
       "      <td>374.000000</td>\n",
       "      <td>375.000000</td>\n",
       "      <td>374.000000</td>\n",
       "      <td>375.000000</td>\n",
       "      <td>373.000000</td>\n",
       "      <td>374.000000</td>\n",
       "      <td>7.000000</td>\n",
       "      <td>0.747513</td>\n",
       "      <td>1.000000</td>\n",
       "      <td>376.000000</td>\n",
       "      <td>...</td>\n",
       "      <td>11.216585</td>\n",
       "      <td>11.276349</td>\n",
       "      <td>11.261971</td>\n",
       "      <td>11.215637</td>\n",
       "      <td>11.239232</td>\n",
       "      <td>11.210070</td>\n",
       "      <td>11.268156</td>\n",
       "      <td>11.234414</td>\n",
       "      <td>11.277835</td>\n",
       "      <td>75.059454</td>\n",
       "    </tr>\n",
       "    <tr>\n",
       "      <th>max</th>\n",
       "      <td>499.000000</td>\n",
       "      <td>499.000000</td>\n",
       "      <td>499.000000</td>\n",
       "      <td>499.000000</td>\n",
       "      <td>499.000000</td>\n",
       "      <td>499.000000</td>\n",
       "      <td>9.949874</td>\n",
       "      <td>0.999987</td>\n",
       "      <td>1.000000</td>\n",
       "      <td>499.000000</td>\n",
       "      <td>...</td>\n",
       "      <td>14.999900</td>\n",
       "      <td>14.999528</td>\n",
       "      <td>14.999733</td>\n",
       "      <td>14.999478</td>\n",
       "      <td>14.999869</td>\n",
       "      <td>14.999928</td>\n",
       "      <td>14.999948</td>\n",
       "      <td>14.999364</td>\n",
       "      <td>14.999775</td>\n",
       "      <td>99.999482</td>\n",
       "    </tr>\n",
       "  </tbody>\n",
       "</table>\n",
       "<p>8 rows × 54 columns</p>\n",
       "</div>"
      ],
      "text/plain": [
       "                  0             1             2             3             4  \\\n",
       "count  90000.000000  90000.000000  90000.000000  90000.000000  90000.000000   \n",
       "mean     249.423944    250.236267    248.637289    249.736600    249.436178   \n",
       "std      144.336393    144.022200    144.107577    144.284945    143.941581   \n",
       "min        0.000000      0.000000      0.000000      0.000000      0.000000   \n",
       "25%      125.000000    126.000000    124.000000    125.000000    125.000000   \n",
       "50%      250.000000    251.000000    248.000000    250.000000    250.000000   \n",
       "75%      374.000000    375.000000    374.000000    375.000000    373.000000   \n",
       "max      499.000000    499.000000    499.000000    499.000000    499.000000   \n",
       "\n",
       "                  5             6             7             8             9  \\\n",
       "count  90000.000000  90000.000000  90000.000000  90000.000000  90000.000000   \n",
       "mean     249.656167     -0.011402      0.498548      0.499189    249.842033   \n",
       "std      144.329168      7.038171      0.288682      0.500002    144.612718   \n",
       "min        0.000000     -9.949874      0.000014      0.000000      0.000000   \n",
       "25%      124.000000     -7.071068      0.248932      0.000000    124.000000   \n",
       "50%      250.000000      0.000000      0.497136      0.000000    250.000000   \n",
       "75%      374.000000      7.000000      0.747513      1.000000    376.000000   \n",
       "max      499.000000      9.949874      0.999987      1.000000    499.000000   \n",
       "\n",
       "       ...            44            45            46            47  \\\n",
       "count  ...  90000.000000  90000.000000  90000.000000  90000.000000   \n",
       "mean   ...      7.475155      7.523962      7.508397      7.473322   \n",
       "std    ...      4.330410      4.321537      4.331761      4.335692   \n",
       "min    ...      0.000019      0.000040      0.000154      0.000083   \n",
       "25%    ...      3.707544      3.797002      3.760627      3.715721   \n",
       "50%    ...      7.474127      7.533987      7.505259      7.459774   \n",
       "75%    ...     11.216585     11.276349     11.261971     11.215637   \n",
       "max    ...     14.999900     14.999528     14.999733     14.999478   \n",
       "\n",
       "                 48            49            50            51            52  \\\n",
       "count  90000.000000  90000.000000  90000.000000  90000.000000  90000.000000   \n",
       "mean       7.490658      7.474578      7.509206      7.487159      7.513316   \n",
       "std        4.332122      4.323035      4.326364      4.324876      4.333080   \n",
       "min        0.000367      0.000014      0.000160      0.000147      0.000125   \n",
       "25%        3.739358      3.715298      3.773381      3.743536      3.776322   \n",
       "50%        7.494167      7.477270      7.512575      7.476564      7.506812   \n",
       "75%       11.239232     11.210070     11.268156     11.234414     11.277835   \n",
       "max       14.999869     14.999928     14.999948     14.999364     14.999775   \n",
       "\n",
       "             target  \n",
       "count  90000.000000  \n",
       "mean      50.033981  \n",
       "std       28.897243  \n",
       "min        0.002634  \n",
       "25%       25.091903  \n",
       "50%       50.030705  \n",
       "75%       75.059454  \n",
       "max       99.999482  \n",
       "\n",
       "[8 rows x 54 columns]"
      ]
     },
     "execution_count": 5,
     "metadata": {},
     "output_type": "execute_result"
    }
   ],
   "source": [
    "train.describe()"
   ]
  },
  {
   "cell_type": "markdown",
   "id": "708959a1",
   "metadata": {
    "papermill": {
     "duration": 0.003867,
     "end_time": "2023-03-13T10:32:10.074132",
     "exception": false,
     "start_time": "2023-03-13T10:32:10.070265",
     "status": "completed"
    },
    "tags": []
   },
   "source": [
    "### Preparing to split our data"
   ]
  },
  {
   "cell_type": "code",
   "execution_count": 6,
   "id": "b049e15b",
   "metadata": {
    "execution": {
     "iopub.execute_input": "2023-03-13T10:32:10.084036Z",
     "iopub.status.busy": "2023-03-13T10:32:10.083485Z",
     "iopub.status.idle": "2023-03-13T10:32:10.099414Z",
     "shell.execute_reply": "2023-03-13T10:32:10.098759Z"
    },
    "papermill": {
     "duration": 0.023215,
     "end_time": "2023-03-13T10:32:10.101417",
     "exception": false,
     "start_time": "2023-03-13T10:32:10.078202",
     "status": "completed"
    },
    "tags": []
   },
   "outputs": [],
   "source": [
    "y = train['target'].values\n",
    "x = train.drop(['target'], axis = 1).values\n"
   ]
  },
  {
   "cell_type": "markdown",
   "id": "f3ef67f1",
   "metadata": {
    "papermill": {
     "duration": 0.003902,
     "end_time": "2023-03-13T10:32:10.109578",
     "exception": false,
     "start_time": "2023-03-13T10:32:10.105676",
     "status": "completed"
    },
    "tags": []
   },
   "source": [
    "### Train test split from sklearn, splitting the data for training and testing"
   ]
  },
  {
   "cell_type": "code",
   "execution_count": 7,
   "id": "3f936b63",
   "metadata": {
    "execution": {
     "iopub.execute_input": "2023-03-13T10:32:10.119347Z",
     "iopub.status.busy": "2023-03-13T10:32:10.118866Z",
     "iopub.status.idle": "2023-03-13T10:32:11.203549Z",
     "shell.execute_reply": "2023-03-13T10:32:11.202625Z"
    },
    "papermill": {
     "duration": 1.092266,
     "end_time": "2023-03-13T10:32:11.205867",
     "exception": false,
     "start_time": "2023-03-13T10:32:10.113601",
     "status": "completed"
    },
    "tags": []
   },
   "outputs": [],
   "source": [
    "from sklearn.model_selection import train_test_split\n",
    "x_train,x_test,y_train,y_test = train_test_split(x,y, random_state = 0)"
   ]
  },
  {
   "cell_type": "markdown",
   "id": "7481658f",
   "metadata": {
    "papermill": {
     "duration": 0.003722,
     "end_time": "2023-03-13T10:32:11.213847",
     "exception": false,
     "start_time": "2023-03-13T10:32:11.210125",
     "status": "completed"
    },
    "tags": []
   },
   "source": [
    "### Importing DecisionTreeRegressor from sklearn library"
   ]
  },
  {
   "cell_type": "code",
   "execution_count": 8,
   "id": "0d842bff",
   "metadata": {
    "execution": {
     "iopub.execute_input": "2023-03-13T10:32:11.223145Z",
     "iopub.status.busy": "2023-03-13T10:32:11.222793Z",
     "iopub.status.idle": "2023-03-13T10:32:16.214662Z",
     "shell.execute_reply": "2023-03-13T10:32:16.214046Z"
    },
    "papermill": {
     "duration": 4.998653,
     "end_time": "2023-03-13T10:32:16.216435",
     "exception": false,
     "start_time": "2023-03-13T10:32:11.217782",
     "status": "completed"
    },
    "tags": []
   },
   "outputs": [
    {
     "data": {
      "text/plain": [
       "DecisionTreeRegressor(random_state=1)"
      ]
     },
     "execution_count": 8,
     "metadata": {},
     "output_type": "execute_result"
    }
   ],
   "source": [
    "from sklearn.tree import DecisionTreeRegressor\n",
    "# Define model. Specify a number for random_state to ensure same results each run\n",
    "mtr = DecisionTreeRegressor(random_state=1)\n",
    "\n",
    "# Fit model\n",
    "mtr.fit(x_train, y_train)"
   ]
  },
  {
   "cell_type": "code",
   "execution_count": 9,
   "id": "97d0beb8",
   "metadata": {
    "execution": {
     "iopub.execute_input": "2023-03-13T10:32:16.227164Z",
     "iopub.status.busy": "2023-03-13T10:32:16.226301Z",
     "iopub.status.idle": "2023-03-13T10:32:16.246287Z",
     "shell.execute_reply": "2023-03-13T10:32:16.244554Z"
    },
    "papermill": {
     "duration": 0.028517,
     "end_time": "2023-03-13T10:32:16.249376",
     "exception": false,
     "start_time": "2023-03-13T10:32:16.220859",
     "status": "completed"
    },
    "tags": []
   },
   "outputs": [
    {
     "name": "stdout",
     "output_type": "stream",
     "text": [
      "rmse: 0.008178104967651837\n",
      "mae :0.0060100399942610615\n",
      "r2: 0.9999999197092007\n"
     ]
    }
   ],
   "source": [
    "from sklearn.metrics import mean_absolute_error\n",
    "from sklearn.metrics import mean_squared_error\n",
    "from sklearn.metrics import r2_score\n",
    "\n",
    "predicted = mtr.predict(x_test)\n",
    "rmse = mean_squared_error(y_test, predicted, squared=False)\n",
    "print(\"rmse: {}\".format(rmse))\n",
    "\n",
    "val_mae = mean_absolute_error(y_test, predicted)\n",
    "\n",
    "# uncomment following line to see the validation_mae\n",
    "print('mae :{}'.format(val_mae))\n",
    "\n",
    "\n",
    "r2 = r2_score(y_test, predicted)\n",
    "print('r2: {}'.format(r2))"
   ]
  },
  {
   "cell_type": "code",
   "execution_count": 10,
   "id": "1143df93",
   "metadata": {
    "execution": {
     "iopub.execute_input": "2023-03-13T10:32:16.260786Z",
     "iopub.status.busy": "2023-03-13T10:32:16.260406Z",
     "iopub.status.idle": "2023-03-13T10:32:16.568871Z",
     "shell.execute_reply": "2023-03-13T10:32:16.568187Z"
    },
    "papermill": {
     "duration": 0.316298,
     "end_time": "2023-03-13T10:32:16.570787",
     "exception": false,
     "start_time": "2023-03-13T10:32:16.254489",
     "status": "completed"
    },
    "tags": []
   },
   "outputs": [
    {
     "data": {
      "text/plain": [
       "Text(0.5, 1.0, 'Actual vs Predicted')"
      ]
     },
     "execution_count": 10,
     "metadata": {},
     "output_type": "execute_result"
    },
    {
     "data": {
      "image/png": "[encoded data removed]",
      "text/plain": [
       "<Figure size 1440x720 with 1 Axes>"
      ]
     },
     "metadata": {
      "needs_background": "light"
     },
     "output_type": "display_data"
    }
   ],
   "source": [
    "import matplotlib.pyplot as plt\n",
    "plt.figure(figsize = (20,10))\n",
    "plt.scatter(y_test, predicted)\n",
    "plt.xlabel('Actual')\n",
    "plt.ylabel('Predicted')\n",
    "plt.title('Actual vs Predicted')"
   ]
  }
 ],
 "metadata": {
  "kernelspec": {
   "display_name": "Python 3",
   "language": "python",
   "name": "python3"
  },
  "language_info": {
   "codemirror_mode": {
    "name": "ipython",
    "version": 3
   },
   "file_extension": ".py",
   "mimetype": "text/x-python",
   "name": "python",
   "nbconvert_exporter": "python",
   "pygments_lexer": "ipython3",
   "version": "3.7.12"
  },
  "papermill": {
   "default_parameters": {},
   "duration": 17.966932,
   "end_time": "2023-03-13T10:32:17.295793",
   "environment_variables": {},
   "exception": null,
   "input_path": "__notebook__.ipynb",
   "output_path": "__notebook__.ipynb",
   "parameters": {},
   "start_time": "2023-03-13T10:31:59.328861",
   "version": "2.3.4"
  }
 },
 "nbformat": 4,
 "nbformat_minor": 5
}
