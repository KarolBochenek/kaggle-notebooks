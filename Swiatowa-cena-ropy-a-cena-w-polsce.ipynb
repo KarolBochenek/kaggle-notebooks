{
 "cells": [
  {
   "cell_type": "code",
   "execution_count": 1,
   "id": "9b1baebc",
   "metadata": {
    "_cell_guid": "b1076dfc-b9ad-4769-8c92-a6c4dae69d19",
    "_uuid": "8f2839f25d086af736a60e9eeb907d3b93b6e0e5",
    "execution": {
     "iopub.execute_input": "2023-05-11T14:20:02.874294Z",
     "iopub.status.busy": "2023-05-11T14:20:02.873374Z",
     "iopub.status.idle": "2023-05-11T14:20:02.903222Z",
     "shell.execute_reply": "2023-05-11T14:20:02.902105Z"
    },
    "papermill": {
     "duration": 0.060199,
     "end_time": "2023-05-11T14:20:02.905951",
     "exception": false,
     "start_time": "2023-05-11T14:20:02.845752",
     "status": "completed"
    },
    "tags": []
   },
   "outputs": [
    {
     "name": "stdout",
     "output_type": "stream",
     "text": [
      "/kaggle/input/usd-pln-montly-historical-data/usd-pln-historical-data.csv\n",
      "/kaggle/input/crude-oil-price/crude-oil-price.csv\n",
      "/kaggle/input/ecodiesel-price-pl/ceny-paliw-lotos.csv\n"
     ]
    }
   ],
   "source": [
    "# This Python 3 environment comes with many helpful analytics libraries installed\n",
    "# It is defined by the kaggle/python Docker image: https://github.com/kaggle/docker-python\n",
    "# For example, here's several helpful packages to load\n",
    "\n",
    "import numpy as np # linear algebra\n",
    "import pandas as pd # data processing, CSV file I/O (e.g. pd.read_csv)\n",
    "\n",
    "# Input data files are available in the read-only \"../input/\" directory\n",
    "# For example, running this (by clicking run or pressing Shift+Enter) will list all files under the input directory\n",
    "\n",
    "import os\n",
    "for dirname, _, filenames in os.walk('/kaggle/input'):\n",
    "    for filename in filenames:\n",
    "        print(os.path.join(dirname, filename))\n",
    "\n",
    "# You can write up to 20GB to the current directory (/kaggle/working/) that gets preserved as output when you create a version using \"Save & Run All\" \n",
    "# You can also write temporary files to /kaggle/temp/, but they won't be saved outside of the current session"
   ]
  },
  {
   "cell_type": "code",
   "execution_count": 2,
   "id": "2b53dd71",
   "metadata": {
    "execution": {
     "iopub.execute_input": "2023-05-11T14:20:02.957735Z",
     "iopub.status.busy": "2023-05-11T14:20:02.957343Z",
     "iopub.status.idle": "2023-05-11T14:20:02.983481Z",
     "shell.execute_reply": "2023-05-11T14:20:02.982368Z"
    },
    "papermill": {
     "duration": 0.055219,
     "end_time": "2023-05-11T14:20:02.986307",
     "exception": false,
     "start_time": "2023-05-11T14:20:02.931088",
     "status": "completed"
    },
    "tags": []
   },
   "outputs": [],
   "source": [
    "oil_price = pd.read_csv(\"/kaggle/input/crude-oil-price/crude-oil-price.csv\", parse_dates = ['date'])"
   ]
  },
  {
   "cell_type": "code",
   "execution_count": 3,
   "id": "787895ee",
   "metadata": {
    "execution": {
     "iopub.execute_input": "2023-05-11T14:20:03.039136Z",
     "iopub.status.busy": "2023-05-11T14:20:03.037647Z",
     "iopub.status.idle": "2023-05-11T14:20:03.047031Z",
     "shell.execute_reply": "2023-05-11T14:20:03.045760Z"
    },
    "papermill": {
     "duration": 0.038362,
     "end_time": "2023-05-11T14:20:03.049702",
     "exception": false,
     "start_time": "2023-05-11T14:20:03.011340",
     "status": "completed"
    },
    "tags": []
   },
   "outputs": [
    {
     "data": {
      "text/plain": [
       "(483, 4)"
      ]
     },
     "execution_count": 3,
     "metadata": {},
     "output_type": "execute_result"
    }
   ],
   "source": [
    "oil_price.shape"
   ]
  },
  {
   "cell_type": "code",
   "execution_count": 4,
   "id": "b00797de",
   "metadata": {
    "execution": {
     "iopub.execute_input": "2023-05-11T14:20:03.102534Z",
     "iopub.status.busy": "2023-05-11T14:20:03.102126Z",
     "iopub.status.idle": "2023-05-11T14:20:03.134456Z",
     "shell.execute_reply": "2023-05-11T14:20:03.133256Z"
    },
    "papermill": {
     "duration": 0.061374,
     "end_time": "2023-05-11T14:20:03.136909",
     "exception": false,
     "start_time": "2023-05-11T14:20:03.075535",
     "status": "completed"
    },
    "tags": []
   },
   "outputs": [
    {
     "data": {
      "text/html": [
       "<div>\n",
       "<style scoped>\n",
       "    .dataframe tbody tr th:only-of-type {\n",
       "        vertical-align: middle;\n",
       "    }\n",
       "\n",
       "    .dataframe tbody tr th {\n",
       "        vertical-align: top;\n",
       "    }\n",
       "\n",
       "    .dataframe thead th {\n",
       "        text-align: right;\n",
       "    }\n",
       "</style>\n",
       "<table border=\"1\" class=\"dataframe\">\n",
       "  <thead>\n",
       "    <tr style=\"text-align: right;\">\n",
       "      <th></th>\n",
       "      <th>date</th>\n",
       "      <th>price</th>\n",
       "      <th>percentChange</th>\n",
       "      <th>change</th>\n",
       "    </tr>\n",
       "  </thead>\n",
       "  <tbody>\n",
       "    <tr>\n",
       "      <th>0</th>\n",
       "      <td>1983-03-30</td>\n",
       "      <td>29.27</td>\n",
       "      <td>NaN</td>\n",
       "      <td>NaN</td>\n",
       "    </tr>\n",
       "    <tr>\n",
       "      <th>1</th>\n",
       "      <td>1983-04-04</td>\n",
       "      <td>30.63</td>\n",
       "      <td>4.646</td>\n",
       "      <td>1.36</td>\n",
       "    </tr>\n",
       "    <tr>\n",
       "      <th>2</th>\n",
       "      <td>1983-05-02</td>\n",
       "      <td>30.25</td>\n",
       "      <td>-1.241</td>\n",
       "      <td>-0.38</td>\n",
       "    </tr>\n",
       "    <tr>\n",
       "      <th>3</th>\n",
       "      <td>1983-06-01</td>\n",
       "      <td>31.38</td>\n",
       "      <td>3.736</td>\n",
       "      <td>1.13</td>\n",
       "    </tr>\n",
       "    <tr>\n",
       "      <th>4</th>\n",
       "      <td>1983-07-01</td>\n",
       "      <td>32.00</td>\n",
       "      <td>1.976</td>\n",
       "      <td>0.62</td>\n",
       "    </tr>\n",
       "  </tbody>\n",
       "</table>\n",
       "</div>"
      ],
      "text/plain": [
       "        date  price  percentChange  change\n",
       "0 1983-03-30  29.27            NaN     NaN\n",
       "1 1983-04-04  30.63          4.646    1.36\n",
       "2 1983-05-02  30.25         -1.241   -0.38\n",
       "3 1983-06-01  31.38          3.736    1.13\n",
       "4 1983-07-01  32.00          1.976    0.62"
      ]
     },
     "execution_count": 4,
     "metadata": {},
     "output_type": "execute_result"
    }
   ],
   "source": [
    "oil_price.head()"
   ]
  },
  {
   "cell_type": "code",
   "execution_count": 5,
   "id": "a3a6b8f9",
   "metadata": {
    "execution": {
     "iopub.execute_input": "2023-05-11T14:20:03.190473Z",
     "iopub.status.busy": "2023-05-11T14:20:03.190080Z",
     "iopub.status.idle": "2023-05-11T14:20:03.202745Z",
     "shell.execute_reply": "2023-05-11T14:20:03.201636Z"
    },
    "papermill": {
     "duration": 0.042687,
     "end_time": "2023-05-11T14:20:03.205407",
     "exception": false,
     "start_time": "2023-05-11T14:20:03.162720",
     "status": "completed"
    },
    "tags": []
   },
   "outputs": [
    {
     "data": {
      "text/html": [
       "<div>\n",
       "<style scoped>\n",
       "    .dataframe tbody tr th:only-of-type {\n",
       "        vertical-align: middle;\n",
       "    }\n",
       "\n",
       "    .dataframe tbody tr th {\n",
       "        vertical-align: top;\n",
       "    }\n",
       "\n",
       "    .dataframe thead th {\n",
       "        text-align: right;\n",
       "    }\n",
       "</style>\n",
       "<table border=\"1\" class=\"dataframe\">\n",
       "  <thead>\n",
       "    <tr style=\"text-align: right;\">\n",
       "      <th></th>\n",
       "      <th>date</th>\n",
       "      <th>price</th>\n",
       "      <th>percentChange</th>\n",
       "      <th>change</th>\n",
       "    </tr>\n",
       "  </thead>\n",
       "  <tbody>\n",
       "    <tr>\n",
       "      <th>478</th>\n",
       "      <td>2023-01-03</td>\n",
       "      <td>79.1700</td>\n",
       "      <td>-1.591</td>\n",
       "      <td>-1.2800</td>\n",
       "    </tr>\n",
       "    <tr>\n",
       "      <th>479</th>\n",
       "      <td>2023-02-01</td>\n",
       "      <td>77.1900</td>\n",
       "      <td>-2.501</td>\n",
       "      <td>-1.9800</td>\n",
       "    </tr>\n",
       "    <tr>\n",
       "      <th>480</th>\n",
       "      <td>2023-03-01</td>\n",
       "      <td>75.8000</td>\n",
       "      <td>-1.801</td>\n",
       "      <td>-1.3900</td>\n",
       "    </tr>\n",
       "    <tr>\n",
       "      <th>481</th>\n",
       "      <td>2023-04-03</td>\n",
       "      <td>76.7800</td>\n",
       "      <td>1.293</td>\n",
       "      <td>0.9800</td>\n",
       "    </tr>\n",
       "    <tr>\n",
       "      <th>482</th>\n",
       "      <td>2023-05-01</td>\n",
       "      <td>73.1522</td>\n",
       "      <td>-4.725</td>\n",
       "      <td>-3.6278</td>\n",
       "    </tr>\n",
       "  </tbody>\n",
       "</table>\n",
       "</div>"
      ],
      "text/plain": [
       "          date    price  percentChange  change\n",
       "478 2023-01-03  79.1700         -1.591 -1.2800\n",
       "479 2023-02-01  77.1900         -2.501 -1.9800\n",
       "480 2023-03-01  75.8000         -1.801 -1.3900\n",
       "481 2023-04-03  76.7800          1.293  0.9800\n",
       "482 2023-05-01  73.1522         -4.725 -3.6278"
      ]
     },
     "execution_count": 5,
     "metadata": {},
     "output_type": "execute_result"
    }
   ],
   "source": [
    "oil_price.tail()"
   ]
  },
  {
   "cell_type": "code",
   "execution_count": 6,
   "id": "7f0431fd",
   "metadata": {
    "execution": {
     "iopub.execute_input": "2023-05-11T14:20:03.258938Z",
     "iopub.status.busy": "2023-05-11T14:20:03.258519Z",
     "iopub.status.idle": "2023-05-11T14:20:03.271754Z",
     "shell.execute_reply": "2023-05-11T14:20:03.270656Z"
    },
    "papermill": {
     "duration": 0.042914,
     "end_time": "2023-05-11T14:20:03.274225",
     "exception": false,
     "start_time": "2023-05-11T14:20:03.231311",
     "status": "completed"
    },
    "tags": []
   },
   "outputs": [
    {
     "data": {
      "text/plain": [
       "count    483.000000\n",
       "mean      45.274580\n",
       "std       28.872469\n",
       "min       10.420000\n",
       "25%       20.340000\n",
       "50%       31.590000\n",
       "75%       66.275000\n",
       "max      140.000000\n",
       "Name: price, dtype: float64"
      ]
     },
     "execution_count": 6,
     "metadata": {},
     "output_type": "execute_result"
    }
   ],
   "source": [
    "oil_price.price.describe()"
   ]
  },
  {
   "cell_type": "code",
   "execution_count": 7,
   "id": "c463b262",
   "metadata": {
    "execution": {
     "iopub.execute_input": "2023-05-11T14:20:03.327360Z",
     "iopub.status.busy": "2023-05-11T14:20:03.326930Z",
     "iopub.status.idle": "2023-05-11T14:20:03.340700Z",
     "shell.execute_reply": "2023-05-11T14:20:03.339512Z"
    },
    "papermill": {
     "duration": 0.043308,
     "end_time": "2023-05-11T14:20:03.343262",
     "exception": false,
     "start_time": "2023-05-11T14:20:03.299954",
     "status": "completed"
    },
    "tags": []
   },
   "outputs": [
    {
     "data": {
      "text/html": [
       "<div>\n",
       "<style scoped>\n",
       "    .dataframe tbody tr th:only-of-type {\n",
       "        vertical-align: middle;\n",
       "    }\n",
       "\n",
       "    .dataframe tbody tr th {\n",
       "        vertical-align: top;\n",
       "    }\n",
       "\n",
       "    .dataframe thead th {\n",
       "        text-align: right;\n",
       "    }\n",
       "</style>\n",
       "<table border=\"1\" class=\"dataframe\">\n",
       "  <thead>\n",
       "    <tr style=\"text-align: right;\">\n",
       "      <th></th>\n",
       "      <th>date</th>\n",
       "      <th>price</th>\n",
       "      <th>percentChange</th>\n",
       "      <th>change</th>\n",
       "    </tr>\n",
       "  </thead>\n",
       "  <tbody>\n",
       "  </tbody>\n",
       "</table>\n",
       "</div>"
      ],
      "text/plain": [
       "Empty DataFrame\n",
       "Columns: [date, price, percentChange, change]\n",
       "Index: []"
      ]
     },
     "execution_count": 7,
     "metadata": {},
     "output_type": "execute_result"
    }
   ],
   "source": [
    "oil_price[pd.isnull(oil_price.price)]"
   ]
  },
  {
   "cell_type": "code",
   "execution_count": 8,
   "id": "f5681d6e",
   "metadata": {
    "execution": {
     "iopub.execute_input": "2023-05-11T14:20:03.397450Z",
     "iopub.status.busy": "2023-05-11T14:20:03.396672Z",
     "iopub.status.idle": "2023-05-11T14:20:03.408081Z",
     "shell.execute_reply": "2023-05-11T14:20:03.407041Z"
    },
    "papermill": {
     "duration": 0.041244,
     "end_time": "2023-05-11T14:20:03.410412",
     "exception": false,
     "start_time": "2023-05-11T14:20:03.369168",
     "status": "completed"
    },
    "tags": []
   },
   "outputs": [
    {
     "data": {
      "text/html": [
       "<div>\n",
       "<style scoped>\n",
       "    .dataframe tbody tr th:only-of-type {\n",
       "        vertical-align: middle;\n",
       "    }\n",
       "\n",
       "    .dataframe tbody tr th {\n",
       "        vertical-align: top;\n",
       "    }\n",
       "\n",
       "    .dataframe thead th {\n",
       "        text-align: right;\n",
       "    }\n",
       "</style>\n",
       "<table border=\"1\" class=\"dataframe\">\n",
       "  <thead>\n",
       "    <tr style=\"text-align: right;\">\n",
       "      <th></th>\n",
       "      <th>date</th>\n",
       "      <th>price</th>\n",
       "      <th>percentChange</th>\n",
       "      <th>change</th>\n",
       "    </tr>\n",
       "  </thead>\n",
       "  <tbody>\n",
       "  </tbody>\n",
       "</table>\n",
       "</div>"
      ],
      "text/plain": [
       "Empty DataFrame\n",
       "Columns: [date, price, percentChange, change]\n",
       "Index: []"
      ]
     },
     "execution_count": 8,
     "metadata": {},
     "output_type": "execute_result"
    }
   ],
   "source": [
    "oil_price[pd.isnull(oil_price.date)]"
   ]
  },
  {
   "cell_type": "code",
   "execution_count": 9,
   "id": "97042c3d",
   "metadata": {
    "execution": {
     "iopub.execute_input": "2023-05-11T14:20:03.464453Z",
     "iopub.status.busy": "2023-05-11T14:20:03.464053Z",
     "iopub.status.idle": "2023-05-11T14:20:03.472652Z",
     "shell.execute_reply": "2023-05-11T14:20:03.471248Z"
    },
    "papermill": {
     "duration": 0.038754,
     "end_time": "2023-05-11T14:20:03.475118",
     "exception": false,
     "start_time": "2023-05-11T14:20:03.436364",
     "status": "completed"
    },
    "tags": []
   },
   "outputs": [],
   "source": [
    "names = ['date','price']\n",
    "oil_price_cut = oil_price[names]"
   ]
  },
  {
   "cell_type": "code",
   "execution_count": 10,
   "id": "e86bcd94",
   "metadata": {
    "execution": {
     "iopub.execute_input": "2023-05-11T14:20:03.530229Z",
     "iopub.status.busy": "2023-05-11T14:20:03.529805Z",
     "iopub.status.idle": "2023-05-11T14:20:03.540821Z",
     "shell.execute_reply": "2023-05-11T14:20:03.539569Z"
    },
    "papermill": {
     "duration": 0.042211,
     "end_time": "2023-05-11T14:20:03.543567",
     "exception": false,
     "start_time": "2023-05-11T14:20:03.501356",
     "status": "completed"
    },
    "tags": []
   },
   "outputs": [
    {
     "data": {
      "text/html": [
       "<div>\n",
       "<style scoped>\n",
       "    .dataframe tbody tr th:only-of-type {\n",
       "        vertical-align: middle;\n",
       "    }\n",
       "\n",
       "    .dataframe tbody tr th {\n",
       "        vertical-align: top;\n",
       "    }\n",
       "\n",
       "    .dataframe thead th {\n",
       "        text-align: right;\n",
       "    }\n",
       "</style>\n",
       "<table border=\"1\" class=\"dataframe\">\n",
       "  <thead>\n",
       "    <tr style=\"text-align: right;\">\n",
       "      <th></th>\n",
       "      <th>date</th>\n",
       "      <th>price</th>\n",
       "    </tr>\n",
       "  </thead>\n",
       "  <tbody>\n",
       "    <tr>\n",
       "      <th>0</th>\n",
       "      <td>1983-03-30</td>\n",
       "      <td>29.27</td>\n",
       "    </tr>\n",
       "    <tr>\n",
       "      <th>1</th>\n",
       "      <td>1983-04-04</td>\n",
       "      <td>30.63</td>\n",
       "    </tr>\n",
       "    <tr>\n",
       "      <th>2</th>\n",
       "      <td>1983-05-02</td>\n",
       "      <td>30.25</td>\n",
       "    </tr>\n",
       "    <tr>\n",
       "      <th>3</th>\n",
       "      <td>1983-06-01</td>\n",
       "      <td>31.38</td>\n",
       "    </tr>\n",
       "    <tr>\n",
       "      <th>4</th>\n",
       "      <td>1983-07-01</td>\n",
       "      <td>32.00</td>\n",
       "    </tr>\n",
       "  </tbody>\n",
       "</table>\n",
       "</div>"
      ],
      "text/plain": [
       "        date  price\n",
       "0 1983-03-30  29.27\n",
       "1 1983-04-04  30.63\n",
       "2 1983-05-02  30.25\n",
       "3 1983-06-01  31.38\n",
       "4 1983-07-01  32.00"
      ]
     },
     "execution_count": 10,
     "metadata": {},
     "output_type": "execute_result"
    }
   ],
   "source": [
    "oil_price_cut.head()"
   ]
  },
  {
   "cell_type": "code",
   "execution_count": 11,
   "id": "77cf29c3",
   "metadata": {
    "execution": {
     "iopub.execute_input": "2023-05-11T14:20:03.598416Z",
     "iopub.status.busy": "2023-05-11T14:20:03.598031Z",
     "iopub.status.idle": "2023-05-11T14:20:03.603134Z",
     "shell.execute_reply": "2023-05-11T14:20:03.601931Z"
    },
    "papermill": {
     "duration": 0.035483,
     "end_time": "2023-05-11T14:20:03.605485",
     "exception": false,
     "start_time": "2023-05-11T14:20:03.570002",
     "status": "completed"
    },
    "tags": []
   },
   "outputs": [],
   "source": [
    "#oil_price.drop('percentChange', axis=1, inplace=True)\n"
   ]
  },
  {
   "cell_type": "code",
   "execution_count": 12,
   "id": "234146b7",
   "metadata": {
    "execution": {
     "iopub.execute_input": "2023-05-11T14:20:03.660369Z",
     "iopub.status.busy": "2023-05-11T14:20:03.659988Z",
     "iopub.status.idle": "2023-05-11T14:20:03.666192Z",
     "shell.execute_reply": "2023-05-11T14:20:03.665043Z"
    },
    "papermill": {
     "duration": 0.036562,
     "end_time": "2023-05-11T14:20:03.668504",
     "exception": false,
     "start_time": "2023-05-11T14:20:03.631942",
     "status": "completed"
    },
    "tags": []
   },
   "outputs": [],
   "source": [
    "oil_price.drop('change', axis=1, inplace=True)"
   ]
  },
  {
   "cell_type": "code",
   "execution_count": 13,
   "id": "a78dce03",
   "metadata": {
    "execution": {
     "iopub.execute_input": "2023-05-11T14:20:03.722750Z",
     "iopub.status.busy": "2023-05-11T14:20:03.722364Z",
     "iopub.status.idle": "2023-05-11T14:20:03.732793Z",
     "shell.execute_reply": "2023-05-11T14:20:03.731937Z"
    },
    "papermill": {
     "duration": 0.0405,
     "end_time": "2023-05-11T14:20:03.735157",
     "exception": false,
     "start_time": "2023-05-11T14:20:03.694657",
     "status": "completed"
    },
    "tags": []
   },
   "outputs": [
    {
     "data": {
      "text/html": [
       "<div>\n",
       "<style scoped>\n",
       "    .dataframe tbody tr th:only-of-type {\n",
       "        vertical-align: middle;\n",
       "    }\n",
       "\n",
       "    .dataframe tbody tr th {\n",
       "        vertical-align: top;\n",
       "    }\n",
       "\n",
       "    .dataframe thead th {\n",
       "        text-align: right;\n",
       "    }\n",
       "</style>\n",
       "<table border=\"1\" class=\"dataframe\">\n",
       "  <thead>\n",
       "    <tr style=\"text-align: right;\">\n",
       "      <th></th>\n",
       "      <th>date</th>\n",
       "      <th>price</th>\n",
       "      <th>percentChange</th>\n",
       "    </tr>\n",
       "  </thead>\n",
       "  <tbody>\n",
       "    <tr>\n",
       "      <th>0</th>\n",
       "      <td>1983-03-30</td>\n",
       "      <td>29.27</td>\n",
       "      <td>NaN</td>\n",
       "    </tr>\n",
       "    <tr>\n",
       "      <th>1</th>\n",
       "      <td>1983-04-04</td>\n",
       "      <td>30.63</td>\n",
       "      <td>4.646</td>\n",
       "    </tr>\n",
       "    <tr>\n",
       "      <th>2</th>\n",
       "      <td>1983-05-02</td>\n",
       "      <td>30.25</td>\n",
       "      <td>-1.241</td>\n",
       "    </tr>\n",
       "    <tr>\n",
       "      <th>3</th>\n",
       "      <td>1983-06-01</td>\n",
       "      <td>31.38</td>\n",
       "      <td>3.736</td>\n",
       "    </tr>\n",
       "    <tr>\n",
       "      <th>4</th>\n",
       "      <td>1983-07-01</td>\n",
       "      <td>32.00</td>\n",
       "      <td>1.976</td>\n",
       "    </tr>\n",
       "  </tbody>\n",
       "</table>\n",
       "</div>"
      ],
      "text/plain": [
       "        date  price  percentChange\n",
       "0 1983-03-30  29.27            NaN\n",
       "1 1983-04-04  30.63          4.646\n",
       "2 1983-05-02  30.25         -1.241\n",
       "3 1983-06-01  31.38          3.736\n",
       "4 1983-07-01  32.00          1.976"
      ]
     },
     "execution_count": 13,
     "metadata": {},
     "output_type": "execute_result"
    }
   ],
   "source": [
    "oil_price.head()"
   ]
  },
  {
   "cell_type": "code",
   "execution_count": 14,
   "id": "17000a6a",
   "metadata": {
    "execution": {
     "iopub.execute_input": "2023-05-11T14:20:03.790239Z",
     "iopub.status.busy": "2023-05-11T14:20:03.789808Z",
     "iopub.status.idle": "2023-05-11T14:20:03.796462Z",
     "shell.execute_reply": "2023-05-11T14:20:03.795674Z"
    },
    "papermill": {
     "duration": 0.037053,
     "end_time": "2023-05-11T14:20:03.798674",
     "exception": false,
     "start_time": "2023-05-11T14:20:03.761621",
     "status": "completed"
    },
    "tags": []
   },
   "outputs": [],
   "source": [
    "oil_price = oil_price[oil_price.date > '2019-12-31']"
   ]
  },
  {
   "cell_type": "code",
   "execution_count": 15,
   "id": "b4bb91b8",
   "metadata": {
    "execution": {
     "iopub.execute_input": "2023-05-11T14:20:03.853668Z",
     "iopub.status.busy": "2023-05-11T14:20:03.853281Z",
     "iopub.status.idle": "2023-05-11T14:20:03.866878Z",
     "shell.execute_reply": "2023-05-11T14:20:03.865962Z"
    },
    "papermill": {
     "duration": 0.043711,
     "end_time": "2023-05-11T14:20:03.869213",
     "exception": false,
     "start_time": "2023-05-11T14:20:03.825502",
     "status": "completed"
    },
    "tags": []
   },
   "outputs": [
    {
     "data": {
      "text/html": [
       "<div>\n",
       "<style scoped>\n",
       "    .dataframe tbody tr th:only-of-type {\n",
       "        vertical-align: middle;\n",
       "    }\n",
       "\n",
       "    .dataframe tbody tr th {\n",
       "        vertical-align: top;\n",
       "    }\n",
       "\n",
       "    .dataframe thead th {\n",
       "        text-align: right;\n",
       "    }\n",
       "</style>\n",
       "<table border=\"1\" class=\"dataframe\">\n",
       "  <thead>\n",
       "    <tr style=\"text-align: right;\">\n",
       "      <th></th>\n",
       "      <th>date</th>\n",
       "      <th>price</th>\n",
       "      <th>percentChange</th>\n",
       "    </tr>\n",
       "  </thead>\n",
       "  <tbody>\n",
       "    <tr>\n",
       "      <th>442</th>\n",
       "      <td>2020-01-01</td>\n",
       "      <td>51.56</td>\n",
       "      <td>-15.135</td>\n",
       "    </tr>\n",
       "    <tr>\n",
       "      <th>443</th>\n",
       "      <td>2020-02-03</td>\n",
       "      <td>44.76</td>\n",
       "      <td>-13.189</td>\n",
       "    </tr>\n",
       "    <tr>\n",
       "      <th>444</th>\n",
       "      <td>2020-03-02</td>\n",
       "      <td>20.48</td>\n",
       "      <td>-54.245</td>\n",
       "    </tr>\n",
       "    <tr>\n",
       "      <th>445</th>\n",
       "      <td>2020-04-01</td>\n",
       "      <td>18.84</td>\n",
       "      <td>-8.008</td>\n",
       "    </tr>\n",
       "    <tr>\n",
       "      <th>446</th>\n",
       "      <td>2020-05-01</td>\n",
       "      <td>35.49</td>\n",
       "      <td>88.376</td>\n",
       "    </tr>\n",
       "  </tbody>\n",
       "</table>\n",
       "</div>"
      ],
      "text/plain": [
       "          date  price  percentChange\n",
       "442 2020-01-01  51.56        -15.135\n",
       "443 2020-02-03  44.76        -13.189\n",
       "444 2020-03-02  20.48        -54.245\n",
       "445 2020-04-01  18.84         -8.008\n",
       "446 2020-05-01  35.49         88.376"
      ]
     },
     "execution_count": 15,
     "metadata": {},
     "output_type": "execute_result"
    }
   ],
   "source": [
    "oil_price.head()"
   ]
  },
  {
   "cell_type": "code",
   "execution_count": 16,
   "id": "90fca514",
   "metadata": {
    "execution": {
     "iopub.execute_input": "2023-05-11T14:20:03.925548Z",
     "iopub.status.busy": "2023-05-11T14:20:03.924633Z",
     "iopub.status.idle": "2023-05-11T14:20:03.930219Z",
     "shell.execute_reply": "2023-05-11T14:20:03.929433Z"
    },
    "papermill": {
     "duration": 0.03582,
     "end_time": "2023-05-11T14:20:03.932276",
     "exception": false,
     "start_time": "2023-05-11T14:20:03.896456",
     "status": "completed"
    },
    "tags": []
   },
   "outputs": [
    {
     "data": {
      "text/plain": [
       "(41, 3)"
      ]
     },
     "execution_count": 16,
     "metadata": {},
     "output_type": "execute_result"
    }
   ],
   "source": [
    "oil_price.shape"
   ]
  },
  {
   "cell_type": "code",
   "execution_count": 17,
   "id": "df0d78ad",
   "metadata": {
    "execution": {
     "iopub.execute_input": "2023-05-11T14:20:03.988978Z",
     "iopub.status.busy": "2023-05-11T14:20:03.988538Z",
     "iopub.status.idle": "2023-05-11T14:20:04.001724Z",
     "shell.execute_reply": "2023-05-11T14:20:04.000585Z"
    },
    "papermill": {
     "duration": 0.044812,
     "end_time": "2023-05-11T14:20:04.004744",
     "exception": false,
     "start_time": "2023-05-11T14:20:03.959932",
     "status": "completed"
    },
    "tags": []
   },
   "outputs": [],
   "source": [
    "usd_pln = pd.read_csv('/kaggle/input/usd-pln-montly-historical-data/usd-pln-historical-data.csv', parse_dates = ['Data'], decimal = ',')"
   ]
  },
  {
   "cell_type": "code",
   "execution_count": 18,
   "id": "b5ec9a83",
   "metadata": {
    "execution": {
     "iopub.execute_input": "2023-05-11T14:20:04.060691Z",
     "iopub.status.busy": "2023-05-11T14:20:04.060301Z",
     "iopub.status.idle": "2023-05-11T14:20:04.075990Z",
     "shell.execute_reply": "2023-05-11T14:20:04.074796Z"
    },
    "papermill": {
     "duration": 0.046369,
     "end_time": "2023-05-11T14:20:04.078595",
     "exception": false,
     "start_time": "2023-05-11T14:20:04.032226",
     "status": "completed"
    },
    "tags": []
   },
   "outputs": [
    {
     "data": {
      "text/html": [
       "<div>\n",
       "<style scoped>\n",
       "    .dataframe tbody tr th:only-of-type {\n",
       "        vertical-align: middle;\n",
       "    }\n",
       "\n",
       "    .dataframe tbody tr th {\n",
       "        vertical-align: top;\n",
       "    }\n",
       "\n",
       "    .dataframe thead th {\n",
       "        text-align: right;\n",
       "    }\n",
       "</style>\n",
       "<table border=\"1\" class=\"dataframe\">\n",
       "  <thead>\n",
       "    <tr style=\"text-align: right;\">\n",
       "      <th></th>\n",
       "      <th>Data</th>\n",
       "      <th>Ostatnio</th>\n",
       "      <th>Otwarcie</th>\n",
       "      <th>Max.</th>\n",
       "      <th>Min.</th>\n",
       "      <th>Wol.</th>\n",
       "      <th>Zmiana%</th>\n",
       "    </tr>\n",
       "  </thead>\n",
       "  <tbody>\n",
       "    <tr>\n",
       "      <th>0</th>\n",
       "      <td>2023-01-05</td>\n",
       "      <td>4.1418</td>\n",
       "      <td>4.1694</td>\n",
       "      <td>4.2028</td>\n",
       "      <td>4.1055</td>\n",
       "      <td>NaN</td>\n",
       "      <td>-0,41%</td>\n",
       "    </tr>\n",
       "    <tr>\n",
       "      <th>1</th>\n",
       "      <td>2023-01-04</td>\n",
       "      <td>4.1590</td>\n",
       "      <td>4.3163</td>\n",
       "      <td>4.3436</td>\n",
       "      <td>4.1255</td>\n",
       "      <td>NaN</td>\n",
       "      <td>-3,53%</td>\n",
       "    </tr>\n",
       "    <tr>\n",
       "      <th>2</th>\n",
       "      <td>2023-01-03</td>\n",
       "      <td>4.3113</td>\n",
       "      <td>4.4487</td>\n",
       "      <td>4.4717</td>\n",
       "      <td>4.2778</td>\n",
       "      <td>NaN</td>\n",
       "      <td>-3,05%</td>\n",
       "    </tr>\n",
       "    <tr>\n",
       "      <th>3</th>\n",
       "      <td>2023-01-02</td>\n",
       "      <td>4.4470</td>\n",
       "      <td>4.3351</td>\n",
       "      <td>4.5033</td>\n",
       "      <td>4.2639</td>\n",
       "      <td>NaN</td>\n",
       "      <td>2,63%</td>\n",
       "    </tr>\n",
       "    <tr>\n",
       "      <th>4</th>\n",
       "      <td>2023-01-01</td>\n",
       "      <td>4.3331</td>\n",
       "      <td>4.3816</td>\n",
       "      <td>4.4802</td>\n",
       "      <td>4.3129</td>\n",
       "      <td>NaN</td>\n",
       "      <td>-1,01%</td>\n",
       "    </tr>\n",
       "  </tbody>\n",
       "</table>\n",
       "</div>"
      ],
      "text/plain": [
       "        Data  Ostatnio  Otwarcie    Max.    Min.  Wol. Zmiana%\n",
       "0 2023-01-05    4.1418    4.1694  4.2028  4.1055   NaN  -0,41%\n",
       "1 2023-01-04    4.1590    4.3163  4.3436  4.1255   NaN  -3,53%\n",
       "2 2023-01-03    4.3113    4.4487  4.4717  4.2778   NaN  -3,05%\n",
       "3 2023-01-02    4.4470    4.3351  4.5033  4.2639   NaN   2,63%\n",
       "4 2023-01-01    4.3331    4.3816  4.4802  4.3129   NaN  -1,01%"
      ]
     },
     "execution_count": 18,
     "metadata": {},
     "output_type": "execute_result"
    }
   ],
   "source": [
    "usd_pln.head()"
   ]
  },
  {
   "cell_type": "code",
   "execution_count": 19,
   "id": "03d53513",
   "metadata": {
    "execution": {
     "iopub.execute_input": "2023-05-11T14:20:04.136375Z",
     "iopub.status.busy": "2023-05-11T14:20:04.135968Z",
     "iopub.status.idle": "2023-05-11T14:20:04.144244Z",
     "shell.execute_reply": "2023-05-11T14:20:04.143093Z"
    },
    "papermill": {
     "duration": 0.039567,
     "end_time": "2023-05-11T14:20:04.146612",
     "exception": false,
     "start_time": "2023-05-11T14:20:04.107045",
     "status": "completed"
    },
    "tags": []
   },
   "outputs": [
    {
     "data": {
      "text/plain": [
       "Data        datetime64[ns]\n",
       "Ostatnio           float64\n",
       "Otwarcie           float64\n",
       "Max.               float64\n",
       "Min.               float64\n",
       "Wol.               float64\n",
       "Zmiana%             object\n",
       "dtype: object"
      ]
     },
     "execution_count": 19,
     "metadata": {},
     "output_type": "execute_result"
    }
   ],
   "source": [
    "usd_pln.dtypes"
   ]
  },
  {
   "cell_type": "code",
   "execution_count": 20,
   "id": "1d36aca5",
   "metadata": {
    "execution": {
     "iopub.execute_input": "2023-05-11T14:20:04.203747Z",
     "iopub.status.busy": "2023-05-11T14:20:04.203374Z",
     "iopub.status.idle": "2023-05-11T14:20:04.209585Z",
     "shell.execute_reply": "2023-05-11T14:20:04.208669Z"
    },
    "papermill": {
     "duration": 0.037473,
     "end_time": "2023-05-11T14:20:04.211876",
     "exception": false,
     "start_time": "2023-05-11T14:20:04.174403",
     "status": "completed"
    },
    "tags": []
   },
   "outputs": [],
   "source": [
    "usd_pln_names = ['Data','Ostatnio']\n",
    "usd_pln = usd_pln[usd_pln_names]"
   ]
  },
  {
   "cell_type": "code",
   "execution_count": 21,
   "id": "f1f7aabb",
   "metadata": {
    "execution": {
     "iopub.execute_input": "2023-05-11T14:20:04.269466Z",
     "iopub.status.busy": "2023-05-11T14:20:04.269054Z",
     "iopub.status.idle": "2023-05-11T14:20:04.280223Z",
     "shell.execute_reply": "2023-05-11T14:20:04.279241Z"
    },
    "papermill": {
     "duration": 0.042553,
     "end_time": "2023-05-11T14:20:04.282591",
     "exception": false,
     "start_time": "2023-05-11T14:20:04.240038",
     "status": "completed"
    },
    "tags": []
   },
   "outputs": [
    {
     "data": {
      "text/html": [
       "<div>\n",
       "<style scoped>\n",
       "    .dataframe tbody tr th:only-of-type {\n",
       "        vertical-align: middle;\n",
       "    }\n",
       "\n",
       "    .dataframe tbody tr th {\n",
       "        vertical-align: top;\n",
       "    }\n",
       "\n",
       "    .dataframe thead th {\n",
       "        text-align: right;\n",
       "    }\n",
       "</style>\n",
       "<table border=\"1\" class=\"dataframe\">\n",
       "  <thead>\n",
       "    <tr style=\"text-align: right;\">\n",
       "      <th></th>\n",
       "      <th>Data</th>\n",
       "      <th>Ostatnio</th>\n",
       "    </tr>\n",
       "  </thead>\n",
       "  <tbody>\n",
       "    <tr>\n",
       "      <th>0</th>\n",
       "      <td>2023-01-05</td>\n",
       "      <td>4.1418</td>\n",
       "    </tr>\n",
       "    <tr>\n",
       "      <th>1</th>\n",
       "      <td>2023-01-04</td>\n",
       "      <td>4.1590</td>\n",
       "    </tr>\n",
       "    <tr>\n",
       "      <th>2</th>\n",
       "      <td>2023-01-03</td>\n",
       "      <td>4.3113</td>\n",
       "    </tr>\n",
       "    <tr>\n",
       "      <th>3</th>\n",
       "      <td>2023-01-02</td>\n",
       "      <td>4.4470</td>\n",
       "    </tr>\n",
       "    <tr>\n",
       "      <th>4</th>\n",
       "      <td>2023-01-01</td>\n",
       "      <td>4.3331</td>\n",
       "    </tr>\n",
       "  </tbody>\n",
       "</table>\n",
       "</div>"
      ],
      "text/plain": [
       "        Data  Ostatnio\n",
       "0 2023-01-05    4.1418\n",
       "1 2023-01-04    4.1590\n",
       "2 2023-01-03    4.3113\n",
       "3 2023-01-02    4.4470\n",
       "4 2023-01-01    4.3331"
      ]
     },
     "execution_count": 21,
     "metadata": {},
     "output_type": "execute_result"
    }
   ],
   "source": [
    "usd_pln.head()"
   ]
  },
  {
   "cell_type": "code",
   "execution_count": 22,
   "id": "60f4f0a7",
   "metadata": {
    "execution": {
     "iopub.execute_input": "2023-05-11T14:20:04.340012Z",
     "iopub.status.busy": "2023-05-11T14:20:04.339587Z",
     "iopub.status.idle": "2023-05-11T14:20:04.346031Z",
     "shell.execute_reply": "2023-05-11T14:20:04.344924Z"
    },
    "papermill": {
     "duration": 0.0376,
     "end_time": "2023-05-11T14:20:04.348216",
     "exception": false,
     "start_time": "2023-05-11T14:20:04.310616",
     "status": "completed"
    },
    "tags": []
   },
   "outputs": [
    {
     "data": {
      "text/plain": [
       "(100, 2)"
      ]
     },
     "execution_count": 22,
     "metadata": {},
     "output_type": "execute_result"
    }
   ],
   "source": [
    "usd_pln.shape"
   ]
  },
  {
   "cell_type": "code",
   "execution_count": 23,
   "id": "bf6a0e36",
   "metadata": {
    "execution": {
     "iopub.execute_input": "2023-05-11T14:20:04.406060Z",
     "iopub.status.busy": "2023-05-11T14:20:04.405633Z",
     "iopub.status.idle": "2023-05-11T14:20:04.412143Z",
     "shell.execute_reply": "2023-05-11T14:20:04.410964Z"
    },
    "papermill": {
     "duration": 0.038321,
     "end_time": "2023-05-11T14:20:04.414569",
     "exception": false,
     "start_time": "2023-05-11T14:20:04.376248",
     "status": "completed"
    },
    "tags": []
   },
   "outputs": [],
   "source": [
    "usd_pln = usd_pln[usd_pln.Data > '2019-12-31']"
   ]
  },
  {
   "cell_type": "code",
   "execution_count": 24,
   "id": "73af8d81",
   "metadata": {
    "execution": {
     "iopub.execute_input": "2023-05-11T14:20:04.474050Z",
     "iopub.status.busy": "2023-05-11T14:20:04.473588Z",
     "iopub.status.idle": "2023-05-11T14:20:04.480662Z",
     "shell.execute_reply": "2023-05-11T14:20:04.479474Z"
    },
    "papermill": {
     "duration": 0.040479,
     "end_time": "2023-05-11T14:20:04.483067",
     "exception": false,
     "start_time": "2023-05-11T14:20:04.442588",
     "status": "completed"
    },
    "tags": []
   },
   "outputs": [
    {
     "data": {
      "text/plain": [
       "(41, 2)"
      ]
     },
     "execution_count": 24,
     "metadata": {},
     "output_type": "execute_result"
    }
   ],
   "source": [
    "usd_pln.shape"
   ]
  },
  {
   "cell_type": "code",
   "execution_count": 25,
   "id": "a387e1c7",
   "metadata": {
    "execution": {
     "iopub.execute_input": "2023-05-11T14:20:04.542555Z",
     "iopub.status.busy": "2023-05-11T14:20:04.542161Z",
     "iopub.status.idle": "2023-05-11T14:20:04.548545Z",
     "shell.execute_reply": "2023-05-11T14:20:04.547158Z"
    },
    "papermill": {
     "duration": 0.038576,
     "end_time": "2023-05-11T14:20:04.550840",
     "exception": false,
     "start_time": "2023-05-11T14:20:04.512264",
     "status": "completed"
    },
    "tags": []
   },
   "outputs": [],
   "source": [
    "usd_pln.rename(columns={'Ostatnio':'usd-pln'}, inplace = True)"
   ]
  },
  {
   "cell_type": "code",
   "execution_count": 26,
   "id": "ed16e02c",
   "metadata": {
    "execution": {
     "iopub.execute_input": "2023-05-11T14:20:04.609886Z",
     "iopub.status.busy": "2023-05-11T14:20:04.609253Z",
     "iopub.status.idle": "2023-05-11T14:20:04.620081Z",
     "shell.execute_reply": "2023-05-11T14:20:04.618937Z"
    },
    "papermill": {
     "duration": 0.043655,
     "end_time": "2023-05-11T14:20:04.622651",
     "exception": false,
     "start_time": "2023-05-11T14:20:04.578996",
     "status": "completed"
    },
    "tags": []
   },
   "outputs": [
    {
     "data": {
      "text/html": [
       "<div>\n",
       "<style scoped>\n",
       "    .dataframe tbody tr th:only-of-type {\n",
       "        vertical-align: middle;\n",
       "    }\n",
       "\n",
       "    .dataframe tbody tr th {\n",
       "        vertical-align: top;\n",
       "    }\n",
       "\n",
       "    .dataframe thead th {\n",
       "        text-align: right;\n",
       "    }\n",
       "</style>\n",
       "<table border=\"1\" class=\"dataframe\">\n",
       "  <thead>\n",
       "    <tr style=\"text-align: right;\">\n",
       "      <th></th>\n",
       "      <th>Data</th>\n",
       "      <th>usd-pln</th>\n",
       "    </tr>\n",
       "  </thead>\n",
       "  <tbody>\n",
       "    <tr>\n",
       "      <th>0</th>\n",
       "      <td>2023-01-05</td>\n",
       "      <td>4.1418</td>\n",
       "    </tr>\n",
       "    <tr>\n",
       "      <th>1</th>\n",
       "      <td>2023-01-04</td>\n",
       "      <td>4.1590</td>\n",
       "    </tr>\n",
       "    <tr>\n",
       "      <th>2</th>\n",
       "      <td>2023-01-03</td>\n",
       "      <td>4.3113</td>\n",
       "    </tr>\n",
       "    <tr>\n",
       "      <th>3</th>\n",
       "      <td>2023-01-02</td>\n",
       "      <td>4.4470</td>\n",
       "    </tr>\n",
       "    <tr>\n",
       "      <th>4</th>\n",
       "      <td>2023-01-01</td>\n",
       "      <td>4.3331</td>\n",
       "    </tr>\n",
       "  </tbody>\n",
       "</table>\n",
       "</div>"
      ],
      "text/plain": [
       "        Data  usd-pln\n",
       "0 2023-01-05   4.1418\n",
       "1 2023-01-04   4.1590\n",
       "2 2023-01-03   4.3113\n",
       "3 2023-01-02   4.4470\n",
       "4 2023-01-01   4.3331"
      ]
     },
     "execution_count": 26,
     "metadata": {},
     "output_type": "execute_result"
    }
   ],
   "source": [
    "usd_pln.head()"
   ]
  },
  {
   "cell_type": "code",
   "execution_count": 27,
   "id": "3a232cc5",
   "metadata": {
    "execution": {
     "iopub.execute_input": "2023-05-11T14:20:04.682787Z",
     "iopub.status.busy": "2023-05-11T14:20:04.682395Z",
     "iopub.status.idle": "2023-05-11T14:20:04.694774Z",
     "shell.execute_reply": "2023-05-11T14:20:04.693657Z"
    },
    "papermill": {
     "duration": 0.045464,
     "end_time": "2023-05-11T14:20:04.697249",
     "exception": false,
     "start_time": "2023-05-11T14:20:04.651785",
     "status": "completed"
    },
    "tags": []
   },
   "outputs": [
    {
     "data": {
      "text/html": [
       "<div>\n",
       "<style scoped>\n",
       "    .dataframe tbody tr th:only-of-type {\n",
       "        vertical-align: middle;\n",
       "    }\n",
       "\n",
       "    .dataframe tbody tr th {\n",
       "        vertical-align: top;\n",
       "    }\n",
       "\n",
       "    .dataframe thead th {\n",
       "        text-align: right;\n",
       "    }\n",
       "</style>\n",
       "<table border=\"1\" class=\"dataframe\">\n",
       "  <thead>\n",
       "    <tr style=\"text-align: right;\">\n",
       "      <th></th>\n",
       "      <th>date</th>\n",
       "      <th>price</th>\n",
       "      <th>percentChange</th>\n",
       "    </tr>\n",
       "  </thead>\n",
       "  <tbody>\n",
       "    <tr>\n",
       "      <th>442</th>\n",
       "      <td>2020-01-01</td>\n",
       "      <td>51.56</td>\n",
       "      <td>-15.135</td>\n",
       "    </tr>\n",
       "    <tr>\n",
       "      <th>443</th>\n",
       "      <td>2020-02-03</td>\n",
       "      <td>44.76</td>\n",
       "      <td>-13.189</td>\n",
       "    </tr>\n",
       "    <tr>\n",
       "      <th>444</th>\n",
       "      <td>2020-03-02</td>\n",
       "      <td>20.48</td>\n",
       "      <td>-54.245</td>\n",
       "    </tr>\n",
       "    <tr>\n",
       "      <th>445</th>\n",
       "      <td>2020-04-01</td>\n",
       "      <td>18.84</td>\n",
       "      <td>-8.008</td>\n",
       "    </tr>\n",
       "    <tr>\n",
       "      <th>446</th>\n",
       "      <td>2020-05-01</td>\n",
       "      <td>35.49</td>\n",
       "      <td>88.376</td>\n",
       "    </tr>\n",
       "  </tbody>\n",
       "</table>\n",
       "</div>"
      ],
      "text/plain": [
       "          date  price  percentChange\n",
       "442 2020-01-01  51.56        -15.135\n",
       "443 2020-02-03  44.76        -13.189\n",
       "444 2020-03-02  20.48        -54.245\n",
       "445 2020-04-01  18.84         -8.008\n",
       "446 2020-05-01  35.49         88.376"
      ]
     },
     "execution_count": 27,
     "metadata": {},
     "output_type": "execute_result"
    }
   ],
   "source": [
    "oil_price.head()"
   ]
  },
  {
   "cell_type": "code",
   "execution_count": 28,
   "id": "32990479",
   "metadata": {
    "execution": {
     "iopub.execute_input": "2023-05-11T14:20:04.757340Z",
     "iopub.status.busy": "2023-05-11T14:20:04.756540Z",
     "iopub.status.idle": "2023-05-11T14:20:04.764965Z",
     "shell.execute_reply": "2023-05-11T14:20:04.763796Z"
    },
    "papermill": {
     "duration": 0.040982,
     "end_time": "2023-05-11T14:20:04.767461",
     "exception": false,
     "start_time": "2023-05-11T14:20:04.726479",
     "status": "completed"
    },
    "tags": []
   },
   "outputs": [
    {
     "data": {
      "text/plain": [
       "date             datetime64[ns]\n",
       "price                   float64\n",
       "percentChange           float64\n",
       "dtype: object"
      ]
     },
     "execution_count": 28,
     "metadata": {},
     "output_type": "execute_result"
    }
   ],
   "source": [
    "oil_price.dtypes"
   ]
  },
  {
   "cell_type": "code",
   "execution_count": 29,
   "id": "9217f312",
   "metadata": {
    "execution": {
     "iopub.execute_input": "2023-05-11T14:20:04.826772Z",
     "iopub.status.busy": "2023-05-11T14:20:04.826405Z",
     "iopub.status.idle": "2023-05-11T14:20:04.830754Z",
     "shell.execute_reply": "2023-05-11T14:20:04.829886Z"
    },
    "papermill": {
     "duration": 0.036823,
     "end_time": "2023-05-11T14:20:04.832871",
     "exception": false,
     "start_time": "2023-05-11T14:20:04.796048",
     "status": "completed"
    },
    "tags": []
   },
   "outputs": [],
   "source": [
    "oil_price.reset_index(drop=True, inplace = True)"
   ]
  },
  {
   "cell_type": "code",
   "execution_count": 30,
   "id": "e729806a",
   "metadata": {
    "execution": {
     "iopub.execute_input": "2023-05-11T14:20:04.892130Z",
     "iopub.status.busy": "2023-05-11T14:20:04.891388Z",
     "iopub.status.idle": "2023-05-11T14:20:04.903563Z",
     "shell.execute_reply": "2023-05-11T14:20:04.902582Z"
    },
    "papermill": {
     "duration": 0.044526,
     "end_time": "2023-05-11T14:20:04.905990",
     "exception": false,
     "start_time": "2023-05-11T14:20:04.861464",
     "status": "completed"
    },
    "tags": []
   },
   "outputs": [
    {
     "data": {
      "text/html": [
       "<div>\n",
       "<style scoped>\n",
       "    .dataframe tbody tr th:only-of-type {\n",
       "        vertical-align: middle;\n",
       "    }\n",
       "\n",
       "    .dataframe tbody tr th {\n",
       "        vertical-align: top;\n",
       "    }\n",
       "\n",
       "    .dataframe thead th {\n",
       "        text-align: right;\n",
       "    }\n",
       "</style>\n",
       "<table border=\"1\" class=\"dataframe\">\n",
       "  <thead>\n",
       "    <tr style=\"text-align: right;\">\n",
       "      <th></th>\n",
       "      <th>date</th>\n",
       "      <th>price</th>\n",
       "      <th>percentChange</th>\n",
       "    </tr>\n",
       "  </thead>\n",
       "  <tbody>\n",
       "    <tr>\n",
       "      <th>0</th>\n",
       "      <td>2020-01-01</td>\n",
       "      <td>51.56</td>\n",
       "      <td>-15.135</td>\n",
       "    </tr>\n",
       "    <tr>\n",
       "      <th>1</th>\n",
       "      <td>2020-02-03</td>\n",
       "      <td>44.76</td>\n",
       "      <td>-13.189</td>\n",
       "    </tr>\n",
       "    <tr>\n",
       "      <th>2</th>\n",
       "      <td>2020-03-02</td>\n",
       "      <td>20.48</td>\n",
       "      <td>-54.245</td>\n",
       "    </tr>\n",
       "    <tr>\n",
       "      <th>3</th>\n",
       "      <td>2020-04-01</td>\n",
       "      <td>18.84</td>\n",
       "      <td>-8.008</td>\n",
       "    </tr>\n",
       "    <tr>\n",
       "      <th>4</th>\n",
       "      <td>2020-05-01</td>\n",
       "      <td>35.49</td>\n",
       "      <td>88.376</td>\n",
       "    </tr>\n",
       "  </tbody>\n",
       "</table>\n",
       "</div>"
      ],
      "text/plain": [
       "        date  price  percentChange\n",
       "0 2020-01-01  51.56        -15.135\n",
       "1 2020-02-03  44.76        -13.189\n",
       "2 2020-03-02  20.48        -54.245\n",
       "3 2020-04-01  18.84         -8.008\n",
       "4 2020-05-01  35.49         88.376"
      ]
     },
     "execution_count": 30,
     "metadata": {},
     "output_type": "execute_result"
    }
   ],
   "source": [
    "oil_price.head()"
   ]
  },
  {
   "cell_type": "code",
   "execution_count": 31,
   "id": "2db980ee",
   "metadata": {
    "execution": {
     "iopub.execute_input": "2023-05-11T14:20:04.966191Z",
     "iopub.status.busy": "2023-05-11T14:20:04.965738Z",
     "iopub.status.idle": "2023-05-11T14:20:04.977306Z",
     "shell.execute_reply": "2023-05-11T14:20:04.976207Z"
    },
    "papermill": {
     "duration": 0.044535,
     "end_time": "2023-05-11T14:20:04.979721",
     "exception": false,
     "start_time": "2023-05-11T14:20:04.935186",
     "status": "completed"
    },
    "tags": []
   },
   "outputs": [
    {
     "data": {
      "text/html": [
       "<div>\n",
       "<style scoped>\n",
       "    .dataframe tbody tr th:only-of-type {\n",
       "        vertical-align: middle;\n",
       "    }\n",
       "\n",
       "    .dataframe tbody tr th {\n",
       "        vertical-align: top;\n",
       "    }\n",
       "\n",
       "    .dataframe thead th {\n",
       "        text-align: right;\n",
       "    }\n",
       "</style>\n",
       "<table border=\"1\" class=\"dataframe\">\n",
       "  <thead>\n",
       "    <tr style=\"text-align: right;\">\n",
       "      <th></th>\n",
       "      <th>Data</th>\n",
       "      <th>usd-pln</th>\n",
       "    </tr>\n",
       "  </thead>\n",
       "  <tbody>\n",
       "    <tr>\n",
       "      <th>0</th>\n",
       "      <td>2023-01-05</td>\n",
       "      <td>4.1418</td>\n",
       "    </tr>\n",
       "    <tr>\n",
       "      <th>1</th>\n",
       "      <td>2023-01-04</td>\n",
       "      <td>4.1590</td>\n",
       "    </tr>\n",
       "    <tr>\n",
       "      <th>2</th>\n",
       "      <td>2023-01-03</td>\n",
       "      <td>4.3113</td>\n",
       "    </tr>\n",
       "    <tr>\n",
       "      <th>3</th>\n",
       "      <td>2023-01-02</td>\n",
       "      <td>4.4470</td>\n",
       "    </tr>\n",
       "    <tr>\n",
       "      <th>4</th>\n",
       "      <td>2023-01-01</td>\n",
       "      <td>4.3331</td>\n",
       "    </tr>\n",
       "  </tbody>\n",
       "</table>\n",
       "</div>"
      ],
      "text/plain": [
       "        Data  usd-pln\n",
       "0 2023-01-05   4.1418\n",
       "1 2023-01-04   4.1590\n",
       "2 2023-01-03   4.3113\n",
       "3 2023-01-02   4.4470\n",
       "4 2023-01-01   4.3331"
      ]
     },
     "execution_count": 31,
     "metadata": {},
     "output_type": "execute_result"
    }
   ],
   "source": [
    "usd_pln.head()"
   ]
  },
  {
   "cell_type": "code",
   "execution_count": 32,
   "id": "3544d297",
   "metadata": {
    "execution": {
     "iopub.execute_input": "2023-05-11T14:20:05.041272Z",
     "iopub.status.busy": "2023-05-11T14:20:05.040231Z",
     "iopub.status.idle": "2023-05-11T14:20:05.045780Z",
     "shell.execute_reply": "2023-05-11T14:20:05.044622Z"
    },
    "papermill": {
     "duration": 0.038843,
     "end_time": "2023-05-11T14:20:05.048040",
     "exception": false,
     "start_time": "2023-05-11T14:20:05.009197",
     "status": "completed"
    },
    "tags": []
   },
   "outputs": [],
   "source": [
    "usd_pln = usd_pln['usd-pln']"
   ]
  },
  {
   "cell_type": "code",
   "execution_count": 33,
   "id": "26690437",
   "metadata": {
    "execution": {
     "iopub.execute_input": "2023-05-11T14:20:05.107895Z",
     "iopub.status.busy": "2023-05-11T14:20:05.107469Z",
     "iopub.status.idle": "2023-05-11T14:20:05.115938Z",
     "shell.execute_reply": "2023-05-11T14:20:05.114804Z"
    },
    "papermill": {
     "duration": 0.041202,
     "end_time": "2023-05-11T14:20:05.118183",
     "exception": false,
     "start_time": "2023-05-11T14:20:05.076981",
     "status": "completed"
    },
    "tags": []
   },
   "outputs": [
    {
     "data": {
      "text/plain": [
       "0    4.1418\n",
       "1    4.1590\n",
       "2    4.3113\n",
       "3    4.4470\n",
       "4    4.3331\n",
       "Name: usd-pln, dtype: float64"
      ]
     },
     "execution_count": 33,
     "metadata": {},
     "output_type": "execute_result"
    }
   ],
   "source": [
    "usd_pln.head()"
   ]
  },
  {
   "cell_type": "code",
   "execution_count": 34,
   "id": "64b906e9",
   "metadata": {
    "execution": {
     "iopub.execute_input": "2023-05-11T14:20:05.179158Z",
     "iopub.status.busy": "2023-05-11T14:20:05.178758Z",
     "iopub.status.idle": "2023-05-11T14:20:05.186588Z",
     "shell.execute_reply": "2023-05-11T14:20:05.185324Z"
    },
    "papermill": {
     "duration": 0.041645,
     "end_time": "2023-05-11T14:20:05.189112",
     "exception": false,
     "start_time": "2023-05-11T14:20:05.147467",
     "status": "completed"
    },
    "tags": []
   },
   "outputs": [],
   "source": [
    "df_merged = pd.concat([oil_price, usd_pln], axis=1)"
   ]
  },
  {
   "cell_type": "code",
   "execution_count": 35,
   "id": "90ad21df",
   "metadata": {
    "execution": {
     "iopub.execute_input": "2023-05-11T14:20:05.249169Z",
     "iopub.status.busy": "2023-05-11T14:20:05.248724Z",
     "iopub.status.idle": "2023-05-11T14:20:05.261987Z",
     "shell.execute_reply": "2023-05-11T14:20:05.261105Z"
    },
    "papermill": {
     "duration": 0.046091,
     "end_time": "2023-05-11T14:20:05.264247",
     "exception": false,
     "start_time": "2023-05-11T14:20:05.218156",
     "status": "completed"
    },
    "tags": []
   },
   "outputs": [
    {
     "data": {
      "text/html": [
       "<div>\n",
       "<style scoped>\n",
       "    .dataframe tbody tr th:only-of-type {\n",
       "        vertical-align: middle;\n",
       "    }\n",
       "\n",
       "    .dataframe tbody tr th {\n",
       "        vertical-align: top;\n",
       "    }\n",
       "\n",
       "    .dataframe thead th {\n",
       "        text-align: right;\n",
       "    }\n",
       "</style>\n",
       "<table border=\"1\" class=\"dataframe\">\n",
       "  <thead>\n",
       "    <tr style=\"text-align: right;\">\n",
       "      <th></th>\n",
       "      <th>date</th>\n",
       "      <th>price</th>\n",
       "      <th>percentChange</th>\n",
       "      <th>usd-pln</th>\n",
       "    </tr>\n",
       "  </thead>\n",
       "  <tbody>\n",
       "    <tr>\n",
       "      <th>0</th>\n",
       "      <td>2020-01-01</td>\n",
       "      <td>51.56</td>\n",
       "      <td>-15.135</td>\n",
       "      <td>4.1418</td>\n",
       "    </tr>\n",
       "    <tr>\n",
       "      <th>1</th>\n",
       "      <td>2020-02-03</td>\n",
       "      <td>44.76</td>\n",
       "      <td>-13.189</td>\n",
       "      <td>4.1590</td>\n",
       "    </tr>\n",
       "    <tr>\n",
       "      <th>2</th>\n",
       "      <td>2020-03-02</td>\n",
       "      <td>20.48</td>\n",
       "      <td>-54.245</td>\n",
       "      <td>4.3113</td>\n",
       "    </tr>\n",
       "    <tr>\n",
       "      <th>3</th>\n",
       "      <td>2020-04-01</td>\n",
       "      <td>18.84</td>\n",
       "      <td>-8.008</td>\n",
       "      <td>4.4470</td>\n",
       "    </tr>\n",
       "    <tr>\n",
       "      <th>4</th>\n",
       "      <td>2020-05-01</td>\n",
       "      <td>35.49</td>\n",
       "      <td>88.376</td>\n",
       "      <td>4.3331</td>\n",
       "    </tr>\n",
       "  </tbody>\n",
       "</table>\n",
       "</div>"
      ],
      "text/plain": [
       "        date  price  percentChange  usd-pln\n",
       "0 2020-01-01  51.56        -15.135   4.1418\n",
       "1 2020-02-03  44.76        -13.189   4.1590\n",
       "2 2020-03-02  20.48        -54.245   4.3113\n",
       "3 2020-04-01  18.84         -8.008   4.4470\n",
       "4 2020-05-01  35.49         88.376   4.3331"
      ]
     },
     "execution_count": 35,
     "metadata": {},
     "output_type": "execute_result"
    }
   ],
   "source": [
    "df_merged.head()"
   ]
  },
  {
   "cell_type": "code",
   "execution_count": 36,
   "id": "c582aa31",
   "metadata": {
    "execution": {
     "iopub.execute_input": "2023-05-11T14:20:05.324806Z",
     "iopub.status.busy": "2023-05-11T14:20:05.324392Z",
     "iopub.status.idle": "2023-05-11T14:20:05.330422Z",
     "shell.execute_reply": "2023-05-11T14:20:05.329228Z"
    },
    "papermill": {
     "duration": 0.039334,
     "end_time": "2023-05-11T14:20:05.332993",
     "exception": false,
     "start_time": "2023-05-11T14:20:05.293659",
     "status": "completed"
    },
    "tags": []
   },
   "outputs": [],
   "source": [
    "df_merged.rename(columns={'usd-pln':'usd_pln'}, inplace = True)"
   ]
  },
  {
   "cell_type": "code",
   "execution_count": 37,
   "id": "9820e5f4",
   "metadata": {
    "execution": {
     "iopub.execute_input": "2023-05-11T14:20:05.393628Z",
     "iopub.status.busy": "2023-05-11T14:20:05.393216Z",
     "iopub.status.idle": "2023-05-11T14:20:05.400830Z",
     "shell.execute_reply": "2023-05-11T14:20:05.399933Z"
    },
    "papermill": {
     "duration": 0.040558,
     "end_time": "2023-05-11T14:20:05.403020",
     "exception": false,
     "start_time": "2023-05-11T14:20:05.362462",
     "status": "completed"
    },
    "tags": []
   },
   "outputs": [],
   "source": [
    "df_merged['price-pln'] = df_merged.price * df_merged.usd_pln"
   ]
  },
  {
   "cell_type": "code",
   "execution_count": 38,
   "id": "9d53c68d",
   "metadata": {
    "execution": {
     "iopub.execute_input": "2023-05-11T14:20:05.464516Z",
     "iopub.status.busy": "2023-05-11T14:20:05.464124Z",
     "iopub.status.idle": "2023-05-11T14:20:05.478299Z",
     "shell.execute_reply": "2023-05-11T14:20:05.477306Z"
    },
    "papermill": {
     "duration": 0.047239,
     "end_time": "2023-05-11T14:20:05.480334",
     "exception": false,
     "start_time": "2023-05-11T14:20:05.433095",
     "status": "completed"
    },
    "tags": []
   },
   "outputs": [
    {
     "data": {
      "text/html": [
       "<div>\n",
       "<style scoped>\n",
       "    .dataframe tbody tr th:only-of-type {\n",
       "        vertical-align: middle;\n",
       "    }\n",
       "\n",
       "    .dataframe tbody tr th {\n",
       "        vertical-align: top;\n",
       "    }\n",
       "\n",
       "    .dataframe thead th {\n",
       "        text-align: right;\n",
       "    }\n",
       "</style>\n",
       "<table border=\"1\" class=\"dataframe\">\n",
       "  <thead>\n",
       "    <tr style=\"text-align: right;\">\n",
       "      <th></th>\n",
       "      <th>date</th>\n",
       "      <th>price</th>\n",
       "      <th>percentChange</th>\n",
       "      <th>usd_pln</th>\n",
       "      <th>price-pln</th>\n",
       "    </tr>\n",
       "  </thead>\n",
       "  <tbody>\n",
       "    <tr>\n",
       "      <th>0</th>\n",
       "      <td>2020-01-01</td>\n",
       "      <td>51.56</td>\n",
       "      <td>-15.135</td>\n",
       "      <td>4.1418</td>\n",
       "      <td>213.551208</td>\n",
       "    </tr>\n",
       "    <tr>\n",
       "      <th>1</th>\n",
       "      <td>2020-02-03</td>\n",
       "      <td>44.76</td>\n",
       "      <td>-13.189</td>\n",
       "      <td>4.1590</td>\n",
       "      <td>186.156840</td>\n",
       "    </tr>\n",
       "    <tr>\n",
       "      <th>2</th>\n",
       "      <td>2020-03-02</td>\n",
       "      <td>20.48</td>\n",
       "      <td>-54.245</td>\n",
       "      <td>4.3113</td>\n",
       "      <td>88.295424</td>\n",
       "    </tr>\n",
       "    <tr>\n",
       "      <th>3</th>\n",
       "      <td>2020-04-01</td>\n",
       "      <td>18.84</td>\n",
       "      <td>-8.008</td>\n",
       "      <td>4.4470</td>\n",
       "      <td>83.781480</td>\n",
       "    </tr>\n",
       "    <tr>\n",
       "      <th>4</th>\n",
       "      <td>2020-05-01</td>\n",
       "      <td>35.49</td>\n",
       "      <td>88.376</td>\n",
       "      <td>4.3331</td>\n",
       "      <td>153.781719</td>\n",
       "    </tr>\n",
       "  </tbody>\n",
       "</table>\n",
       "</div>"
      ],
      "text/plain": [
       "        date  price  percentChange  usd_pln   price-pln\n",
       "0 2020-01-01  51.56        -15.135   4.1418  213.551208\n",
       "1 2020-02-03  44.76        -13.189   4.1590  186.156840\n",
       "2 2020-03-02  20.48        -54.245   4.3113   88.295424\n",
       "3 2020-04-01  18.84         -8.008   4.4470   83.781480\n",
       "4 2020-05-01  35.49         88.376   4.3331  153.781719"
      ]
     },
     "execution_count": 38,
     "metadata": {},
     "output_type": "execute_result"
    }
   ],
   "source": [
    "df_merged.head()"
   ]
  },
  {
   "cell_type": "code",
   "execution_count": 39,
   "id": "94dffc66",
   "metadata": {
    "execution": {
     "iopub.execute_input": "2023-05-11T14:20:05.541480Z",
     "iopub.status.busy": "2023-05-11T14:20:05.541109Z",
     "iopub.status.idle": "2023-05-11T14:20:07.005993Z",
     "shell.execute_reply": "2023-05-11T14:20:07.004482Z"
    },
    "papermill": {
     "duration": 1.498928,
     "end_time": "2023-05-11T14:20:07.008655",
     "exception": false,
     "start_time": "2023-05-11T14:20:05.509727",
     "status": "completed"
    },
    "tags": []
   },
   "outputs": [
    {
     "name": "stderr",
     "output_type": "stream",
     "text": [
      "/opt/conda/lib/python3.10/site-packages/scipy/__init__.py:146: UserWarning: A NumPy version >=1.16.5 and <1.23.0 is required for this version of SciPy (detected version 1.23.5\n",
      "  warnings.warn(f\"A NumPy version >={np_minversion} and <{np_maxversion}\"\n"
     ]
    },
    {
     "name": "stdout",
     "output_type": "stream",
     "text": [
      "Setup Complete\n"
     ]
    }
   ],
   "source": [
    "pd.plotting.register_matplotlib_converters()\n",
    "import matplotlib.pyplot as plt\n",
    "%matplotlib inline\n",
    "import seaborn as sns\n",
    "print(\"Setup Complete\")"
   ]
  },
  {
   "cell_type": "code",
   "execution_count": 40,
   "id": "d21c2c2c",
   "metadata": {
    "execution": {
     "iopub.execute_input": "2023-05-11T14:20:07.071532Z",
     "iopub.status.busy": "2023-05-11T14:20:07.071133Z",
     "iopub.status.idle": "2023-05-11T14:20:07.079535Z",
     "shell.execute_reply": "2023-05-11T14:20:07.078210Z"
    },
    "papermill": {
     "duration": 0.042766,
     "end_time": "2023-05-11T14:20:07.082056",
     "exception": false,
     "start_time": "2023-05-11T14:20:07.039290",
     "status": "completed"
    },
    "tags": []
   },
   "outputs": [
    {
     "data": {
      "text/plain": [
       "date             datetime64[ns]\n",
       "price                   float64\n",
       "percentChange           float64\n",
       "usd_pln                 float64\n",
       "price-pln               float64\n",
       "dtype: object"
      ]
     },
     "execution_count": 40,
     "metadata": {},
     "output_type": "execute_result"
    }
   ],
   "source": [
    "df_merged.dtypes"
   ]
  },
  {
   "cell_type": "code",
   "execution_count": 41,
   "id": "06b8377b",
   "metadata": {
    "execution": {
     "iopub.execute_input": "2023-05-11T14:20:07.144490Z",
     "iopub.status.busy": "2023-05-11T14:20:07.143776Z",
     "iopub.status.idle": "2023-05-11T14:20:07.571044Z",
     "shell.execute_reply": "2023-05-11T14:20:07.569738Z"
    },
    "papermill": {
     "duration": 0.461593,
     "end_time": "2023-05-11T14:20:07.573620",
     "exception": false,
     "start_time": "2023-05-11T14:20:07.112027",
     "status": "completed"
    },
    "tags": []
   },
   "outputs": [
    {
     "data": {
      "text/plain": [
       "<AxesSubplot: >"
      ]
     },
     "execution_count": 41,
     "metadata": {},
     "output_type": "execute_result"
    },
    {
     "data": {
      "image/png": "[encoded data removed]",
      "text/plain": [
       "<Figure size 1600x600 with 1 Axes>"
      ]
     },
     "metadata": {},
     "output_type": "display_data"
    }
   ],
   "source": [
    "# Set the width and height of the figure\n",
    "plt.figure(figsize=(16,6))\n",
    "\n",
    "# Line chart showing how FIFA rankings evolved over time \n",
    "sns.lineplot(data=df_merged)"
   ]
  },
  {
   "cell_type": "code",
   "execution_count": 42,
   "id": "f5990fae",
   "metadata": {
    "execution": {
     "iopub.execute_input": "2023-05-11T14:20:07.639332Z",
     "iopub.status.busy": "2023-05-11T14:20:07.638290Z",
     "iopub.status.idle": "2023-05-11T14:20:07.654069Z",
     "shell.execute_reply": "2023-05-11T14:20:07.652948Z"
    },
    "papermill": {
     "duration": 0.05132,
     "end_time": "2023-05-11T14:20:07.656524",
     "exception": false,
     "start_time": "2023-05-11T14:20:07.605204",
     "status": "completed"
    },
    "tags": []
   },
   "outputs": [
    {
     "data": {
      "text/html": [
       "<div>\n",
       "<style scoped>\n",
       "    .dataframe tbody tr th:only-of-type {\n",
       "        vertical-align: middle;\n",
       "    }\n",
       "\n",
       "    .dataframe tbody tr th {\n",
       "        vertical-align: top;\n",
       "    }\n",
       "\n",
       "    .dataframe thead th {\n",
       "        text-align: right;\n",
       "    }\n",
       "</style>\n",
       "<table border=\"1\" class=\"dataframe\">\n",
       "  <thead>\n",
       "    <tr style=\"text-align: right;\">\n",
       "      <th></th>\n",
       "      <th>price</th>\n",
       "      <th>percentChange</th>\n",
       "      <th>usd_pln</th>\n",
       "      <th>price-pln</th>\n",
       "    </tr>\n",
       "    <tr>\n",
       "      <th>date</th>\n",
       "      <th></th>\n",
       "      <th></th>\n",
       "      <th></th>\n",
       "      <th></th>\n",
       "    </tr>\n",
       "  </thead>\n",
       "  <tbody>\n",
       "    <tr>\n",
       "      <th>2020-01-01</th>\n",
       "      <td>51.56</td>\n",
       "      <td>-15.135</td>\n",
       "      <td>4.1418</td>\n",
       "      <td>213.551208</td>\n",
       "    </tr>\n",
       "    <tr>\n",
       "      <th>2020-02-03</th>\n",
       "      <td>44.76</td>\n",
       "      <td>-13.189</td>\n",
       "      <td>4.1590</td>\n",
       "      <td>186.156840</td>\n",
       "    </tr>\n",
       "    <tr>\n",
       "      <th>2020-03-02</th>\n",
       "      <td>20.48</td>\n",
       "      <td>-54.245</td>\n",
       "      <td>4.3113</td>\n",
       "      <td>88.295424</td>\n",
       "    </tr>\n",
       "    <tr>\n",
       "      <th>2020-04-01</th>\n",
       "      <td>18.84</td>\n",
       "      <td>-8.008</td>\n",
       "      <td>4.4470</td>\n",
       "      <td>83.781480</td>\n",
       "    </tr>\n",
       "    <tr>\n",
       "      <th>2020-05-01</th>\n",
       "      <td>35.49</td>\n",
       "      <td>88.376</td>\n",
       "      <td>4.3331</td>\n",
       "      <td>153.781719</td>\n",
       "    </tr>\n",
       "  </tbody>\n",
       "</table>\n",
       "</div>"
      ],
      "text/plain": [
       "            price  percentChange  usd_pln   price-pln\n",
       "date                                                 \n",
       "2020-01-01  51.56        -15.135   4.1418  213.551208\n",
       "2020-02-03  44.76        -13.189   4.1590  186.156840\n",
       "2020-03-02  20.48        -54.245   4.3113   88.295424\n",
       "2020-04-01  18.84         -8.008   4.4470   83.781480\n",
       "2020-05-01  35.49         88.376   4.3331  153.781719"
      ]
     },
     "execution_count": 42,
     "metadata": {},
     "output_type": "execute_result"
    }
   ],
   "source": [
    "df_merged.set_index('date', inplace = True)\n",
    "df_merged.head()"
   ]
  },
  {
   "cell_type": "code",
   "execution_count": 43,
   "id": "6bc48e7f",
   "metadata": {
    "execution": {
     "iopub.execute_input": "2023-05-11T14:20:07.721823Z",
     "iopub.status.busy": "2023-05-11T14:20:07.721435Z",
     "iopub.status.idle": "2023-05-11T14:20:08.224222Z",
     "shell.execute_reply": "2023-05-11T14:20:08.223092Z"
    },
    "papermill": {
     "duration": 0.538998,
     "end_time": "2023-05-11T14:20:08.227220",
     "exception": false,
     "start_time": "2023-05-11T14:20:07.688222",
     "status": "completed"
    },
    "tags": []
   },
   "outputs": [
    {
     "data": {
      "text/plain": [
       "<AxesSubplot: xlabel='date'>"
      ]
     },
     "execution_count": 43,
     "metadata": {},
     "output_type": "execute_result"
    },
    {
     "data": {
      "image/png": "[encoded data removed]",
      "text/plain": [
       "<Figure size 1600x600 with 1 Axes>"
      ]
     },
     "metadata": {},
     "output_type": "display_data"
    }
   ],
   "source": [
    "# Set the width and height of the figure\n",
    "plt.figure(figsize=(16,6))\n",
    "\n",
    "# Line chart showing how FIFA rankings evolved over time \n",
    "sns.lineplot(data=df_merged)"
   ]
  },
  {
   "cell_type": "code",
   "execution_count": 44,
   "id": "877ee73e",
   "metadata": {
    "execution": {
     "iopub.execute_input": "2023-05-11T14:20:08.298124Z",
     "iopub.status.busy": "2023-05-11T14:20:08.297369Z",
     "iopub.status.idle": "2023-05-11T14:20:08.802866Z",
     "shell.execute_reply": "2023-05-11T14:20:08.801728Z"
    },
    "papermill": {
     "duration": 0.544521,
     "end_time": "2023-05-11T14:20:08.805230",
     "exception": false,
     "start_time": "2023-05-11T14:20:08.260709",
     "status": "completed"
    },
    "tags": []
   },
   "outputs": [
    {
     "data": {
      "text/plain": [
       "<AxesSubplot: xlabel='date'>"
      ]
     },
     "execution_count": 44,
     "metadata": {},
     "output_type": "execute_result"
    },
    {
     "data": {
      "image/png": "[encoded data removed]",
      "text/plain": [
       "<Figure size 1600x600 with 1 Axes>"
      ]
     },
     "metadata": {},
     "output_type": "display_data"
    }
   ],
   "source": [
    "plt.figure(figsize=(16,6))\n",
    "sns.lineplot(data=df_merged)"
   ]
  },
  {
   "cell_type": "code",
   "execution_count": 45,
   "id": "dbb8dcdc",
   "metadata": {
    "execution": {
     "iopub.execute_input": "2023-05-11T14:20:08.875369Z",
     "iopub.status.busy": "2023-05-11T14:20:08.874945Z",
     "iopub.status.idle": "2023-05-11T14:20:08.891515Z",
     "shell.execute_reply": "2023-05-11T14:20:08.890374Z"
    },
    "papermill": {
     "duration": 0.054901,
     "end_time": "2023-05-11T14:20:08.894457",
     "exception": false,
     "start_time": "2023-05-11T14:20:08.839556",
     "status": "completed"
    },
    "tags": []
   },
   "outputs": [],
   "source": [
    "diesel_price = pd.read_csv('/kaggle/input/ecodiesel-price-pl/ceny-paliw-lotos.csv',sep=';', decimal = ',')"
   ]
  },
  {
   "cell_type": "code",
   "execution_count": 46,
   "id": "fc337cdb",
   "metadata": {
    "execution": {
     "iopub.execute_input": "2023-05-11T14:20:08.965604Z",
     "iopub.status.busy": "2023-05-11T14:20:08.965189Z",
     "iopub.status.idle": "2023-05-11T14:20:08.980351Z",
     "shell.execute_reply": "2023-05-11T14:20:08.979096Z"
    },
    "papermill": {
     "duration": 0.053341,
     "end_time": "2023-05-11T14:20:08.982709",
     "exception": false,
     "start_time": "2023-05-11T14:20:08.929368",
     "status": "completed"
    },
    "tags": []
   },
   "outputs": [
    {
     "data": {
      "text/html": [
       "<div>\n",
       "<style scoped>\n",
       "    .dataframe tbody tr th:only-of-type {\n",
       "        vertical-align: middle;\n",
       "    }\n",
       "\n",
       "    .dataframe tbody tr th {\n",
       "        vertical-align: top;\n",
       "    }\n",
       "\n",
       "    .dataframe thead th {\n",
       "        text-align: right;\n",
       "    }\n",
       "</style>\n",
       "<table border=\"1\" class=\"dataframe\">\n",
       "  <thead>\n",
       "    <tr style=\"text-align: right;\">\n",
       "      <th></th>\n",
       "      <th>data</th>\n",
       "      <th>cena</th>\n",
       "      <th>akcyza</th>\n",
       "      <th>oplata_paliwowa</th>\n",
       "      <th>suma</th>\n",
       "      <th>norma</th>\n",
       "    </tr>\n",
       "  </thead>\n",
       "  <tbody>\n",
       "    <tr>\n",
       "      <th>0</th>\n",
       "      <td>11.05.2023</td>\n",
       "      <td>4 881,00</td>\n",
       "      <td>1 160,00</td>\n",
       "      <td>372.9</td>\n",
       "      <td>6 413,90</td>\n",
       "      <td>6.4139</td>\n",
       "    </tr>\n",
       "    <tr>\n",
       "      <th>1</th>\n",
       "      <td>10.05.2023</td>\n",
       "      <td>4 832,00</td>\n",
       "      <td>1 160,00</td>\n",
       "      <td>372.9</td>\n",
       "      <td>6 364,90</td>\n",
       "      <td>6.3649</td>\n",
       "    </tr>\n",
       "    <tr>\n",
       "      <th>2</th>\n",
       "      <td>06.05.2023</td>\n",
       "      <td>4 794,00</td>\n",
       "      <td>1 160,00</td>\n",
       "      <td>372.9</td>\n",
       "      <td>6 326,90</td>\n",
       "      <td>6.3269</td>\n",
       "    </tr>\n",
       "    <tr>\n",
       "      <th>3</th>\n",
       "      <td>05.05.2023</td>\n",
       "      <td>4 793,00</td>\n",
       "      <td>1 160,00</td>\n",
       "      <td>372.9</td>\n",
       "      <td>6 325,90</td>\n",
       "      <td>6.3259</td>\n",
       "    </tr>\n",
       "    <tr>\n",
       "      <th>4</th>\n",
       "      <td>03.05.2023</td>\n",
       "      <td>4 910,00</td>\n",
       "      <td>1 160,00</td>\n",
       "      <td>372.9</td>\n",
       "      <td>6 442,90</td>\n",
       "      <td>6.4429</td>\n",
       "    </tr>\n",
       "  </tbody>\n",
       "</table>\n",
       "</div>"
      ],
      "text/plain": [
       "         data      cena    akcyza  oplata_paliwowa      suma   norma\n",
       "0  11.05.2023  4 881,00  1 160,00            372.9  6 413,90  6.4139\n",
       "1  10.05.2023  4 832,00  1 160,00            372.9  6 364,90  6.3649\n",
       "2  06.05.2023  4 794,00  1 160,00            372.9  6 326,90  6.3269\n",
       "3  05.05.2023  4 793,00  1 160,00            372.9  6 325,90  6.3259\n",
       "4  03.05.2023  4 910,00  1 160,00            372.9  6 442,90  6.4429"
      ]
     },
     "execution_count": 46,
     "metadata": {},
     "output_type": "execute_result"
    }
   ],
   "source": [
    "diesel_price.head()"
   ]
  },
  {
   "cell_type": "code",
   "execution_count": 47,
   "id": "331a0d34",
   "metadata": {
    "execution": {
     "iopub.execute_input": "2023-05-11T14:20:09.053826Z",
     "iopub.status.busy": "2023-05-11T14:20:09.053382Z",
     "iopub.status.idle": "2023-05-11T14:20:09.061738Z",
     "shell.execute_reply": "2023-05-11T14:20:09.060655Z"
    },
    "papermill": {
     "duration": 0.046573,
     "end_time": "2023-05-11T14:20:09.063872",
     "exception": false,
     "start_time": "2023-05-11T14:20:09.017299",
     "status": "completed"
    },
    "tags": []
   },
   "outputs": [
    {
     "data": {
      "text/plain": [
       "data                object\n",
       "cena                object\n",
       "akcyza              object\n",
       "oplata_paliwowa    float64\n",
       "suma                object\n",
       "norma              float64\n",
       "dtype: object"
      ]
     },
     "execution_count": 47,
     "metadata": {},
     "output_type": "execute_result"
    }
   ],
   "source": [
    "diesel_price.dtypes"
   ]
  },
  {
   "cell_type": "code",
   "execution_count": 48,
   "id": "4680b14e",
   "metadata": {
    "execution": {
     "iopub.execute_input": "2023-05-11T14:20:09.136369Z",
     "iopub.status.busy": "2023-05-11T14:20:09.136001Z",
     "iopub.status.idle": "2023-05-11T14:20:09.141925Z",
     "shell.execute_reply": "2023-05-11T14:20:09.140693Z"
    },
    "papermill": {
     "duration": 0.045733,
     "end_time": "2023-05-11T14:20:09.144359",
     "exception": false,
     "start_time": "2023-05-11T14:20:09.098626",
     "status": "completed"
    },
    "tags": []
   },
   "outputs": [],
   "source": [
    "d_names = ['data','norma']\n",
    "diesel_price = diesel_price[d_names]"
   ]
  },
  {
   "cell_type": "code",
   "execution_count": 49,
   "id": "184b4a93",
   "metadata": {
    "execution": {
     "iopub.execute_input": "2023-05-11T14:20:09.215866Z",
     "iopub.status.busy": "2023-05-11T14:20:09.215469Z",
     "iopub.status.idle": "2023-05-11T14:20:09.227745Z",
     "shell.execute_reply": "2023-05-11T14:20:09.226904Z"
    },
    "papermill": {
     "duration": 0.050175,
     "end_time": "2023-05-11T14:20:09.229878",
     "exception": false,
     "start_time": "2023-05-11T14:20:09.179703",
     "status": "completed"
    },
    "tags": []
   },
   "outputs": [
    {
     "data": {
      "text/html": [
       "<div>\n",
       "<style scoped>\n",
       "    .dataframe tbody tr th:only-of-type {\n",
       "        vertical-align: middle;\n",
       "    }\n",
       "\n",
       "    .dataframe tbody tr th {\n",
       "        vertical-align: top;\n",
       "    }\n",
       "\n",
       "    .dataframe thead th {\n",
       "        text-align: right;\n",
       "    }\n",
       "</style>\n",
       "<table border=\"1\" class=\"dataframe\">\n",
       "  <thead>\n",
       "    <tr style=\"text-align: right;\">\n",
       "      <th></th>\n",
       "      <th>data</th>\n",
       "      <th>norma</th>\n",
       "    </tr>\n",
       "  </thead>\n",
       "  <tbody>\n",
       "    <tr>\n",
       "      <th>0</th>\n",
       "      <td>11.05.2023</td>\n",
       "      <td>6.41390</td>\n",
       "    </tr>\n",
       "    <tr>\n",
       "      <th>1</th>\n",
       "      <td>10.05.2023</td>\n",
       "      <td>6.36490</td>\n",
       "    </tr>\n",
       "    <tr>\n",
       "      <th>2</th>\n",
       "      <td>06.05.2023</td>\n",
       "      <td>6.32690</td>\n",
       "    </tr>\n",
       "    <tr>\n",
       "      <th>3</th>\n",
       "      <td>05.05.2023</td>\n",
       "      <td>6.32590</td>\n",
       "    </tr>\n",
       "    <tr>\n",
       "      <th>4</th>\n",
       "      <td>03.05.2023</td>\n",
       "      <td>6.44290</td>\n",
       "    </tr>\n",
       "    <tr>\n",
       "      <th>...</th>\n",
       "      <td>...</td>\n",
       "      <td>...</td>\n",
       "    </tr>\n",
       "    <tr>\n",
       "      <th>850</th>\n",
       "      <td>09.01.2020</td>\n",
       "      <td>5.64134</td>\n",
       "    </tr>\n",
       "    <tr>\n",
       "      <th>851</th>\n",
       "      <td>08.01.2020</td>\n",
       "      <td>5.66834</td>\n",
       "    </tr>\n",
       "    <tr>\n",
       "      <th>852</th>\n",
       "      <td>04.01.2020</td>\n",
       "      <td>5.66534</td>\n",
       "    </tr>\n",
       "    <tr>\n",
       "      <th>853</th>\n",
       "      <td>03.01.2020</td>\n",
       "      <td>5.64334</td>\n",
       "    </tr>\n",
       "    <tr>\n",
       "      <th>854</th>\n",
       "      <td>01.01.2020</td>\n",
       "      <td>5.66734</td>\n",
       "    </tr>\n",
       "  </tbody>\n",
       "</table>\n",
       "<p>855 rows × 2 columns</p>\n",
       "</div>"
      ],
      "text/plain": [
       "           data    norma\n",
       "0    11.05.2023  6.41390\n",
       "1    10.05.2023  6.36490\n",
       "2    06.05.2023  6.32690\n",
       "3    05.05.2023  6.32590\n",
       "4    03.05.2023  6.44290\n",
       "..          ...      ...\n",
       "850  09.01.2020  5.64134\n",
       "851  08.01.2020  5.66834\n",
       "852  04.01.2020  5.66534\n",
       "853  03.01.2020  5.64334\n",
       "854  01.01.2020  5.66734\n",
       "\n",
       "[855 rows x 2 columns]"
      ]
     },
     "execution_count": 49,
     "metadata": {},
     "output_type": "execute_result"
    }
   ],
   "source": [
    "diesel_price"
   ]
  },
  {
   "cell_type": "code",
   "execution_count": 50,
   "id": "7a423d53",
   "metadata": {
    "execution": {
     "iopub.execute_input": "2023-05-11T14:20:09.302000Z",
     "iopub.status.busy": "2023-05-11T14:20:09.301560Z",
     "iopub.status.idle": "2023-05-11T14:20:09.309996Z",
     "shell.execute_reply": "2023-05-11T14:20:09.308842Z"
    },
    "papermill": {
     "duration": 0.047326,
     "end_time": "2023-05-11T14:20:09.312311",
     "exception": false,
     "start_time": "2023-05-11T14:20:09.264985",
     "status": "completed"
    },
    "tags": []
   },
   "outputs": [],
   "source": [
    "diesel_price['data'] = pd.to_datetime(diesel_price['data'], dayfirst = True)"
   ]
  },
  {
   "cell_type": "code",
   "execution_count": 51,
   "id": "a6799381",
   "metadata": {
    "execution": {
     "iopub.execute_input": "2023-05-11T14:20:09.386080Z",
     "iopub.status.busy": "2023-05-11T14:20:09.385478Z",
     "iopub.status.idle": "2023-05-11T14:20:09.396961Z",
     "shell.execute_reply": "2023-05-11T14:20:09.396126Z"
    },
    "papermill": {
     "duration": 0.052137,
     "end_time": "2023-05-11T14:20:09.399328",
     "exception": false,
     "start_time": "2023-05-11T14:20:09.347191",
     "status": "completed"
    },
    "tags": []
   },
   "outputs": [
    {
     "data": {
      "text/html": [
       "<div>\n",
       "<style scoped>\n",
       "    .dataframe tbody tr th:only-of-type {\n",
       "        vertical-align: middle;\n",
       "    }\n",
       "\n",
       "    .dataframe tbody tr th {\n",
       "        vertical-align: top;\n",
       "    }\n",
       "\n",
       "    .dataframe thead th {\n",
       "        text-align: right;\n",
       "    }\n",
       "</style>\n",
       "<table border=\"1\" class=\"dataframe\">\n",
       "  <thead>\n",
       "    <tr style=\"text-align: right;\">\n",
       "      <th></th>\n",
       "      <th>data</th>\n",
       "      <th>norma</th>\n",
       "    </tr>\n",
       "  </thead>\n",
       "  <tbody>\n",
       "    <tr>\n",
       "      <th>0</th>\n",
       "      <td>2023-05-11</td>\n",
       "      <td>6.4139</td>\n",
       "    </tr>\n",
       "    <tr>\n",
       "      <th>1</th>\n",
       "      <td>2023-05-10</td>\n",
       "      <td>6.3649</td>\n",
       "    </tr>\n",
       "    <tr>\n",
       "      <th>2</th>\n",
       "      <td>2023-05-06</td>\n",
       "      <td>6.3269</td>\n",
       "    </tr>\n",
       "    <tr>\n",
       "      <th>3</th>\n",
       "      <td>2023-05-05</td>\n",
       "      <td>6.3259</td>\n",
       "    </tr>\n",
       "    <tr>\n",
       "      <th>4</th>\n",
       "      <td>2023-05-03</td>\n",
       "      <td>6.4429</td>\n",
       "    </tr>\n",
       "  </tbody>\n",
       "</table>\n",
       "</div>"
      ],
      "text/plain": [
       "        data   norma\n",
       "0 2023-05-11  6.4139\n",
       "1 2023-05-10  6.3649\n",
       "2 2023-05-06  6.3269\n",
       "3 2023-05-05  6.3259\n",
       "4 2023-05-03  6.4429"
      ]
     },
     "execution_count": 51,
     "metadata": {},
     "output_type": "execute_result"
    }
   ],
   "source": [
    "diesel_price.head()"
   ]
  },
  {
   "cell_type": "code",
   "execution_count": 52,
   "id": "f791eb4e",
   "metadata": {
    "execution": {
     "iopub.execute_input": "2023-05-11T14:20:09.472443Z",
     "iopub.status.busy": "2023-05-11T14:20:09.471332Z",
     "iopub.status.idle": "2023-05-11T14:20:09.479801Z",
     "shell.execute_reply": "2023-05-11T14:20:09.478766Z"
    },
    "papermill": {
     "duration": 0.047359,
     "end_time": "2023-05-11T14:20:09.482130",
     "exception": false,
     "start_time": "2023-05-11T14:20:09.434771",
     "status": "completed"
    },
    "tags": []
   },
   "outputs": [
    {
     "data": {
      "text/plain": [
       "data     datetime64[ns]\n",
       "norma           float64\n",
       "dtype: object"
      ]
     },
     "execution_count": 52,
     "metadata": {},
     "output_type": "execute_result"
    }
   ],
   "source": [
    "diesel_price.dtypes"
   ]
  },
  {
   "cell_type": "code",
   "execution_count": 53,
   "id": "d073534a",
   "metadata": {
    "execution": {
     "iopub.execute_input": "2023-05-11T14:20:09.554532Z",
     "iopub.status.busy": "2023-05-11T14:20:09.554128Z",
     "iopub.status.idle": "2023-05-11T14:20:09.565074Z",
     "shell.execute_reply": "2023-05-11T14:20:09.563945Z"
    },
    "papermill": {
     "duration": 0.050199,
     "end_time": "2023-05-11T14:20:09.567472",
     "exception": false,
     "start_time": "2023-05-11T14:20:09.517273",
     "status": "completed"
    },
    "tags": []
   },
   "outputs": [
    {
     "data": {
      "text/html": [
       "<div>\n",
       "<style scoped>\n",
       "    .dataframe tbody tr th:only-of-type {\n",
       "        vertical-align: middle;\n",
       "    }\n",
       "\n",
       "    .dataframe tbody tr th {\n",
       "        vertical-align: top;\n",
       "    }\n",
       "\n",
       "    .dataframe thead th {\n",
       "        text-align: right;\n",
       "    }\n",
       "</style>\n",
       "<table border=\"1\" class=\"dataframe\">\n",
       "  <thead>\n",
       "    <tr style=\"text-align: right;\">\n",
       "      <th></th>\n",
       "      <th>data</th>\n",
       "      <th>norma</th>\n",
       "    </tr>\n",
       "  </thead>\n",
       "  <tbody>\n",
       "    <tr>\n",
       "      <th>850</th>\n",
       "      <td>2020-01-09</td>\n",
       "      <td>5.64134</td>\n",
       "    </tr>\n",
       "    <tr>\n",
       "      <th>851</th>\n",
       "      <td>2020-01-08</td>\n",
       "      <td>5.66834</td>\n",
       "    </tr>\n",
       "    <tr>\n",
       "      <th>852</th>\n",
       "      <td>2020-01-04</td>\n",
       "      <td>5.66534</td>\n",
       "    </tr>\n",
       "    <tr>\n",
       "      <th>853</th>\n",
       "      <td>2020-01-03</td>\n",
       "      <td>5.64334</td>\n",
       "    </tr>\n",
       "    <tr>\n",
       "      <th>854</th>\n",
       "      <td>2020-01-01</td>\n",
       "      <td>5.66734</td>\n",
       "    </tr>\n",
       "  </tbody>\n",
       "</table>\n",
       "</div>"
      ],
      "text/plain": [
       "          data    norma\n",
       "850 2020-01-09  5.64134\n",
       "851 2020-01-08  5.66834\n",
       "852 2020-01-04  5.66534\n",
       "853 2020-01-03  5.64334\n",
       "854 2020-01-01  5.66734"
      ]
     },
     "execution_count": 53,
     "metadata": {},
     "output_type": "execute_result"
    }
   ],
   "source": [
    "diesel_price.tail()"
   ]
  },
  {
   "cell_type": "code",
   "execution_count": 54,
   "id": "bf70fc6f",
   "metadata": {
    "execution": {
     "iopub.execute_input": "2023-05-11T14:20:09.641503Z",
     "iopub.status.busy": "2023-05-11T14:20:09.641118Z",
     "iopub.status.idle": "2023-05-11T14:20:09.652212Z",
     "shell.execute_reply": "2023-05-11T14:20:09.650735Z"
    },
    "papermill": {
     "duration": 0.051686,
     "end_time": "2023-05-11T14:20:09.654691",
     "exception": false,
     "start_time": "2023-05-11T14:20:09.603005",
     "status": "completed"
    },
    "tags": []
   },
   "outputs": [
    {
     "data": {
      "text/html": [
       "<div>\n",
       "<style scoped>\n",
       "    .dataframe tbody tr th:only-of-type {\n",
       "        vertical-align: middle;\n",
       "    }\n",
       "\n",
       "    .dataframe tbody tr th {\n",
       "        vertical-align: top;\n",
       "    }\n",
       "\n",
       "    .dataframe thead th {\n",
       "        text-align: right;\n",
       "    }\n",
       "</style>\n",
       "<table border=\"1\" class=\"dataframe\">\n",
       "  <thead>\n",
       "    <tr style=\"text-align: right;\">\n",
       "      <th></th>\n",
       "      <th>data</th>\n",
       "      <th>norma</th>\n",
       "    </tr>\n",
       "  </thead>\n",
       "  <tbody>\n",
       "    <tr>\n",
       "      <th>0</th>\n",
       "      <td>2023-05-11</td>\n",
       "      <td>6.4139</td>\n",
       "    </tr>\n",
       "    <tr>\n",
       "      <th>1</th>\n",
       "      <td>2023-05-10</td>\n",
       "      <td>6.3649</td>\n",
       "    </tr>\n",
       "    <tr>\n",
       "      <th>2</th>\n",
       "      <td>2023-05-06</td>\n",
       "      <td>6.3269</td>\n",
       "    </tr>\n",
       "    <tr>\n",
       "      <th>3</th>\n",
       "      <td>2023-05-05</td>\n",
       "      <td>6.3259</td>\n",
       "    </tr>\n",
       "    <tr>\n",
       "      <th>4</th>\n",
       "      <td>2023-05-03</td>\n",
       "      <td>6.4429</td>\n",
       "    </tr>\n",
       "  </tbody>\n",
       "</table>\n",
       "</div>"
      ],
      "text/plain": [
       "        data   norma\n",
       "0 2023-05-11  6.4139\n",
       "1 2023-05-10  6.3649\n",
       "2 2023-05-06  6.3269\n",
       "3 2023-05-05  6.3259\n",
       "4 2023-05-03  6.4429"
      ]
     },
     "execution_count": 54,
     "metadata": {},
     "output_type": "execute_result"
    }
   ],
   "source": [
    "diesel_price.head()"
   ]
  },
  {
   "cell_type": "code",
   "execution_count": 55,
   "id": "a4bbe356",
   "metadata": {
    "execution": {
     "iopub.execute_input": "2023-05-11T14:20:09.728422Z",
     "iopub.status.busy": "2023-05-11T14:20:09.727929Z",
     "iopub.status.idle": "2023-05-11T14:20:09.745500Z",
     "shell.execute_reply": "2023-05-11T14:20:09.744608Z"
    },
    "papermill": {
     "duration": 0.057265,
     "end_time": "2023-05-11T14:20:09.747869",
     "exception": false,
     "start_time": "2023-05-11T14:20:09.690604",
     "status": "completed"
    },
    "tags": []
   },
   "outputs": [],
   "source": [
    "diesel_price = diesel_price.groupby(pd.PeriodIndex(diesel_price['data'], freq=\"M\"))['norma'].mean().reset_index()"
   ]
  },
  {
   "cell_type": "code",
   "execution_count": 56,
   "id": "5c0d3657",
   "metadata": {
    "execution": {
     "iopub.execute_input": "2023-05-11T14:20:09.821676Z",
     "iopub.status.busy": "2023-05-11T14:20:09.821260Z",
     "iopub.status.idle": "2023-05-11T14:20:09.828790Z",
     "shell.execute_reply": "2023-05-11T14:20:09.827635Z"
    },
    "papermill": {
     "duration": 0.047752,
     "end_time": "2023-05-11T14:20:09.831248",
     "exception": false,
     "start_time": "2023-05-11T14:20:09.783496",
     "status": "completed"
    },
    "tags": []
   },
   "outputs": [
    {
     "data": {
      "text/plain": [
       "(41, 2)"
      ]
     },
     "execution_count": 56,
     "metadata": {},
     "output_type": "execute_result"
    }
   ],
   "source": [
    "diesel_price.shape"
   ]
  },
  {
   "cell_type": "code",
   "execution_count": 57,
   "id": "762a43e6",
   "metadata": {
    "execution": {
     "iopub.execute_input": "2023-05-11T14:20:09.905933Z",
     "iopub.status.busy": "2023-05-11T14:20:09.905522Z",
     "iopub.status.idle": "2023-05-11T14:20:09.916424Z",
     "shell.execute_reply": "2023-05-11T14:20:09.914955Z"
    },
    "papermill": {
     "duration": 0.051733,
     "end_time": "2023-05-11T14:20:09.918914",
     "exception": false,
     "start_time": "2023-05-11T14:20:09.867181",
     "status": "completed"
    },
    "tags": []
   },
   "outputs": [
    {
     "data": {
      "text/html": [
       "<div>\n",
       "<style scoped>\n",
       "    .dataframe tbody tr th:only-of-type {\n",
       "        vertical-align: middle;\n",
       "    }\n",
       "\n",
       "    .dataframe tbody tr th {\n",
       "        vertical-align: top;\n",
       "    }\n",
       "\n",
       "    .dataframe thead th {\n",
       "        text-align: right;\n",
       "    }\n",
       "</style>\n",
       "<table border=\"1\" class=\"dataframe\">\n",
       "  <thead>\n",
       "    <tr style=\"text-align: right;\">\n",
       "      <th></th>\n",
       "      <th>data</th>\n",
       "      <th>norma</th>\n",
       "    </tr>\n",
       "  </thead>\n",
       "  <tbody>\n",
       "    <tr>\n",
       "      <th>0</th>\n",
       "      <td>2020-01</td>\n",
       "      <td>5.498204</td>\n",
       "    </tr>\n",
       "    <tr>\n",
       "      <th>1</th>\n",
       "      <td>2020-02</td>\n",
       "      <td>5.267054</td>\n",
       "    </tr>\n",
       "    <tr>\n",
       "      <th>2</th>\n",
       "      <td>2020-03</td>\n",
       "      <td>4.852613</td>\n",
       "    </tr>\n",
       "    <tr>\n",
       "      <th>3</th>\n",
       "      <td>2020-04</td>\n",
       "      <td>4.543740</td>\n",
       "    </tr>\n",
       "    <tr>\n",
       "      <th>4</th>\n",
       "      <td>2020-05</td>\n",
       "      <td>4.586890</td>\n",
       "    </tr>\n",
       "  </tbody>\n",
       "</table>\n",
       "</div>"
      ],
      "text/plain": [
       "      data     norma\n",
       "0  2020-01  5.498204\n",
       "1  2020-02  5.267054\n",
       "2  2020-03  4.852613\n",
       "3  2020-04  4.543740\n",
       "4  2020-05  4.586890"
      ]
     },
     "execution_count": 57,
     "metadata": {},
     "output_type": "execute_result"
    }
   ],
   "source": [
    "diesel_price.head()"
   ]
  },
  {
   "cell_type": "code",
   "execution_count": 58,
   "id": "bf9cebf7",
   "metadata": {
    "execution": {
     "iopub.execute_input": "2023-05-11T14:20:09.993918Z",
     "iopub.status.busy": "2023-05-11T14:20:09.993109Z",
     "iopub.status.idle": "2023-05-11T14:20:10.000226Z",
     "shell.execute_reply": "2023-05-11T14:20:09.999419Z"
    },
    "papermill": {
     "duration": 0.046902,
     "end_time": "2023-05-11T14:20:10.002399",
     "exception": false,
     "start_time": "2023-05-11T14:20:09.955497",
     "status": "completed"
    },
    "tags": []
   },
   "outputs": [
    {
     "data": {
      "text/plain": [
       "data     period[M]\n",
       "norma      float64\n",
       "dtype: object"
      ]
     },
     "execution_count": 58,
     "metadata": {},
     "output_type": "execute_result"
    }
   ],
   "source": [
    "diesel_price.dtypes"
   ]
  },
  {
   "cell_type": "code",
   "execution_count": 59,
   "id": "01be1cb0",
   "metadata": {
    "execution": {
     "iopub.execute_input": "2023-05-11T14:20:10.077589Z",
     "iopub.status.busy": "2023-05-11T14:20:10.076872Z",
     "iopub.status.idle": "2023-05-11T14:20:10.083152Z",
     "shell.execute_reply": "2023-05-11T14:20:10.082184Z"
    },
    "papermill": {
     "duration": 0.046695,
     "end_time": "2023-05-11T14:20:10.085440",
     "exception": false,
     "start_time": "2023-05-11T14:20:10.038745",
     "status": "completed"
    },
    "tags": []
   },
   "outputs": [
    {
     "data": {
      "text/plain": [
       "(41, 2)"
      ]
     },
     "execution_count": 59,
     "metadata": {},
     "output_type": "execute_result"
    }
   ],
   "source": [
    "diesel_price.shape"
   ]
  },
  {
   "cell_type": "code",
   "execution_count": 60,
   "id": "3c61cb09",
   "metadata": {
    "execution": {
     "iopub.execute_input": "2023-05-11T14:20:10.160957Z",
     "iopub.status.busy": "2023-05-11T14:20:10.160160Z",
     "iopub.status.idle": "2023-05-11T14:20:10.170563Z",
     "shell.execute_reply": "2023-05-11T14:20:10.169344Z"
    },
    "papermill": {
     "duration": 0.051085,
     "end_time": "2023-05-11T14:20:10.173035",
     "exception": false,
     "start_time": "2023-05-11T14:20:10.121950",
     "status": "completed"
    },
    "tags": []
   },
   "outputs": [
    {
     "data": {
      "text/plain": [
       "data     datetime64[ns]\n",
       "norma           float64\n",
       "dtype: object"
      ]
     },
     "execution_count": 60,
     "metadata": {},
     "output_type": "execute_result"
    }
   ],
   "source": [
    "diesel_price['data'] = diesel_price['data'].astype(str)\n",
    "diesel_price['data'] = pd.to_datetime(diesel_price['data'])\n",
    "diesel_price.dtypes"
   ]
  },
  {
   "cell_type": "code",
   "execution_count": 61,
   "id": "4a6da2af",
   "metadata": {
    "execution": {
     "iopub.execute_input": "2023-05-11T14:20:10.249109Z",
     "iopub.status.busy": "2023-05-11T14:20:10.248365Z",
     "iopub.status.idle": "2023-05-11T14:20:10.259528Z",
     "shell.execute_reply": "2023-05-11T14:20:10.258424Z"
    },
    "papermill": {
     "duration": 0.05176,
     "end_time": "2023-05-11T14:20:10.262048",
     "exception": false,
     "start_time": "2023-05-11T14:20:10.210288",
     "status": "completed"
    },
    "tags": []
   },
   "outputs": [
    {
     "data": {
      "text/html": [
       "<div>\n",
       "<style scoped>\n",
       "    .dataframe tbody tr th:only-of-type {\n",
       "        vertical-align: middle;\n",
       "    }\n",
       "\n",
       "    .dataframe tbody tr th {\n",
       "        vertical-align: top;\n",
       "    }\n",
       "\n",
       "    .dataframe thead th {\n",
       "        text-align: right;\n",
       "    }\n",
       "</style>\n",
       "<table border=\"1\" class=\"dataframe\">\n",
       "  <thead>\n",
       "    <tr style=\"text-align: right;\">\n",
       "      <th></th>\n",
       "      <th>data</th>\n",
       "      <th>norma</th>\n",
       "    </tr>\n",
       "  </thead>\n",
       "  <tbody>\n",
       "    <tr>\n",
       "      <th>0</th>\n",
       "      <td>2020-01-01</td>\n",
       "      <td>5.498204</td>\n",
       "    </tr>\n",
       "    <tr>\n",
       "      <th>1</th>\n",
       "      <td>2020-02-01</td>\n",
       "      <td>5.267054</td>\n",
       "    </tr>\n",
       "    <tr>\n",
       "      <th>2</th>\n",
       "      <td>2020-03-01</td>\n",
       "      <td>4.852613</td>\n",
       "    </tr>\n",
       "    <tr>\n",
       "      <th>3</th>\n",
       "      <td>2020-04-01</td>\n",
       "      <td>4.543740</td>\n",
       "    </tr>\n",
       "    <tr>\n",
       "      <th>4</th>\n",
       "      <td>2020-05-01</td>\n",
       "      <td>4.586890</td>\n",
       "    </tr>\n",
       "  </tbody>\n",
       "</table>\n",
       "</div>"
      ],
      "text/plain": [
       "        data     norma\n",
       "0 2020-01-01  5.498204\n",
       "1 2020-02-01  5.267054\n",
       "2 2020-03-01  4.852613\n",
       "3 2020-04-01  4.543740\n",
       "4 2020-05-01  4.586890"
      ]
     },
     "execution_count": 61,
     "metadata": {},
     "output_type": "execute_result"
    }
   ],
   "source": [
    "diesel_price.head()"
   ]
  },
  {
   "cell_type": "code",
   "execution_count": 62,
   "id": "4c5a6bc2",
   "metadata": {
    "execution": {
     "iopub.execute_input": "2023-05-11T14:20:10.338888Z",
     "iopub.status.busy": "2023-05-11T14:20:10.337725Z",
     "iopub.status.idle": "2023-05-11T14:20:10.343166Z",
     "shell.execute_reply": "2023-05-11T14:20:10.342347Z"
    },
    "papermill": {
     "duration": 0.046404,
     "end_time": "2023-05-11T14:20:10.345333",
     "exception": false,
     "start_time": "2023-05-11T14:20:10.298929",
     "status": "completed"
    },
    "tags": []
   },
   "outputs": [],
   "source": [
    "diesel_price.set_index('data',inplace = True)"
   ]
  },
  {
   "cell_type": "code",
   "execution_count": 63,
   "id": "450960a8",
   "metadata": {
    "execution": {
     "iopub.execute_input": "2023-05-11T14:20:10.422092Z",
     "iopub.status.busy": "2023-05-11T14:20:10.421040Z",
     "iopub.status.idle": "2023-05-11T14:20:10.431311Z",
     "shell.execute_reply": "2023-05-11T14:20:10.430225Z"
    },
    "papermill": {
     "duration": 0.051705,
     "end_time": "2023-05-11T14:20:10.433954",
     "exception": false,
     "start_time": "2023-05-11T14:20:10.382249",
     "status": "completed"
    },
    "tags": []
   },
   "outputs": [
    {
     "data": {
      "text/html": [
       "<div>\n",
       "<style scoped>\n",
       "    .dataframe tbody tr th:only-of-type {\n",
       "        vertical-align: middle;\n",
       "    }\n",
       "\n",
       "    .dataframe tbody tr th {\n",
       "        vertical-align: top;\n",
       "    }\n",
       "\n",
       "    .dataframe thead th {\n",
       "        text-align: right;\n",
       "    }\n",
       "</style>\n",
       "<table border=\"1\" class=\"dataframe\">\n",
       "  <thead>\n",
       "    <tr style=\"text-align: right;\">\n",
       "      <th></th>\n",
       "      <th>norma</th>\n",
       "    </tr>\n",
       "    <tr>\n",
       "      <th>data</th>\n",
       "      <th></th>\n",
       "    </tr>\n",
       "  </thead>\n",
       "  <tbody>\n",
       "    <tr>\n",
       "      <th>2020-01-01</th>\n",
       "      <td>5.498204</td>\n",
       "    </tr>\n",
       "    <tr>\n",
       "      <th>2020-02-01</th>\n",
       "      <td>5.267054</td>\n",
       "    </tr>\n",
       "    <tr>\n",
       "      <th>2020-03-01</th>\n",
       "      <td>4.852613</td>\n",
       "    </tr>\n",
       "    <tr>\n",
       "      <th>2020-04-01</th>\n",
       "      <td>4.543740</td>\n",
       "    </tr>\n",
       "    <tr>\n",
       "      <th>2020-05-01</th>\n",
       "      <td>4.586890</td>\n",
       "    </tr>\n",
       "  </tbody>\n",
       "</table>\n",
       "</div>"
      ],
      "text/plain": [
       "               norma\n",
       "data                \n",
       "2020-01-01  5.498204\n",
       "2020-02-01  5.267054\n",
       "2020-03-01  4.852613\n",
       "2020-04-01  4.543740\n",
       "2020-05-01  4.586890"
      ]
     },
     "execution_count": 63,
     "metadata": {},
     "output_type": "execute_result"
    }
   ],
   "source": [
    "diesel_price.head()"
   ]
  },
  {
   "cell_type": "code",
   "execution_count": 64,
   "id": "6ddb07a2",
   "metadata": {
    "execution": {
     "iopub.execute_input": "2023-05-11T14:20:10.511382Z",
     "iopub.status.busy": "2023-05-11T14:20:10.510981Z",
     "iopub.status.idle": "2023-05-11T14:20:10.518702Z",
     "shell.execute_reply": "2023-05-11T14:20:10.517589Z"
    },
    "papermill": {
     "duration": 0.050019,
     "end_time": "2023-05-11T14:20:10.521135",
     "exception": false,
     "start_time": "2023-05-11T14:20:10.471116",
     "status": "completed"
    },
    "tags": []
   },
   "outputs": [
    {
     "data": {
      "text/plain": [
       "norma    float64\n",
       "dtype: object"
      ]
     },
     "execution_count": 64,
     "metadata": {},
     "output_type": "execute_result"
    }
   ],
   "source": [
    "diesel_price.dtypes"
   ]
  },
  {
   "cell_type": "code",
   "execution_count": 65,
   "id": "0ec6d47b",
   "metadata": {
    "execution": {
     "iopub.execute_input": "2023-05-11T14:20:10.599425Z",
     "iopub.status.busy": "2023-05-11T14:20:10.598382Z",
     "iopub.status.idle": "2023-05-11T14:20:11.039601Z",
     "shell.execute_reply": "2023-05-11T14:20:11.038801Z"
    },
    "papermill": {
     "duration": 0.482848,
     "end_time": "2023-05-11T14:20:11.041901",
     "exception": false,
     "start_time": "2023-05-11T14:20:10.559053",
     "status": "completed"
    },
    "tags": []
   },
   "outputs": [
    {
     "data": {
      "text/plain": [
       "<AxesSubplot: xlabel='data'>"
      ]
     },
     "execution_count": 65,
     "metadata": {},
     "output_type": "execute_result"
    },
    {
     "data": {
      "image/png": "[encoded data removed]",
      "text/plain": [
       "<Figure size 1600x600 with 1 Axes>"
      ]
     },
     "metadata": {},
     "output_type": "display_data"
    }
   ],
   "source": [
    "plt.figure(figsize=(16,6))\n",
    "sns.lineplot(data=diesel_price)"
   ]
  },
  {
   "cell_type": "code",
   "execution_count": 66,
   "id": "04640d43",
   "metadata": {
    "execution": {
     "iopub.execute_input": "2023-05-11T14:20:11.120467Z",
     "iopub.status.busy": "2023-05-11T14:20:11.119582Z",
     "iopub.status.idle": "2023-05-11T14:20:11.124798Z",
     "shell.execute_reply": "2023-05-11T14:20:11.124009Z"
    },
    "papermill": {
     "duration": 0.047149,
     "end_time": "2023-05-11T14:20:11.127074",
     "exception": false,
     "start_time": "2023-05-11T14:20:11.079925",
     "status": "completed"
    },
    "tags": []
   },
   "outputs": [],
   "source": [
    "diesel_price.rename(columns={'norma':'ecodiesel-price'}, inplace = True)"
   ]
  },
  {
   "cell_type": "code",
   "execution_count": 67,
   "id": "0a5ebefa",
   "metadata": {
    "execution": {
     "iopub.execute_input": "2023-05-11T14:20:11.204942Z",
     "iopub.status.busy": "2023-05-11T14:20:11.204497Z",
     "iopub.status.idle": "2023-05-11T14:20:11.210541Z",
     "shell.execute_reply": "2023-05-11T14:20:11.209749Z"
    },
    "papermill": {
     "duration": 0.047659,
     "end_time": "2023-05-11T14:20:11.212709",
     "exception": false,
     "start_time": "2023-05-11T14:20:11.165050",
     "status": "completed"
    },
    "tags": []
   },
   "outputs": [
    {
     "data": {
      "text/plain": [
       "(41, 1)"
      ]
     },
     "execution_count": 67,
     "metadata": {},
     "output_type": "execute_result"
    }
   ],
   "source": [
    "diesel_price.shape"
   ]
  },
  {
   "cell_type": "code",
   "execution_count": 68,
   "id": "69e6502e",
   "metadata": {
    "execution": {
     "iopub.execute_input": "2023-05-11T14:20:11.292673Z",
     "iopub.status.busy": "2023-05-11T14:20:11.291941Z",
     "iopub.status.idle": "2023-05-11T14:20:11.301867Z",
     "shell.execute_reply": "2023-05-11T14:20:11.300633Z"
    },
    "papermill": {
     "duration": 0.053092,
     "end_time": "2023-05-11T14:20:11.304542",
     "exception": false,
     "start_time": "2023-05-11T14:20:11.251450",
     "status": "completed"
    },
    "tags": []
   },
   "outputs": [
    {
     "data": {
      "text/html": [
       "<div>\n",
       "<style scoped>\n",
       "    .dataframe tbody tr th:only-of-type {\n",
       "        vertical-align: middle;\n",
       "    }\n",
       "\n",
       "    .dataframe tbody tr th {\n",
       "        vertical-align: top;\n",
       "    }\n",
       "\n",
       "    .dataframe thead th {\n",
       "        text-align: right;\n",
       "    }\n",
       "</style>\n",
       "<table border=\"1\" class=\"dataframe\">\n",
       "  <thead>\n",
       "    <tr style=\"text-align: right;\">\n",
       "      <th></th>\n",
       "      <th>ecodiesel-price</th>\n",
       "    </tr>\n",
       "    <tr>\n",
       "      <th>data</th>\n",
       "      <th></th>\n",
       "    </tr>\n",
       "  </thead>\n",
       "  <tbody>\n",
       "    <tr>\n",
       "      <th>2020-01-01</th>\n",
       "      <td>5.498204</td>\n",
       "    </tr>\n",
       "    <tr>\n",
       "      <th>2020-02-01</th>\n",
       "      <td>5.267054</td>\n",
       "    </tr>\n",
       "    <tr>\n",
       "      <th>2020-03-01</th>\n",
       "      <td>4.852613</td>\n",
       "    </tr>\n",
       "    <tr>\n",
       "      <th>2020-04-01</th>\n",
       "      <td>4.543740</td>\n",
       "    </tr>\n",
       "    <tr>\n",
       "      <th>2020-05-01</th>\n",
       "      <td>4.586890</td>\n",
       "    </tr>\n",
       "  </tbody>\n",
       "</table>\n",
       "</div>"
      ],
      "text/plain": [
       "            ecodiesel-price\n",
       "data                       \n",
       "2020-01-01         5.498204\n",
       "2020-02-01         5.267054\n",
       "2020-03-01         4.852613\n",
       "2020-04-01         4.543740\n",
       "2020-05-01         4.586890"
      ]
     },
     "execution_count": 68,
     "metadata": {},
     "output_type": "execute_result"
    }
   ],
   "source": [
    "diesel_price.head()"
   ]
  },
  {
   "cell_type": "code",
   "execution_count": 69,
   "id": "05bff556",
   "metadata": {
    "execution": {
     "iopub.execute_input": "2023-05-11T14:20:11.384659Z",
     "iopub.status.busy": "2023-05-11T14:20:11.384248Z",
     "iopub.status.idle": "2023-05-11T14:20:11.390399Z",
     "shell.execute_reply": "2023-05-11T14:20:11.389244Z"
    },
    "papermill": {
     "duration": 0.049776,
     "end_time": "2023-05-11T14:20:11.392830",
     "exception": false,
     "start_time": "2023-05-11T14:20:11.343054",
     "status": "completed"
    },
    "tags": []
   },
   "outputs": [],
   "source": [
    "diesel_price.reset_index(inplace=True)"
   ]
  },
  {
   "cell_type": "code",
   "execution_count": 70,
   "id": "c76327c3",
   "metadata": {
    "execution": {
     "iopub.execute_input": "2023-05-11T14:20:11.471677Z",
     "iopub.status.busy": "2023-05-11T14:20:11.471298Z",
     "iopub.status.idle": "2023-05-11T14:20:11.482224Z",
     "shell.execute_reply": "2023-05-11T14:20:11.481089Z"
    },
    "papermill": {
     "duration": 0.053433,
     "end_time": "2023-05-11T14:20:11.484634",
     "exception": false,
     "start_time": "2023-05-11T14:20:11.431201",
     "status": "completed"
    },
    "tags": []
   },
   "outputs": [
    {
     "data": {
      "text/html": [
       "<div>\n",
       "<style scoped>\n",
       "    .dataframe tbody tr th:only-of-type {\n",
       "        vertical-align: middle;\n",
       "    }\n",
       "\n",
       "    .dataframe tbody tr th {\n",
       "        vertical-align: top;\n",
       "    }\n",
       "\n",
       "    .dataframe thead th {\n",
       "        text-align: right;\n",
       "    }\n",
       "</style>\n",
       "<table border=\"1\" class=\"dataframe\">\n",
       "  <thead>\n",
       "    <tr style=\"text-align: right;\">\n",
       "      <th></th>\n",
       "      <th>data</th>\n",
       "      <th>ecodiesel-price</th>\n",
       "    </tr>\n",
       "  </thead>\n",
       "  <tbody>\n",
       "    <tr>\n",
       "      <th>0</th>\n",
       "      <td>2020-01-01</td>\n",
       "      <td>5.498204</td>\n",
       "    </tr>\n",
       "    <tr>\n",
       "      <th>1</th>\n",
       "      <td>2020-02-01</td>\n",
       "      <td>5.267054</td>\n",
       "    </tr>\n",
       "    <tr>\n",
       "      <th>2</th>\n",
       "      <td>2020-03-01</td>\n",
       "      <td>4.852613</td>\n",
       "    </tr>\n",
       "    <tr>\n",
       "      <th>3</th>\n",
       "      <td>2020-04-01</td>\n",
       "      <td>4.543740</td>\n",
       "    </tr>\n",
       "    <tr>\n",
       "      <th>4</th>\n",
       "      <td>2020-05-01</td>\n",
       "      <td>4.586890</td>\n",
       "    </tr>\n",
       "  </tbody>\n",
       "</table>\n",
       "</div>"
      ],
      "text/plain": [
       "        data  ecodiesel-price\n",
       "0 2020-01-01         5.498204\n",
       "1 2020-02-01         5.267054\n",
       "2 2020-03-01         4.852613\n",
       "3 2020-04-01         4.543740\n",
       "4 2020-05-01         4.586890"
      ]
     },
     "execution_count": 70,
     "metadata": {},
     "output_type": "execute_result"
    }
   ],
   "source": [
    "diesel_price.head()"
   ]
  },
  {
   "cell_type": "code",
   "execution_count": 71,
   "id": "1bae03a8",
   "metadata": {
    "execution": {
     "iopub.execute_input": "2023-05-11T14:20:11.565104Z",
     "iopub.status.busy": "2023-05-11T14:20:11.564686Z",
     "iopub.status.idle": "2023-05-11T14:20:11.570245Z",
     "shell.execute_reply": "2023-05-11T14:20:11.568882Z"
    },
    "papermill": {
     "duration": 0.048621,
     "end_time": "2023-05-11T14:20:11.572703",
     "exception": false,
     "start_time": "2023-05-11T14:20:11.524082",
     "status": "completed"
    },
    "tags": []
   },
   "outputs": [],
   "source": [
    "diesel_price = diesel_price['ecodiesel-price']"
   ]
  },
  {
   "cell_type": "code",
   "execution_count": 72,
   "id": "4add6afb",
   "metadata": {
    "execution": {
     "iopub.execute_input": "2023-05-11T14:20:11.652534Z",
     "iopub.status.busy": "2023-05-11T14:20:11.652154Z",
     "iopub.status.idle": "2023-05-11T14:20:11.659445Z",
     "shell.execute_reply": "2023-05-11T14:20:11.658670Z"
    },
    "papermill": {
     "duration": 0.049539,
     "end_time": "2023-05-11T14:20:11.661559",
     "exception": false,
     "start_time": "2023-05-11T14:20:11.612020",
     "status": "completed"
    },
    "tags": []
   },
   "outputs": [
    {
     "data": {
      "text/plain": [
       "0    5.498204\n",
       "1    5.267054\n",
       "2    4.852613\n",
       "3    4.543740\n",
       "4    4.586890\n",
       "Name: ecodiesel-price, dtype: float64"
      ]
     },
     "execution_count": 72,
     "metadata": {},
     "output_type": "execute_result"
    }
   ],
   "source": [
    "diesel_price.head()"
   ]
  },
  {
   "cell_type": "code",
   "execution_count": 73,
   "id": "9d0c3f96",
   "metadata": {
    "execution": {
     "iopub.execute_input": "2023-05-11T14:20:11.741836Z",
     "iopub.status.busy": "2023-05-11T14:20:11.741424Z",
     "iopub.status.idle": "2023-05-11T14:20:11.748448Z",
     "shell.execute_reply": "2023-05-11T14:20:11.747204Z"
    },
    "papermill": {
     "duration": 0.049836,
     "end_time": "2023-05-11T14:20:11.750605",
     "exception": false,
     "start_time": "2023-05-11T14:20:11.700769",
     "status": "completed"
    },
    "tags": []
   },
   "outputs": [
    {
     "data": {
      "text/plain": [
       "dtype('float64')"
      ]
     },
     "execution_count": 73,
     "metadata": {},
     "output_type": "execute_result"
    }
   ],
   "source": [
    "diesel_price.dtypes"
   ]
  },
  {
   "cell_type": "code",
   "execution_count": 74,
   "id": "a8eebcc7",
   "metadata": {
    "execution": {
     "iopub.execute_input": "2023-05-11T14:20:11.831170Z",
     "iopub.status.busy": "2023-05-11T14:20:11.830768Z",
     "iopub.status.idle": "2023-05-11T14:20:11.844493Z",
     "shell.execute_reply": "2023-05-11T14:20:11.843331Z"
    },
    "papermill": {
     "duration": 0.057658,
     "end_time": "2023-05-11T14:20:11.846984",
     "exception": false,
     "start_time": "2023-05-11T14:20:11.789326",
     "status": "completed"
    },
    "tags": []
   },
   "outputs": [
    {
     "data": {
      "text/html": [
       "<div>\n",
       "<style scoped>\n",
       "    .dataframe tbody tr th:only-of-type {\n",
       "        vertical-align: middle;\n",
       "    }\n",
       "\n",
       "    .dataframe tbody tr th {\n",
       "        vertical-align: top;\n",
       "    }\n",
       "\n",
       "    .dataframe thead th {\n",
       "        text-align: right;\n",
       "    }\n",
       "</style>\n",
       "<table border=\"1\" class=\"dataframe\">\n",
       "  <thead>\n",
       "    <tr style=\"text-align: right;\">\n",
       "      <th></th>\n",
       "      <th>price</th>\n",
       "      <th>percentChange</th>\n",
       "      <th>usd_pln</th>\n",
       "      <th>price-pln</th>\n",
       "    </tr>\n",
       "    <tr>\n",
       "      <th>date</th>\n",
       "      <th></th>\n",
       "      <th></th>\n",
       "      <th></th>\n",
       "      <th></th>\n",
       "    </tr>\n",
       "  </thead>\n",
       "  <tbody>\n",
       "    <tr>\n",
       "      <th>2020-01-01</th>\n",
       "      <td>51.56</td>\n",
       "      <td>-15.135</td>\n",
       "      <td>4.1418</td>\n",
       "      <td>213.551208</td>\n",
       "    </tr>\n",
       "    <tr>\n",
       "      <th>2020-02-03</th>\n",
       "      <td>44.76</td>\n",
       "      <td>-13.189</td>\n",
       "      <td>4.1590</td>\n",
       "      <td>186.156840</td>\n",
       "    </tr>\n",
       "    <tr>\n",
       "      <th>2020-03-02</th>\n",
       "      <td>20.48</td>\n",
       "      <td>-54.245</td>\n",
       "      <td>4.3113</td>\n",
       "      <td>88.295424</td>\n",
       "    </tr>\n",
       "    <tr>\n",
       "      <th>2020-04-01</th>\n",
       "      <td>18.84</td>\n",
       "      <td>-8.008</td>\n",
       "      <td>4.4470</td>\n",
       "      <td>83.781480</td>\n",
       "    </tr>\n",
       "    <tr>\n",
       "      <th>2020-05-01</th>\n",
       "      <td>35.49</td>\n",
       "      <td>88.376</td>\n",
       "      <td>4.3331</td>\n",
       "      <td>153.781719</td>\n",
       "    </tr>\n",
       "  </tbody>\n",
       "</table>\n",
       "</div>"
      ],
      "text/plain": [
       "            price  percentChange  usd_pln   price-pln\n",
       "date                                                 \n",
       "2020-01-01  51.56        -15.135   4.1418  213.551208\n",
       "2020-02-03  44.76        -13.189   4.1590  186.156840\n",
       "2020-03-02  20.48        -54.245   4.3113   88.295424\n",
       "2020-04-01  18.84         -8.008   4.4470   83.781480\n",
       "2020-05-01  35.49         88.376   4.3331  153.781719"
      ]
     },
     "execution_count": 74,
     "metadata": {},
     "output_type": "execute_result"
    }
   ],
   "source": [
    "df_merged.head()"
   ]
  },
  {
   "cell_type": "code",
   "execution_count": 75,
   "id": "1dc7f692",
   "metadata": {
    "execution": {
     "iopub.execute_input": "2023-05-11T14:20:11.927789Z",
     "iopub.status.busy": "2023-05-11T14:20:11.927172Z",
     "iopub.status.idle": "2023-05-11T14:20:11.933006Z",
     "shell.execute_reply": "2023-05-11T14:20:11.931932Z"
    },
    "papermill": {
     "duration": 0.048796,
     "end_time": "2023-05-11T14:20:11.935312",
     "exception": false,
     "start_time": "2023-05-11T14:20:11.886516",
     "status": "completed"
    },
    "tags": []
   },
   "outputs": [],
   "source": [
    "df_merged.reset_index(inplace=True)"
   ]
  },
  {
   "cell_type": "code",
   "execution_count": 76,
   "id": "d8699859",
   "metadata": {
    "execution": {
     "iopub.execute_input": "2023-05-11T14:20:12.016296Z",
     "iopub.status.busy": "2023-05-11T14:20:12.015918Z",
     "iopub.status.idle": "2023-05-11T14:20:12.030190Z",
     "shell.execute_reply": "2023-05-11T14:20:12.029041Z"
    },
    "papermill": {
     "duration": 0.057818,
     "end_time": "2023-05-11T14:20:12.032613",
     "exception": false,
     "start_time": "2023-05-11T14:20:11.974795",
     "status": "completed"
    },
    "tags": []
   },
   "outputs": [
    {
     "data": {
      "text/html": [
       "<div>\n",
       "<style scoped>\n",
       "    .dataframe tbody tr th:only-of-type {\n",
       "        vertical-align: middle;\n",
       "    }\n",
       "\n",
       "    .dataframe tbody tr th {\n",
       "        vertical-align: top;\n",
       "    }\n",
       "\n",
       "    .dataframe thead th {\n",
       "        text-align: right;\n",
       "    }\n",
       "</style>\n",
       "<table border=\"1\" class=\"dataframe\">\n",
       "  <thead>\n",
       "    <tr style=\"text-align: right;\">\n",
       "      <th></th>\n",
       "      <th>date</th>\n",
       "      <th>price</th>\n",
       "      <th>percentChange</th>\n",
       "      <th>usd_pln</th>\n",
       "      <th>price-pln</th>\n",
       "    </tr>\n",
       "  </thead>\n",
       "  <tbody>\n",
       "    <tr>\n",
       "      <th>0</th>\n",
       "      <td>2020-01-01</td>\n",
       "      <td>51.56</td>\n",
       "      <td>-15.135</td>\n",
       "      <td>4.1418</td>\n",
       "      <td>213.551208</td>\n",
       "    </tr>\n",
       "    <tr>\n",
       "      <th>1</th>\n",
       "      <td>2020-02-03</td>\n",
       "      <td>44.76</td>\n",
       "      <td>-13.189</td>\n",
       "      <td>4.1590</td>\n",
       "      <td>186.156840</td>\n",
       "    </tr>\n",
       "    <tr>\n",
       "      <th>2</th>\n",
       "      <td>2020-03-02</td>\n",
       "      <td>20.48</td>\n",
       "      <td>-54.245</td>\n",
       "      <td>4.3113</td>\n",
       "      <td>88.295424</td>\n",
       "    </tr>\n",
       "    <tr>\n",
       "      <th>3</th>\n",
       "      <td>2020-04-01</td>\n",
       "      <td>18.84</td>\n",
       "      <td>-8.008</td>\n",
       "      <td>4.4470</td>\n",
       "      <td>83.781480</td>\n",
       "    </tr>\n",
       "    <tr>\n",
       "      <th>4</th>\n",
       "      <td>2020-05-01</td>\n",
       "      <td>35.49</td>\n",
       "      <td>88.376</td>\n",
       "      <td>4.3331</td>\n",
       "      <td>153.781719</td>\n",
       "    </tr>\n",
       "  </tbody>\n",
       "</table>\n",
       "</div>"
      ],
      "text/plain": [
       "        date  price  percentChange  usd_pln   price-pln\n",
       "0 2020-01-01  51.56        -15.135   4.1418  213.551208\n",
       "1 2020-02-03  44.76        -13.189   4.1590  186.156840\n",
       "2 2020-03-02  20.48        -54.245   4.3113   88.295424\n",
       "3 2020-04-01  18.84         -8.008   4.4470   83.781480\n",
       "4 2020-05-01  35.49         88.376   4.3331  153.781719"
      ]
     },
     "execution_count": 76,
     "metadata": {},
     "output_type": "execute_result"
    }
   ],
   "source": [
    "df_merged.head()"
   ]
  },
  {
   "cell_type": "code",
   "execution_count": 77,
   "id": "0c970f09",
   "metadata": {
    "execution": {
     "iopub.execute_input": "2023-05-11T14:20:12.114144Z",
     "iopub.status.busy": "2023-05-11T14:20:12.113716Z",
     "iopub.status.idle": "2023-05-11T14:20:12.120126Z",
     "shell.execute_reply": "2023-05-11T14:20:12.118850Z"
    },
    "papermill": {
     "duration": 0.050285,
     "end_time": "2023-05-11T14:20:12.122521",
     "exception": false,
     "start_time": "2023-05-11T14:20:12.072236",
     "status": "completed"
    },
    "tags": []
   },
   "outputs": [],
   "source": [
    "df_merged_all = pd.concat([df_merged, diesel_price], axis=1)"
   ]
  },
  {
   "cell_type": "code",
   "execution_count": 78,
   "id": "4f6127d2",
   "metadata": {
    "execution": {
     "iopub.execute_input": "2023-05-11T14:20:12.204649Z",
     "iopub.status.busy": "2023-05-11T14:20:12.204242Z",
     "iopub.status.idle": "2023-05-11T14:20:12.219152Z",
     "shell.execute_reply": "2023-05-11T14:20:12.218009Z"
    },
    "papermill": {
     "duration": 0.059193,
     "end_time": "2023-05-11T14:20:12.221934",
     "exception": false,
     "start_time": "2023-05-11T14:20:12.162741",
     "status": "completed"
    },
    "tags": []
   },
   "outputs": [
    {
     "data": {
      "text/html": [
       "<div>\n",
       "<style scoped>\n",
       "    .dataframe tbody tr th:only-of-type {\n",
       "        vertical-align: middle;\n",
       "    }\n",
       "\n",
       "    .dataframe tbody tr th {\n",
       "        vertical-align: top;\n",
       "    }\n",
       "\n",
       "    .dataframe thead th {\n",
       "        text-align: right;\n",
       "    }\n",
       "</style>\n",
       "<table border=\"1\" class=\"dataframe\">\n",
       "  <thead>\n",
       "    <tr style=\"text-align: right;\">\n",
       "      <th></th>\n",
       "      <th>date</th>\n",
       "      <th>price</th>\n",
       "      <th>percentChange</th>\n",
       "      <th>usd_pln</th>\n",
       "      <th>price-pln</th>\n",
       "      <th>ecodiesel-price</th>\n",
       "    </tr>\n",
       "  </thead>\n",
       "  <tbody>\n",
       "    <tr>\n",
       "      <th>0</th>\n",
       "      <td>2020-01-01</td>\n",
       "      <td>51.56</td>\n",
       "      <td>-15.135</td>\n",
       "      <td>4.1418</td>\n",
       "      <td>213.551208</td>\n",
       "      <td>5.498204</td>\n",
       "    </tr>\n",
       "    <tr>\n",
       "      <th>1</th>\n",
       "      <td>2020-02-03</td>\n",
       "      <td>44.76</td>\n",
       "      <td>-13.189</td>\n",
       "      <td>4.1590</td>\n",
       "      <td>186.156840</td>\n",
       "      <td>5.267054</td>\n",
       "    </tr>\n",
       "    <tr>\n",
       "      <th>2</th>\n",
       "      <td>2020-03-02</td>\n",
       "      <td>20.48</td>\n",
       "      <td>-54.245</td>\n",
       "      <td>4.3113</td>\n",
       "      <td>88.295424</td>\n",
       "      <td>4.852613</td>\n",
       "    </tr>\n",
       "    <tr>\n",
       "      <th>3</th>\n",
       "      <td>2020-04-01</td>\n",
       "      <td>18.84</td>\n",
       "      <td>-8.008</td>\n",
       "      <td>4.4470</td>\n",
       "      <td>83.781480</td>\n",
       "      <td>4.543740</td>\n",
       "    </tr>\n",
       "    <tr>\n",
       "      <th>4</th>\n",
       "      <td>2020-05-01</td>\n",
       "      <td>35.49</td>\n",
       "      <td>88.376</td>\n",
       "      <td>4.3331</td>\n",
       "      <td>153.781719</td>\n",
       "      <td>4.586890</td>\n",
       "    </tr>\n",
       "  </tbody>\n",
       "</table>\n",
       "</div>"
      ],
      "text/plain": [
       "        date  price  percentChange  usd_pln   price-pln  ecodiesel-price\n",
       "0 2020-01-01  51.56        -15.135   4.1418  213.551208         5.498204\n",
       "1 2020-02-03  44.76        -13.189   4.1590  186.156840         5.267054\n",
       "2 2020-03-02  20.48        -54.245   4.3113   88.295424         4.852613\n",
       "3 2020-04-01  18.84         -8.008   4.4470   83.781480         4.543740\n",
       "4 2020-05-01  35.49         88.376   4.3331  153.781719         4.586890"
      ]
     },
     "execution_count": 78,
     "metadata": {},
     "output_type": "execute_result"
    }
   ],
   "source": [
    "df_merged_all.head()"
   ]
  },
  {
   "cell_type": "code",
   "execution_count": 79,
   "id": "a206fcb1",
   "metadata": {
    "execution": {
     "iopub.execute_input": "2023-05-11T14:20:12.305002Z",
     "iopub.status.busy": "2023-05-11T14:20:12.303805Z",
     "iopub.status.idle": "2023-05-11T14:20:12.309489Z",
     "shell.execute_reply": "2023-05-11T14:20:12.308598Z"
    },
    "papermill": {
     "duration": 0.049675,
     "end_time": "2023-05-11T14:20:12.311742",
     "exception": false,
     "start_time": "2023-05-11T14:20:12.262067",
     "status": "completed"
    },
    "tags": []
   },
   "outputs": [],
   "source": [
    "df_merged_all.set_index('date',inplace = True)"
   ]
  },
  {
   "cell_type": "code",
   "execution_count": 80,
   "id": "7d7d39f8",
   "metadata": {
    "execution": {
     "iopub.execute_input": "2023-05-11T14:20:12.398666Z",
     "iopub.status.busy": "2023-05-11T14:20:12.397400Z",
     "iopub.status.idle": "2023-05-11T14:20:12.414592Z",
     "shell.execute_reply": "2023-05-11T14:20:12.413814Z"
    },
    "papermill": {
     "duration": 0.065544,
     "end_time": "2023-05-11T14:20:12.417070",
     "exception": false,
     "start_time": "2023-05-11T14:20:12.351526",
     "status": "completed"
    },
    "tags": []
   },
   "outputs": [
    {
     "data": {
      "text/html": [
       "<div>\n",
       "<style scoped>\n",
       "    .dataframe tbody tr th:only-of-type {\n",
       "        vertical-align: middle;\n",
       "    }\n",
       "\n",
       "    .dataframe tbody tr th {\n",
       "        vertical-align: top;\n",
       "    }\n",
       "\n",
       "    .dataframe thead th {\n",
       "        text-align: right;\n",
       "    }\n",
       "</style>\n",
       "<table border=\"1\" class=\"dataframe\">\n",
       "  <thead>\n",
       "    <tr style=\"text-align: right;\">\n",
       "      <th></th>\n",
       "      <th>price</th>\n",
       "      <th>percentChange</th>\n",
       "      <th>usd_pln</th>\n",
       "      <th>price-pln</th>\n",
       "      <th>ecodiesel-price</th>\n",
       "    </tr>\n",
       "    <tr>\n",
       "      <th>date</th>\n",
       "      <th></th>\n",
       "      <th></th>\n",
       "      <th></th>\n",
       "      <th></th>\n",
       "      <th></th>\n",
       "    </tr>\n",
       "  </thead>\n",
       "  <tbody>\n",
       "    <tr>\n",
       "      <th>2020-01-01</th>\n",
       "      <td>51.56</td>\n",
       "      <td>-15.135</td>\n",
       "      <td>4.1418</td>\n",
       "      <td>213.551208</td>\n",
       "      <td>5.498204</td>\n",
       "    </tr>\n",
       "    <tr>\n",
       "      <th>2020-02-03</th>\n",
       "      <td>44.76</td>\n",
       "      <td>-13.189</td>\n",
       "      <td>4.1590</td>\n",
       "      <td>186.156840</td>\n",
       "      <td>5.267054</td>\n",
       "    </tr>\n",
       "    <tr>\n",
       "      <th>2020-03-02</th>\n",
       "      <td>20.48</td>\n",
       "      <td>-54.245</td>\n",
       "      <td>4.3113</td>\n",
       "      <td>88.295424</td>\n",
       "      <td>4.852613</td>\n",
       "    </tr>\n",
       "    <tr>\n",
       "      <th>2020-04-01</th>\n",
       "      <td>18.84</td>\n",
       "      <td>-8.008</td>\n",
       "      <td>4.4470</td>\n",
       "      <td>83.781480</td>\n",
       "      <td>4.543740</td>\n",
       "    </tr>\n",
       "    <tr>\n",
       "      <th>2020-05-01</th>\n",
       "      <td>35.49</td>\n",
       "      <td>88.376</td>\n",
       "      <td>4.3331</td>\n",
       "      <td>153.781719</td>\n",
       "      <td>4.586890</td>\n",
       "    </tr>\n",
       "  </tbody>\n",
       "</table>\n",
       "</div>"
      ],
      "text/plain": [
       "            price  percentChange  usd_pln   price-pln  ecodiesel-price\n",
       "date                                                                  \n",
       "2020-01-01  51.56        -15.135   4.1418  213.551208         5.498204\n",
       "2020-02-03  44.76        -13.189   4.1590  186.156840         5.267054\n",
       "2020-03-02  20.48        -54.245   4.3113   88.295424         4.852613\n",
       "2020-04-01  18.84         -8.008   4.4470   83.781480         4.543740\n",
       "2020-05-01  35.49         88.376   4.3331  153.781719         4.586890"
      ]
     },
     "execution_count": 80,
     "metadata": {},
     "output_type": "execute_result"
    }
   ],
   "source": [
    "df_merged_all.head()"
   ]
  },
  {
   "cell_type": "code",
   "execution_count": 81,
   "id": "dde458b4",
   "metadata": {
    "execution": {
     "iopub.execute_input": "2023-05-11T14:20:12.517148Z",
     "iopub.status.busy": "2023-05-11T14:20:12.516751Z",
     "iopub.status.idle": "2023-05-11T14:20:13.048866Z",
     "shell.execute_reply": "2023-05-11T14:20:13.047753Z"
    },
    "papermill": {
     "duration": 0.578324,
     "end_time": "2023-05-11T14:20:13.051595",
     "exception": false,
     "start_time": "2023-05-11T14:20:12.473271",
     "status": "completed"
    },
    "tags": []
   },
   "outputs": [
    {
     "data": {
      "text/plain": [
       "<AxesSubplot: xlabel='date'>"
      ]
     },
     "execution_count": 81,
     "metadata": {},
     "output_type": "execute_result"
    },
    {
     "data": {
      "image/png": "[encoded data removed]",
      "text/plain": [
       "<Figure size 1600x600 with 1 Axes>"
      ]
     },
     "metadata": {},
     "output_type": "display_data"
    }
   ],
   "source": [
    "plt.figure(figsize=(16,6))\n",
    "sns.lineplot(data=df_merged_all)"
   ]
  },
  {
   "cell_type": "code",
   "execution_count": 82,
   "id": "45fa2cc3",
   "metadata": {
    "execution": {
     "iopub.execute_input": "2023-05-11T14:20:13.136631Z",
     "iopub.status.busy": "2023-05-11T14:20:13.135826Z",
     "iopub.status.idle": "2023-05-11T14:20:13.530263Z",
     "shell.execute_reply": "2023-05-11T14:20:13.529121Z"
    },
    "papermill": {
     "duration": 0.439711,
     "end_time": "2023-05-11T14:20:13.532660",
     "exception": false,
     "start_time": "2023-05-11T14:20:13.092949",
     "status": "completed"
    },
    "tags": []
   },
   "outputs": [
    {
     "data": {
      "text/plain": [
       "<AxesSubplot: xlabel='price-pln', ylabel='ecodiesel-price'>"
      ]
     },
     "execution_count": 82,
     "metadata": {},
     "output_type": "execute_result"
    },
    {
     "data": {
      "image/png": "[encoded data removed]",
      "text/plain": [
       "<Figure size 640x480 with 1 Axes>"
      ]
     },
     "metadata": {},
     "output_type": "display_data"
    }
   ],
   "source": [
    "sns.regplot(x=df_merged_all['price-pln'], y=df_merged_all['ecodiesel-price'])"
   ]
  },
  {
   "cell_type": "code",
   "execution_count": 83,
   "id": "c24cb4d8",
   "metadata": {
    "execution": {
     "iopub.execute_input": "2023-05-11T14:20:13.620648Z",
     "iopub.status.busy": "2023-05-11T14:20:13.619731Z",
     "iopub.status.idle": "2023-05-11T14:20:13.626698Z",
     "shell.execute_reply": "2023-05-11T14:20:13.625915Z"
    },
    "papermill": {
     "duration": 0.053552,
     "end_time": "2023-05-11T14:20:13.629208",
     "exception": false,
     "start_time": "2023-05-11T14:20:13.575656",
     "status": "completed"
    },
    "tags": []
   },
   "outputs": [],
   "source": [
    "df_merged_all.rename(columns={'price-pln':'price_pln'}, inplace = True)\n",
    "df_merged_all.rename(columns={'ecodiesel-price':'ecodiesel_price'}, inplace = True)"
   ]
  },
  {
   "cell_type": "code",
   "execution_count": 84,
   "id": "b2564d5e",
   "metadata": {
    "execution": {
     "iopub.execute_input": "2023-05-11T14:20:13.716965Z",
     "iopub.status.busy": "2023-05-11T14:20:13.715731Z",
     "iopub.status.idle": "2023-05-11T14:20:13.721924Z",
     "shell.execute_reply": "2023-05-11T14:20:13.721089Z"
    },
    "papermill": {
     "duration": 0.052593,
     "end_time": "2023-05-11T14:20:13.724118",
     "exception": false,
     "start_time": "2023-05-11T14:20:13.671525",
     "status": "completed"
    },
    "tags": []
   },
   "outputs": [],
   "source": [
    "df_merged_all['ropa/cena-w-polsce'] = df_merged_all.price_pln / df_merged_all.ecodiesel_price"
   ]
  },
  {
   "cell_type": "code",
   "execution_count": 85,
   "id": "488360e1",
   "metadata": {
    "execution": {
     "iopub.execute_input": "2023-05-11T14:20:13.810957Z",
     "iopub.status.busy": "2023-05-11T14:20:13.809784Z",
     "iopub.status.idle": "2023-05-11T14:20:13.824524Z",
     "shell.execute_reply": "2023-05-11T14:20:13.823516Z"
    },
    "papermill": {
     "duration": 0.06081,
     "end_time": "2023-05-11T14:20:13.826781",
     "exception": false,
     "start_time": "2023-05-11T14:20:13.765971",
     "status": "completed"
    },
    "tags": []
   },
   "outputs": [
    {
     "data": {
      "text/html": [
       "<div>\n",
       "<style scoped>\n",
       "    .dataframe tbody tr th:only-of-type {\n",
       "        vertical-align: middle;\n",
       "    }\n",
       "\n",
       "    .dataframe tbody tr th {\n",
       "        vertical-align: top;\n",
       "    }\n",
       "\n",
       "    .dataframe thead th {\n",
       "        text-align: right;\n",
       "    }\n",
       "</style>\n",
       "<table border=\"1\" class=\"dataframe\">\n",
       "  <thead>\n",
       "    <tr style=\"text-align: right;\">\n",
       "      <th></th>\n",
       "      <th>price</th>\n",
       "      <th>percentChange</th>\n",
       "      <th>usd_pln</th>\n",
       "      <th>price_pln</th>\n",
       "      <th>ecodiesel_price</th>\n",
       "      <th>ropa/cena-w-polsce</th>\n",
       "    </tr>\n",
       "    <tr>\n",
       "      <th>date</th>\n",
       "      <th></th>\n",
       "      <th></th>\n",
       "      <th></th>\n",
       "      <th></th>\n",
       "      <th></th>\n",
       "      <th></th>\n",
       "    </tr>\n",
       "  </thead>\n",
       "  <tbody>\n",
       "    <tr>\n",
       "      <th>2020-01-01</th>\n",
       "      <td>51.56</td>\n",
       "      <td>-15.135</td>\n",
       "      <td>4.1418</td>\n",
       "      <td>213.551208</td>\n",
       "      <td>5.498204</td>\n",
       "      <td>38.840178</td>\n",
       "    </tr>\n",
       "    <tr>\n",
       "      <th>2020-02-03</th>\n",
       "      <td>44.76</td>\n",
       "      <td>-13.189</td>\n",
       "      <td>4.1590</td>\n",
       "      <td>186.156840</td>\n",
       "      <td>5.267054</td>\n",
       "      <td>35.343634</td>\n",
       "    </tr>\n",
       "    <tr>\n",
       "      <th>2020-03-02</th>\n",
       "      <td>20.48</td>\n",
       "      <td>-54.245</td>\n",
       "      <td>4.3113</td>\n",
       "      <td>88.295424</td>\n",
       "      <td>4.852613</td>\n",
       "      <td>18.195440</td>\n",
       "    </tr>\n",
       "    <tr>\n",
       "      <th>2020-04-01</th>\n",
       "      <td>18.84</td>\n",
       "      <td>-8.008</td>\n",
       "      <td>4.4470</td>\n",
       "      <td>83.781480</td>\n",
       "      <td>4.543740</td>\n",
       "      <td>18.438881</td>\n",
       "    </tr>\n",
       "    <tr>\n",
       "      <th>2020-05-01</th>\n",
       "      <td>35.49</td>\n",
       "      <td>88.376</td>\n",
       "      <td>4.3331</td>\n",
       "      <td>153.781719</td>\n",
       "      <td>4.586890</td>\n",
       "      <td>33.526359</td>\n",
       "    </tr>\n",
       "  </tbody>\n",
       "</table>\n",
       "</div>"
      ],
      "text/plain": [
       "            price  percentChange  usd_pln   price_pln  ecodiesel_price  \\\n",
       "date                                                                     \n",
       "2020-01-01  51.56        -15.135   4.1418  213.551208         5.498204   \n",
       "2020-02-03  44.76        -13.189   4.1590  186.156840         5.267054   \n",
       "2020-03-02  20.48        -54.245   4.3113   88.295424         4.852613   \n",
       "2020-04-01  18.84         -8.008   4.4470   83.781480         4.543740   \n",
       "2020-05-01  35.49         88.376   4.3331  153.781719         4.586890   \n",
       "\n",
       "            ropa/cena-w-polsce  \n",
       "date                            \n",
       "2020-01-01           38.840178  \n",
       "2020-02-03           35.343634  \n",
       "2020-03-02           18.195440  \n",
       "2020-04-01           18.438881  \n",
       "2020-05-01           33.526359  "
      ]
     },
     "execution_count": 85,
     "metadata": {},
     "output_type": "execute_result"
    }
   ],
   "source": [
    "df_merged_all.head()"
   ]
  },
  {
   "cell_type": "code",
   "execution_count": 86,
   "id": "befe10f5",
   "metadata": {
    "execution": {
     "iopub.execute_input": "2023-05-11T14:20:13.913511Z",
     "iopub.status.busy": "2023-05-11T14:20:13.912795Z",
     "iopub.status.idle": "2023-05-11T14:20:14.664621Z",
     "shell.execute_reply": "2023-05-11T14:20:14.663396Z"
    },
    "papermill": {
     "duration": 0.798346,
     "end_time": "2023-05-11T14:20:14.667347",
     "exception": false,
     "start_time": "2023-05-11T14:20:13.869001",
     "status": "completed"
    },
    "tags": []
   },
   "outputs": [
    {
     "data": {
      "text/plain": [
       "<AxesSubplot: xlabel='date', ylabel='ropa/cena-w-polsce'>"
      ]
     },
     "execution_count": 86,
     "metadata": {},
     "output_type": "execute_result"
    },
    {
     "data": {
      "image/png": "[encoded data removed]",
      "text/plain": [
       "<Figure size 2000x600 with 1 Axes>"
      ]
     },
     "metadata": {},
     "output_type": "display_data"
    }
   ],
   "source": [
    "plt.figure(figsize=(20,6))\n",
    "sns.barplot(x=df_merged_all.index, y=df_merged_all['ropa/cena-w-polsce'])"
   ]
  },
  {
   "cell_type": "code",
   "execution_count": null,
   "id": "4c62993c",
   "metadata": {
    "papermill": {
     "duration": 0.04331,
     "end_time": "2023-05-11T14:20:14.754007",
     "exception": false,
     "start_time": "2023-05-11T14:20:14.710697",
     "status": "completed"
    },
    "tags": []
   },
   "outputs": [],
   "source": []
  }
 ],
 "metadata": {
  "kernelspec": {
   "display_name": "Python 3",
   "language": "python",
   "name": "python3"
  },
  "language_info": {
   "codemirror_mode": {
    "name": "ipython",
    "version": 3
   },
   "file_extension": ".py",
   "mimetype": "text/x-python",
   "name": "python",
   "nbconvert_exporter": "python",
   "pygments_lexer": "ipython3",
   "version": "3.10.10"
  },
  "papermill": {
   "default_parameters": {},
   "duration": 25.138594,
   "end_time": "2023-05-11T14:20:15.821096",
   "environment_variables": {},
   "exception": null,
   "input_path": "__notebook__.ipynb",
   "output_path": "__notebook__.ipynb",
   "parameters": {},
   "start_time": "2023-05-11T14:19:50.682502",
   "version": "2.4.0"
  }
 },
 "nbformat": 4,
 "nbformat_minor": 5
}
