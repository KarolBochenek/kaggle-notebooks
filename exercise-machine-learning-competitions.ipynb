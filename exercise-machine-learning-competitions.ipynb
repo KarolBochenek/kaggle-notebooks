{
 "cells": [
  {
   "cell_type": "markdown",
   "id": "e0c78b2e",
   "metadata": {
    "papermill": {
     "duration": 0.008455,
     "end_time": "2023-03-16T15:51:11.125749",
     "exception": false,
     "start_time": "2023-03-16T15:51:11.117294",
     "status": "completed"
    },
    "tags": []
   },
   "source": [
    "**This notebook is an exercise in the [Introduction to Machine Learning](https://www.kaggle.com/learn/intro-to-machine-learning) course.  You can reference the tutorial at [this link](https://www.kaggle.com/alexisbcook/machine-learning-competitions).**\n",
    "\n",
    "---\n"
   ]
  },
  {
   "cell_type": "markdown",
   "id": "0194a0a0",
   "metadata": {
    "papermill": {
     "duration": 0.006898,
     "end_time": "2023-03-16T15:51:11.139686",
     "exception": false,
     "start_time": "2023-03-16T15:51:11.132788",
     "status": "completed"
    },
    "tags": []
   },
   "source": [
    "# Introduction\n",
    "\n",
    "In this exercise, you will create and submit predictions for a Kaggle competition. You can then improve your model (e.g. by adding features) to apply what you've learned and move up the leaderboard.\n",
    "\n",
    "Begin by running the code cell below to set up code checking and the filepaths for the dataset."
   ]
  },
  {
   "cell_type": "code",
   "execution_count": 1,
   "id": "8f8dd39d",
   "metadata": {
    "execution": {
     "iopub.execute_input": "2023-03-16T15:51:11.156218Z",
     "iopub.status.busy": "2023-03-16T15:51:11.155305Z",
     "iopub.status.idle": "2023-03-16T15:51:11.216375Z",
     "shell.execute_reply": "2023-03-16T15:51:11.214676Z"
    },
    "papermill": {
     "duration": 0.073717,
     "end_time": "2023-03-16T15:51:11.220088",
     "exception": false,
     "start_time": "2023-03-16T15:51:11.146371",
     "status": "completed"
    },
    "tags": []
   },
   "outputs": [],
   "source": [
    "# Set up code checking\n",
    "from learntools.core import binder\n",
    "binder.bind(globals())\n",
    "from learntools.machine_learning.ex7 import *\n",
    "\n",
    "# Set up filepaths\n",
    "import os\n",
    "if not os.path.exists(\"../input/train.csv\"):\n",
    "    os.symlink(\"../input/home-data-for-ml-course/train.csv\", \"../input/train.csv\")  \n",
    "    os.symlink(\"../input/home-data-for-ml-course/test.csv\", \"../input/test.csv\") "
   ]
  },
  {
   "cell_type": "markdown",
   "id": "f90fe345",
   "metadata": {
    "papermill": {
     "duration": 0.006418,
     "end_time": "2023-03-16T15:51:11.232932",
     "exception": false,
     "start_time": "2023-03-16T15:51:11.226514",
     "status": "completed"
    },
    "tags": []
   },
   "source": [
    "Here's some of the code you've written so far. Start by running it again."
   ]
  },
  {
   "cell_type": "code",
   "execution_count": 2,
   "id": "0f6b2b97",
   "metadata": {
    "execution": {
     "iopub.execute_input": "2023-03-16T15:51:11.247855Z",
     "iopub.status.busy": "2023-03-16T15:51:11.247305Z",
     "iopub.status.idle": "2023-03-16T15:51:13.538006Z",
     "shell.execute_reply": "2023-03-16T15:51:13.536933Z"
    },
    "papermill": {
     "duration": 2.302371,
     "end_time": "2023-03-16T15:51:13.541651",
     "exception": false,
     "start_time": "2023-03-16T15:51:11.239280",
     "status": "completed"
    },
    "tags": []
   },
   "outputs": [
    {
     "name": "stdout",
     "output_type": "stream",
     "text": [
      "Validation MAE for Random Forest Model: 21,857\n"
     ]
    }
   ],
   "source": [
    "# Import helpful libraries\n",
    "import pandas as pd\n",
    "from sklearn.ensemble import RandomForestRegressor\n",
    "from sklearn.metrics import mean_absolute_error\n",
    "from sklearn.model_selection import train_test_split\n",
    "\n",
    "# Load the data, and separate the target\n",
    "iowa_file_path = '../input/train.csv'\n",
    "home_data = pd.read_csv(iowa_file_path)\n",
    "y = home_data.SalePrice\n",
    "\n",
    "# Create X (After completing the exercise, you can return to modify this line!)\n",
    "features = ['LotArea', 'YearBuilt', '1stFlrSF', '2ndFlrSF', 'FullBath', 'BedroomAbvGr', 'TotRmsAbvGrd']\n",
    "\n",
    "# Select columns corresponding to features, and preview the data\n",
    "X = home_data[features]\n",
    "X.head()\n",
    "\n",
    "# Split into validation and training data\n",
    "train_X, val_X, train_y, val_y = train_test_split(X, y, random_state=1)\n",
    "\n",
    "# Define a random forest model\n",
    "rf_model = RandomForestRegressor(random_state=1)\n",
    "rf_model.fit(train_X, train_y)\n",
    "rf_val_predictions = rf_model.predict(val_X)\n",
    "rf_val_mae = mean_absolute_error(rf_val_predictions, val_y)\n",
    "\n",
    "print(\"Validation MAE for Random Forest Model: {:,.0f}\".format(rf_val_mae))"
   ]
  },
  {
   "cell_type": "markdown",
   "id": "d7fe3fd6",
   "metadata": {
    "papermill": {
     "duration": 0.005951,
     "end_time": "2023-03-16T15:51:13.555346",
     "exception": false,
     "start_time": "2023-03-16T15:51:13.549395",
     "status": "completed"
    },
    "tags": []
   },
   "source": [
    "## Trying to make it more efficient"
   ]
  },
  {
   "cell_type": "code",
   "execution_count": 3,
   "id": "feabfb85",
   "metadata": {
    "execution": {
     "iopub.execute_input": "2023-03-16T15:51:13.570522Z",
     "iopub.status.busy": "2023-03-16T15:51:13.569577Z",
     "iopub.status.idle": "2023-03-16T15:51:13.945929Z",
     "shell.execute_reply": "2023-03-16T15:51:13.944491Z"
    },
    "papermill": {
     "duration": 0.387381,
     "end_time": "2023-03-16T15:51:13.948959",
     "exception": false,
     "start_time": "2023-03-16T15:51:13.561578",
     "status": "completed"
    },
    "tags": []
   },
   "outputs": [
    {
     "data": {
      "text/html": [
       "<div>\n",
       "<style scoped>\n",
       "    .dataframe tbody tr th:only-of-type {\n",
       "        vertical-align: middle;\n",
       "    }\n",
       "\n",
       "    .dataframe tbody tr th {\n",
       "        vertical-align: top;\n",
       "    }\n",
       "\n",
       "    .dataframe thead th {\n",
       "        text-align: right;\n",
       "    }\n",
       "</style>\n",
       "<table border=\"1\" class=\"dataframe\">\n",
       "  <thead>\n",
       "    <tr style=\"text-align: right;\">\n",
       "      <th></th>\n",
       "      <th>MSSubClass</th>\n",
       "      <th>LotArea</th>\n",
       "      <th>OverallQual</th>\n",
       "      <th>OverallCond</th>\n",
       "      <th>YearBuilt</th>\n",
       "      <th>YearRemodAdd</th>\n",
       "      <th>1stFlrSF</th>\n",
       "      <th>2ndFlrSF</th>\n",
       "      <th>LowQualFinSF</th>\n",
       "      <th>GrLivArea</th>\n",
       "      <th>...</th>\n",
       "      <th>Fireplaces</th>\n",
       "      <th>WoodDeckSF</th>\n",
       "      <th>OpenPorchSF</th>\n",
       "      <th>EnclosedPorch</th>\n",
       "      <th>3SsnPorch</th>\n",
       "      <th>ScreenPorch</th>\n",
       "      <th>PoolArea</th>\n",
       "      <th>MiscVal</th>\n",
       "      <th>MoSold</th>\n",
       "      <th>YrSold</th>\n",
       "    </tr>\n",
       "  </thead>\n",
       "  <tbody>\n",
       "    <tr>\n",
       "      <th>0</th>\n",
       "      <td>60</td>\n",
       "      <td>8450</td>\n",
       "      <td>7</td>\n",
       "      <td>5</td>\n",
       "      <td>2003</td>\n",
       "      <td>2003</td>\n",
       "      <td>856</td>\n",
       "      <td>854</td>\n",
       "      <td>0</td>\n",
       "      <td>1710</td>\n",
       "      <td>...</td>\n",
       "      <td>0</td>\n",
       "      <td>0</td>\n",
       "      <td>61</td>\n",
       "      <td>0</td>\n",
       "      <td>0</td>\n",
       "      <td>0</td>\n",
       "      <td>0</td>\n",
       "      <td>0</td>\n",
       "      <td>2</td>\n",
       "      <td>2008</td>\n",
       "    </tr>\n",
       "    <tr>\n",
       "      <th>1</th>\n",
       "      <td>20</td>\n",
       "      <td>9600</td>\n",
       "      <td>6</td>\n",
       "      <td>8</td>\n",
       "      <td>1976</td>\n",
       "      <td>1976</td>\n",
       "      <td>1262</td>\n",
       "      <td>0</td>\n",
       "      <td>0</td>\n",
       "      <td>1262</td>\n",
       "      <td>...</td>\n",
       "      <td>1</td>\n",
       "      <td>298</td>\n",
       "      <td>0</td>\n",
       "      <td>0</td>\n",
       "      <td>0</td>\n",
       "      <td>0</td>\n",
       "      <td>0</td>\n",
       "      <td>0</td>\n",
       "      <td>5</td>\n",
       "      <td>2007</td>\n",
       "    </tr>\n",
       "    <tr>\n",
       "      <th>2</th>\n",
       "      <td>60</td>\n",
       "      <td>11250</td>\n",
       "      <td>7</td>\n",
       "      <td>5</td>\n",
       "      <td>2001</td>\n",
       "      <td>2002</td>\n",
       "      <td>920</td>\n",
       "      <td>866</td>\n",
       "      <td>0</td>\n",
       "      <td>1786</td>\n",
       "      <td>...</td>\n",
       "      <td>1</td>\n",
       "      <td>0</td>\n",
       "      <td>42</td>\n",
       "      <td>0</td>\n",
       "      <td>0</td>\n",
       "      <td>0</td>\n",
       "      <td>0</td>\n",
       "      <td>0</td>\n",
       "      <td>9</td>\n",
       "      <td>2008</td>\n",
       "    </tr>\n",
       "    <tr>\n",
       "      <th>3</th>\n",
       "      <td>70</td>\n",
       "      <td>9550</td>\n",
       "      <td>7</td>\n",
       "      <td>5</td>\n",
       "      <td>1915</td>\n",
       "      <td>1970</td>\n",
       "      <td>961</td>\n",
       "      <td>756</td>\n",
       "      <td>0</td>\n",
       "      <td>1717</td>\n",
       "      <td>...</td>\n",
       "      <td>1</td>\n",
       "      <td>0</td>\n",
       "      <td>35</td>\n",
       "      <td>272</td>\n",
       "      <td>0</td>\n",
       "      <td>0</td>\n",
       "      <td>0</td>\n",
       "      <td>0</td>\n",
       "      <td>2</td>\n",
       "      <td>2006</td>\n",
       "    </tr>\n",
       "    <tr>\n",
       "      <th>4</th>\n",
       "      <td>60</td>\n",
       "      <td>14260</td>\n",
       "      <td>8</td>\n",
       "      <td>5</td>\n",
       "      <td>2000</td>\n",
       "      <td>2000</td>\n",
       "      <td>1145</td>\n",
       "      <td>1053</td>\n",
       "      <td>0</td>\n",
       "      <td>2198</td>\n",
       "      <td>...</td>\n",
       "      <td>1</td>\n",
       "      <td>192</td>\n",
       "      <td>84</td>\n",
       "      <td>0</td>\n",
       "      <td>0</td>\n",
       "      <td>0</td>\n",
       "      <td>0</td>\n",
       "      <td>0</td>\n",
       "      <td>12</td>\n",
       "      <td>2008</td>\n",
       "    </tr>\n",
       "  </tbody>\n",
       "</table>\n",
       "<p>5 rows × 25 columns</p>\n",
       "</div>"
      ],
      "text/plain": [
       "   MSSubClass  LotArea  OverallQual  OverallCond  YearBuilt  YearRemodAdd  \\\n",
       "0          60     8450            7            5       2003          2003   \n",
       "1          20     9600            6            8       1976          1976   \n",
       "2          60    11250            7            5       2001          2002   \n",
       "3          70     9550            7            5       1915          1970   \n",
       "4          60    14260            8            5       2000          2000   \n",
       "\n",
       "   1stFlrSF  2ndFlrSF  LowQualFinSF  GrLivArea  ...  Fireplaces  WoodDeckSF  \\\n",
       "0       856       854             0       1710  ...           0           0   \n",
       "1      1262         0             0       1262  ...           1         298   \n",
       "2       920       866             0       1786  ...           1           0   \n",
       "3       961       756             0       1717  ...           1           0   \n",
       "4      1145      1053             0       2198  ...           1         192   \n",
       "\n",
       "   OpenPorchSF  EnclosedPorch  3SsnPorch  ScreenPorch  PoolArea  MiscVal  \\\n",
       "0           61              0          0            0         0        0   \n",
       "1            0              0          0            0         0        0   \n",
       "2           42              0          0            0         0        0   \n",
       "3           35            272          0            0         0        0   \n",
       "4           84              0          0            0         0        0   \n",
       "\n",
       "   MoSold  YrSold  \n",
       "0       2    2008  \n",
       "1       5    2007  \n",
       "2       9    2008  \n",
       "3       2    2006  \n",
       "4      12    2008  \n",
       "\n",
       "[5 rows x 25 columns]"
      ]
     },
     "execution_count": 3,
     "metadata": {},
     "output_type": "execute_result"
    }
   ],
   "source": [
    "import seaborn as sns\n",
    "sns.set()\n",
    "\n",
    "new_features = [\n",
    "    'MSSubClass',\n",
    "    'LotArea',\n",
    "    'OverallQual',\n",
    "    'OverallCond',\n",
    "    'YearBuilt',\n",
    "    'YearRemodAdd',\n",
    "    '1stFlrSF',\n",
    "    '2ndFlrSF',\n",
    "    'LowQualFinSF',\n",
    "    'GrLivArea',\n",
    "    'FullBath',\n",
    "    'HalfBath',\n",
    "    'BedroomAbvGr',\n",
    "    'KitchenAbvGr',\n",
    "    'TotRmsAbvGrd',\n",
    "    'Fireplaces',\n",
    "    'WoodDeckSF',\n",
    "    'OpenPorchSF',\n",
    "    'EnclosedPorch',\n",
    "    '3SsnPorch',\n",
    "    'ScreenPorch',\n",
    "    'PoolArea',\n",
    "    'MiscVal',\n",
    "    'MoSold',\n",
    "    'YrSold'\n",
    "\n",
    "]\n",
    "Xn = home_data[new_features]\n",
    "Xn.head()"
   ]
  },
  {
   "cell_type": "code",
   "execution_count": 4,
   "id": "9f20a76f",
   "metadata": {
    "execution": {
     "iopub.execute_input": "2023-03-16T15:51:13.966513Z",
     "iopub.status.busy": "2023-03-16T15:51:13.965317Z",
     "iopub.status.idle": "2023-03-16T15:51:13.977900Z",
     "shell.execute_reply": "2023-03-16T15:51:13.976036Z"
    },
    "papermill": {
     "duration": 0.024763,
     "end_time": "2023-03-16T15:51:13.980718",
     "exception": false,
     "start_time": "2023-03-16T15:51:13.955955",
     "status": "completed"
    },
    "tags": []
   },
   "outputs": [
    {
     "name": "stdout",
     "output_type": "stream",
     "text": [
      "MSSubClass          0\n",
      "LotArea             0\n",
      "OverallQual         0\n",
      "OverallCond         0\n",
      "YearBuilt           0\n",
      "YearRemodAdd        0\n",
      "1stFlrSF            0\n",
      "2ndFlrSF          829\n",
      "LowQualFinSF     1434\n",
      "GrLivArea           0\n",
      "FullBath            9\n",
      "HalfBath          913\n",
      "BedroomAbvGr        6\n",
      "KitchenAbvGr        1\n",
      "TotRmsAbvGrd        0\n",
      "Fireplaces        690\n",
      "WoodDeckSF        761\n",
      "OpenPorchSF       656\n",
      "EnclosedPorch    1252\n",
      "3SsnPorch        1436\n",
      "ScreenPorch      1344\n",
      "PoolArea         1453\n",
      "MiscVal          1408\n",
      "MoSold              0\n",
      "YrSold              0\n",
      "dtype: int64\n"
     ]
    }
   ],
   "source": [
    "# Let's check the data for the missing values\n",
    "zeros = (Xn == 0).astype(int).sum()\n",
    "print(zeros)"
   ]
  },
  {
   "cell_type": "code",
   "execution_count": 5,
   "id": "148856bc",
   "metadata": {
    "execution": {
     "iopub.execute_input": "2023-03-16T15:51:13.997815Z",
     "iopub.status.busy": "2023-03-16T15:51:13.996573Z",
     "iopub.status.idle": "2023-03-16T15:51:14.010204Z",
     "shell.execute_reply": "2023-03-16T15:51:14.008680Z"
    },
    "papermill": {
     "duration": 0.025126,
     "end_time": "2023-03-16T15:51:14.013021",
     "exception": false,
     "start_time": "2023-03-16T15:51:13.987895",
     "status": "completed"
    },
    "tags": []
   },
   "outputs": [
    {
     "data": {
      "text/plain": [
       "MSSubClass        0.000000\n",
       "LotArea           0.000000\n",
       "OverallQual       0.000000\n",
       "OverallCond       0.000000\n",
       "YearBuilt         0.000000\n",
       "YearRemodAdd      0.000000\n",
       "1stFlrSF          0.000000\n",
       "2ndFlrSF         56.780822\n",
       "LowQualFinSF     98.219178\n",
       "GrLivArea         0.000000\n",
       "FullBath          0.616438\n",
       "HalfBath         62.534247\n",
       "BedroomAbvGr      0.410959\n",
       "KitchenAbvGr      0.068493\n",
       "TotRmsAbvGrd      0.000000\n",
       "Fireplaces       47.260274\n",
       "WoodDeckSF       52.123288\n",
       "OpenPorchSF      44.931507\n",
       "EnclosedPorch    85.753425\n",
       "3SsnPorch        98.356164\n",
       "ScreenPorch      92.054795\n",
       "PoolArea         99.520548\n",
       "MiscVal          96.438356\n",
       "MoSold            0.000000\n",
       "YrSold            0.000000\n",
       "dtype: float64"
      ]
     },
     "execution_count": 5,
     "metadata": {},
     "output_type": "execute_result"
    }
   ],
   "source": [
    "# Let's convert this Series to be in term of percentage of the total DataFrame\n",
    "100* (Xn == 0).astype(int).sum()/len(Xn)"
   ]
  },
  {
   "cell_type": "code",
   "execution_count": 6,
   "id": "9a06177f",
   "metadata": {
    "execution": {
     "iopub.execute_input": "2023-03-16T15:51:14.029296Z",
     "iopub.status.busy": "2023-03-16T15:51:14.028797Z",
     "iopub.status.idle": "2023-03-16T15:51:14.081820Z",
     "shell.execute_reply": "2023-03-16T15:51:14.080425Z"
    },
    "papermill": {
     "duration": 0.064899,
     "end_time": "2023-03-16T15:51:14.084920",
     "exception": false,
     "start_time": "2023-03-16T15:51:14.020021",
     "status": "completed"
    },
    "tags": []
   },
   "outputs": [
    {
     "data": {
      "text/plain": [
       "Id                0.000000\n",
       "MSSubClass        0.000000\n",
       "MSZoning          0.000000\n",
       "LotFrontage       0.000000\n",
       "LotArea           0.000000\n",
       "                   ...    \n",
       "MiscVal          96.438356\n",
       "MoSold            0.000000\n",
       "YrSold            0.000000\n",
       "SaleType          0.000000\n",
       "SaleCondition     0.000000\n",
       "Length: 80, dtype: float64"
      ]
     },
     "execution_count": 6,
     "metadata": {},
     "output_type": "execute_result"
    }
   ],
   "source": [
    "# path to file you will use for predictions\n",
    "test_data_path = '../input/test.csv'\n",
    "\n",
    "# read test data file using pandas\n",
    "test_data = pd.read_csv(test_data_path)\n",
    "100* (test_data == 0).astype(int).sum()/len(Xn)\n"
   ]
  },
  {
   "cell_type": "code",
   "execution_count": 7,
   "id": "7325a6f4",
   "metadata": {
    "execution": {
     "iopub.execute_input": "2023-03-16T15:51:14.102156Z",
     "iopub.status.busy": "2023-03-16T15:51:14.100962Z",
     "iopub.status.idle": "2023-03-16T15:51:14.107244Z",
     "shell.execute_reply": "2023-03-16T15:51:14.105903Z"
    },
    "papermill": {
     "duration": 0.017625,
     "end_time": "2023-03-16T15:51:14.109839",
     "exception": false,
     "start_time": "2023-03-16T15:51:14.092214",
     "status": "completed"
    },
    "tags": []
   },
   "outputs": [],
   "source": [
    "#drop list\n",
    "drop_list = ['LowQualFinSF','EnclosedPorch','3SsnPorch','ScreenPorch','PoolArea','MiscVal']"
   ]
  },
  {
   "cell_type": "code",
   "execution_count": 8,
   "id": "fef07882",
   "metadata": {
    "execution": {
     "iopub.execute_input": "2023-03-16T15:51:14.127803Z",
     "iopub.status.busy": "2023-03-16T15:51:14.127280Z",
     "iopub.status.idle": "2023-03-16T15:51:14.135000Z",
     "shell.execute_reply": "2023-03-16T15:51:14.133099Z"
    },
    "papermill": {
     "duration": 0.020823,
     "end_time": "2023-03-16T15:51:14.137759",
     "exception": false,
     "start_time": "2023-03-16T15:51:14.116936",
     "status": "completed"
    },
    "tags": []
   },
   "outputs": [],
   "source": [
    "Xn = Xn.drop(drop_list, axis=1)"
   ]
  },
  {
   "cell_type": "code",
   "execution_count": 9,
   "id": "bdbf8e1e",
   "metadata": {
    "execution": {
     "iopub.execute_input": "2023-03-16T15:51:14.154441Z",
     "iopub.status.busy": "2023-03-16T15:51:14.153961Z",
     "iopub.status.idle": "2023-03-16T15:51:14.232779Z",
     "shell.execute_reply": "2023-03-16T15:51:14.231368Z"
    },
    "papermill": {
     "duration": 0.090645,
     "end_time": "2023-03-16T15:51:14.235567",
     "exception": false,
     "start_time": "2023-03-16T15:51:14.144922",
     "status": "completed"
    },
    "tags": []
   },
   "outputs": [
    {
     "data": {
      "text/html": [
       "<div>\n",
       "<style scoped>\n",
       "    .dataframe tbody tr th:only-of-type {\n",
       "        vertical-align: middle;\n",
       "    }\n",
       "\n",
       "    .dataframe tbody tr th {\n",
       "        vertical-align: top;\n",
       "    }\n",
       "\n",
       "    .dataframe thead th {\n",
       "        text-align: right;\n",
       "    }\n",
       "</style>\n",
       "<table border=\"1\" class=\"dataframe\">\n",
       "  <thead>\n",
       "    <tr style=\"text-align: right;\">\n",
       "      <th></th>\n",
       "      <th>MSSubClass</th>\n",
       "      <th>LotArea</th>\n",
       "      <th>OverallQual</th>\n",
       "      <th>OverallCond</th>\n",
       "      <th>YearBuilt</th>\n",
       "      <th>YearRemodAdd</th>\n",
       "      <th>1stFlrSF</th>\n",
       "      <th>2ndFlrSF</th>\n",
       "      <th>GrLivArea</th>\n",
       "      <th>FullBath</th>\n",
       "      <th>HalfBath</th>\n",
       "      <th>BedroomAbvGr</th>\n",
       "      <th>KitchenAbvGr</th>\n",
       "      <th>TotRmsAbvGrd</th>\n",
       "      <th>Fireplaces</th>\n",
       "      <th>WoodDeckSF</th>\n",
       "      <th>OpenPorchSF</th>\n",
       "      <th>MoSold</th>\n",
       "      <th>YrSold</th>\n",
       "    </tr>\n",
       "  </thead>\n",
       "  <tbody>\n",
       "    <tr>\n",
       "      <th>count</th>\n",
       "      <td>1460.000000</td>\n",
       "      <td>1460.000000</td>\n",
       "      <td>1460.000000</td>\n",
       "      <td>1460.000000</td>\n",
       "      <td>1460.000000</td>\n",
       "      <td>1460.000000</td>\n",
       "      <td>1460.000000</td>\n",
       "      <td>1460.000000</td>\n",
       "      <td>1460.000000</td>\n",
       "      <td>1460.000000</td>\n",
       "      <td>1460.000000</td>\n",
       "      <td>1460.000000</td>\n",
       "      <td>1460.000000</td>\n",
       "      <td>1460.000000</td>\n",
       "      <td>1460.000000</td>\n",
       "      <td>1460.000000</td>\n",
       "      <td>1460.000000</td>\n",
       "      <td>1460.000000</td>\n",
       "      <td>1460.000000</td>\n",
       "    </tr>\n",
       "    <tr>\n",
       "      <th>mean</th>\n",
       "      <td>56.897260</td>\n",
       "      <td>10516.828082</td>\n",
       "      <td>6.099315</td>\n",
       "      <td>5.575342</td>\n",
       "      <td>1971.267808</td>\n",
       "      <td>1984.865753</td>\n",
       "      <td>1162.626712</td>\n",
       "      <td>346.992466</td>\n",
       "      <td>1515.463699</td>\n",
       "      <td>1.565068</td>\n",
       "      <td>0.382877</td>\n",
       "      <td>2.866438</td>\n",
       "      <td>1.046575</td>\n",
       "      <td>6.517808</td>\n",
       "      <td>0.613014</td>\n",
       "      <td>94.244521</td>\n",
       "      <td>46.660274</td>\n",
       "      <td>6.321918</td>\n",
       "      <td>2007.815753</td>\n",
       "    </tr>\n",
       "    <tr>\n",
       "      <th>std</th>\n",
       "      <td>42.300571</td>\n",
       "      <td>9981.264932</td>\n",
       "      <td>1.382997</td>\n",
       "      <td>1.112799</td>\n",
       "      <td>30.202904</td>\n",
       "      <td>20.645407</td>\n",
       "      <td>386.587738</td>\n",
       "      <td>436.528436</td>\n",
       "      <td>525.480383</td>\n",
       "      <td>0.550916</td>\n",
       "      <td>0.502885</td>\n",
       "      <td>0.815778</td>\n",
       "      <td>0.220338</td>\n",
       "      <td>1.625393</td>\n",
       "      <td>0.644666</td>\n",
       "      <td>125.338794</td>\n",
       "      <td>66.256028</td>\n",
       "      <td>2.703626</td>\n",
       "      <td>1.328095</td>\n",
       "    </tr>\n",
       "    <tr>\n",
       "      <th>min</th>\n",
       "      <td>20.000000</td>\n",
       "      <td>1300.000000</td>\n",
       "      <td>1.000000</td>\n",
       "      <td>1.000000</td>\n",
       "      <td>1872.000000</td>\n",
       "      <td>1950.000000</td>\n",
       "      <td>334.000000</td>\n",
       "      <td>0.000000</td>\n",
       "      <td>334.000000</td>\n",
       "      <td>0.000000</td>\n",
       "      <td>0.000000</td>\n",
       "      <td>0.000000</td>\n",
       "      <td>0.000000</td>\n",
       "      <td>2.000000</td>\n",
       "      <td>0.000000</td>\n",
       "      <td>0.000000</td>\n",
       "      <td>0.000000</td>\n",
       "      <td>1.000000</td>\n",
       "      <td>2006.000000</td>\n",
       "    </tr>\n",
       "    <tr>\n",
       "      <th>25%</th>\n",
       "      <td>20.000000</td>\n",
       "      <td>7553.500000</td>\n",
       "      <td>5.000000</td>\n",
       "      <td>5.000000</td>\n",
       "      <td>1954.000000</td>\n",
       "      <td>1967.000000</td>\n",
       "      <td>882.000000</td>\n",
       "      <td>0.000000</td>\n",
       "      <td>1129.500000</td>\n",
       "      <td>1.000000</td>\n",
       "      <td>0.000000</td>\n",
       "      <td>2.000000</td>\n",
       "      <td>1.000000</td>\n",
       "      <td>5.000000</td>\n",
       "      <td>0.000000</td>\n",
       "      <td>0.000000</td>\n",
       "      <td>0.000000</td>\n",
       "      <td>5.000000</td>\n",
       "      <td>2007.000000</td>\n",
       "    </tr>\n",
       "    <tr>\n",
       "      <th>50%</th>\n",
       "      <td>50.000000</td>\n",
       "      <td>9478.500000</td>\n",
       "      <td>6.000000</td>\n",
       "      <td>5.000000</td>\n",
       "      <td>1973.000000</td>\n",
       "      <td>1994.000000</td>\n",
       "      <td>1087.000000</td>\n",
       "      <td>0.000000</td>\n",
       "      <td>1464.000000</td>\n",
       "      <td>2.000000</td>\n",
       "      <td>0.000000</td>\n",
       "      <td>3.000000</td>\n",
       "      <td>1.000000</td>\n",
       "      <td>6.000000</td>\n",
       "      <td>1.000000</td>\n",
       "      <td>0.000000</td>\n",
       "      <td>25.000000</td>\n",
       "      <td>6.000000</td>\n",
       "      <td>2008.000000</td>\n",
       "    </tr>\n",
       "    <tr>\n",
       "      <th>75%</th>\n",
       "      <td>70.000000</td>\n",
       "      <td>11601.500000</td>\n",
       "      <td>7.000000</td>\n",
       "      <td>6.000000</td>\n",
       "      <td>2000.000000</td>\n",
       "      <td>2004.000000</td>\n",
       "      <td>1391.250000</td>\n",
       "      <td>728.000000</td>\n",
       "      <td>1776.750000</td>\n",
       "      <td>2.000000</td>\n",
       "      <td>1.000000</td>\n",
       "      <td>3.000000</td>\n",
       "      <td>1.000000</td>\n",
       "      <td>7.000000</td>\n",
       "      <td>1.000000</td>\n",
       "      <td>168.000000</td>\n",
       "      <td>68.000000</td>\n",
       "      <td>8.000000</td>\n",
       "      <td>2009.000000</td>\n",
       "    </tr>\n",
       "    <tr>\n",
       "      <th>max</th>\n",
       "      <td>190.000000</td>\n",
       "      <td>215245.000000</td>\n",
       "      <td>10.000000</td>\n",
       "      <td>9.000000</td>\n",
       "      <td>2010.000000</td>\n",
       "      <td>2010.000000</td>\n",
       "      <td>4692.000000</td>\n",
       "      <td>2065.000000</td>\n",
       "      <td>5642.000000</td>\n",
       "      <td>3.000000</td>\n",
       "      <td>2.000000</td>\n",
       "      <td>8.000000</td>\n",
       "      <td>3.000000</td>\n",
       "      <td>14.000000</td>\n",
       "      <td>3.000000</td>\n",
       "      <td>857.000000</td>\n",
       "      <td>547.000000</td>\n",
       "      <td>12.000000</td>\n",
       "      <td>2010.000000</td>\n",
       "    </tr>\n",
       "  </tbody>\n",
       "</table>\n",
       "</div>"
      ],
      "text/plain": [
       "        MSSubClass        LotArea  OverallQual  OverallCond    YearBuilt  \\\n",
       "count  1460.000000    1460.000000  1460.000000  1460.000000  1460.000000   \n",
       "mean     56.897260   10516.828082     6.099315     5.575342  1971.267808   \n",
       "std      42.300571    9981.264932     1.382997     1.112799    30.202904   \n",
       "min      20.000000    1300.000000     1.000000     1.000000  1872.000000   \n",
       "25%      20.000000    7553.500000     5.000000     5.000000  1954.000000   \n",
       "50%      50.000000    9478.500000     6.000000     5.000000  1973.000000   \n",
       "75%      70.000000   11601.500000     7.000000     6.000000  2000.000000   \n",
       "max     190.000000  215245.000000    10.000000     9.000000  2010.000000   \n",
       "\n",
       "       YearRemodAdd     1stFlrSF     2ndFlrSF    GrLivArea     FullBath  \\\n",
       "count   1460.000000  1460.000000  1460.000000  1460.000000  1460.000000   \n",
       "mean    1984.865753  1162.626712   346.992466  1515.463699     1.565068   \n",
       "std       20.645407   386.587738   436.528436   525.480383     0.550916   \n",
       "min     1950.000000   334.000000     0.000000   334.000000     0.000000   \n",
       "25%     1967.000000   882.000000     0.000000  1129.500000     1.000000   \n",
       "50%     1994.000000  1087.000000     0.000000  1464.000000     2.000000   \n",
       "75%     2004.000000  1391.250000   728.000000  1776.750000     2.000000   \n",
       "max     2010.000000  4692.000000  2065.000000  5642.000000     3.000000   \n",
       "\n",
       "          HalfBath  BedroomAbvGr  KitchenAbvGr  TotRmsAbvGrd   Fireplaces  \\\n",
       "count  1460.000000   1460.000000   1460.000000   1460.000000  1460.000000   \n",
       "mean      0.382877      2.866438      1.046575      6.517808     0.613014   \n",
       "std       0.502885      0.815778      0.220338      1.625393     0.644666   \n",
       "min       0.000000      0.000000      0.000000      2.000000     0.000000   \n",
       "25%       0.000000      2.000000      1.000000      5.000000     0.000000   \n",
       "50%       0.000000      3.000000      1.000000      6.000000     1.000000   \n",
       "75%       1.000000      3.000000      1.000000      7.000000     1.000000   \n",
       "max       2.000000      8.000000      3.000000     14.000000     3.000000   \n",
       "\n",
       "        WoodDeckSF  OpenPorchSF       MoSold       YrSold  \n",
       "count  1460.000000  1460.000000  1460.000000  1460.000000  \n",
       "mean     94.244521    46.660274     6.321918  2007.815753  \n",
       "std     125.338794    66.256028     2.703626     1.328095  \n",
       "min       0.000000     0.000000     1.000000  2006.000000  \n",
       "25%       0.000000     0.000000     5.000000  2007.000000  \n",
       "50%       0.000000    25.000000     6.000000  2008.000000  \n",
       "75%     168.000000    68.000000     8.000000  2009.000000  \n",
       "max     857.000000   547.000000    12.000000  2010.000000  "
      ]
     },
     "execution_count": 9,
     "metadata": {},
     "output_type": "execute_result"
    }
   ],
   "source": [
    "Xn.describe()"
   ]
  },
  {
   "cell_type": "code",
   "execution_count": 10,
   "id": "f6490bf9",
   "metadata": {
    "execution": {
     "iopub.execute_input": "2023-03-16T15:51:14.254334Z",
     "iopub.status.busy": "2023-03-16T15:51:14.252974Z",
     "iopub.status.idle": "2023-03-16T15:51:15.080082Z",
     "shell.execute_reply": "2023-03-16T15:51:15.078282Z"
    },
    "papermill": {
     "duration": 0.840997,
     "end_time": "2023-03-16T15:51:15.084365",
     "exception": false,
     "start_time": "2023-03-16T15:51:14.243368",
     "status": "completed"
    },
    "tags": []
   },
   "outputs": [
    {
     "name": "stdout",
     "output_type": "stream",
     "text": [
      "Validation MAE for Random Forest Model: 21,857\n"
     ]
    }
   ],
   "source": [
    "# Split into validation and training data\n",
    "train_X, val_X, train_y, val_y = train_test_split(Xn, y, random_state=42)\n",
    "\n",
    "# Define a random forest model\n",
    "my_rf_model = RandomForestRegressor(random_state=1)\n",
    "my_rf_model.fit(train_X, train_y)\n",
    "my_rf_val_predictions = my_rf_model.predict(val_X)\n",
    "my_rf_val_mae = mean_absolute_error(rf_val_predictions, val_y)\n",
    "\n",
    "print(\"Validation MAE for Random Forest Model: {:,.0f}\".format(rf_val_mae))"
   ]
  },
  {
   "cell_type": "code",
   "execution_count": null,
   "id": "4d43a124",
   "metadata": {
    "papermill": {
     "duration": 0.007208,
     "end_time": "2023-03-16T15:51:15.100087",
     "exception": false,
     "start_time": "2023-03-16T15:51:15.092879",
     "status": "completed"
    },
    "tags": []
   },
   "outputs": [],
   "source": []
  },
  {
   "cell_type": "markdown",
   "id": "04df20b1",
   "metadata": {
    "papermill": {
     "duration": 0.007337,
     "end_time": "2023-03-16T15:51:15.115184",
     "exception": false,
     "start_time": "2023-03-16T15:51:15.107847",
     "status": "completed"
    },
    "tags": []
   },
   "source": [
    "# Train a model for the competition\n",
    "\n",
    "The code cell above trains a Random Forest model on **`train_X`** and **`train_y`**.  \n",
    "\n",
    "Use the code cell below to build a Random Forest model and train it on all of **`X`** and **`y`**."
   ]
  },
  {
   "cell_type": "code",
   "execution_count": 11,
   "id": "17fd5bf2",
   "metadata": {
    "execution": {
     "iopub.execute_input": "2023-03-16T15:51:15.133157Z",
     "iopub.status.busy": "2023-03-16T15:51:15.132649Z",
     "iopub.status.idle": "2023-03-16T15:51:16.187509Z",
     "shell.execute_reply": "2023-03-16T15:51:16.185875Z"
    },
    "papermill": {
     "duration": 1.067928,
     "end_time": "2023-03-16T15:51:16.190649",
     "exception": false,
     "start_time": "2023-03-16T15:51:15.122721",
     "status": "completed"
    },
    "tags": []
   },
   "outputs": [
    {
     "data": {
      "text/plain": [
       "RandomForestRegressor(random_state=42)"
      ]
     },
     "execution_count": 11,
     "metadata": {},
     "output_type": "execute_result"
    }
   ],
   "source": [
    "# To improve accuracy, create a new Random Forest model which you will train on all training data\n",
    "rf_model_on_full_data = RandomForestRegressor(random_state=42)\n",
    "\n",
    "# fit rf_model_on_full_data on all data from the training data\n",
    "rf_model_on_full_data.fit(Xn,y)"
   ]
  },
  {
   "cell_type": "markdown",
   "id": "94853c2e",
   "metadata": {
    "papermill": {
     "duration": 0.007305,
     "end_time": "2023-03-16T15:51:16.206234",
     "exception": false,
     "start_time": "2023-03-16T15:51:16.198929",
     "status": "completed"
    },
    "tags": []
   },
   "source": [
    "Now, read the file of \"test\" data, and apply your model to make predictions."
   ]
  },
  {
   "cell_type": "code",
   "execution_count": 12,
   "id": "2870c055",
   "metadata": {
    "execution": {
     "iopub.execute_input": "2023-03-16T15:51:16.225916Z",
     "iopub.status.busy": "2023-03-16T15:51:16.225345Z",
     "iopub.status.idle": "2023-03-16T15:51:16.301200Z",
     "shell.execute_reply": "2023-03-16T15:51:16.299670Z"
    },
    "papermill": {
     "duration": 0.089717,
     "end_time": "2023-03-16T15:51:16.304460",
     "exception": false,
     "start_time": "2023-03-16T15:51:16.214743",
     "status": "completed"
    },
    "tags": []
   },
   "outputs": [],
   "source": [
    "# path to file you will use for predictions\n",
    "test_data_path = '../input/test.csv'\n",
    "\n",
    "# read test data file using pandas\n",
    "test_data = pd.read_csv(test_data_path)\n",
    "\n",
    "# create test_X which comes from test_data but includes only the columns you used for prediction.\n",
    "# The list of columns is stored in a variable called features\n",
    "test_X = test_data[new_features]\n",
    "test_X = test_X.drop(drop_list, axis=1)\n",
    "\n",
    "# make predictions which we will submit. \n",
    "test_preds = rf_model_on_full_data.predict(test_X)"
   ]
  },
  {
   "cell_type": "markdown",
   "id": "0770afb8",
   "metadata": {
    "papermill": {
     "duration": 0.008133,
     "end_time": "2023-03-16T15:51:16.320941",
     "exception": false,
     "start_time": "2023-03-16T15:51:16.312808",
     "status": "completed"
    },
    "tags": []
   },
   "source": [
    "Before submitting, run a check to make sure your `test_preds` have the right format."
   ]
  },
  {
   "cell_type": "code",
   "execution_count": 13,
   "id": "04610531",
   "metadata": {
    "execution": {
     "iopub.execute_input": "2023-03-16T15:51:16.339911Z",
     "iopub.status.busy": "2023-03-16T15:51:16.338728Z",
     "iopub.status.idle": "2023-03-16T15:51:16.350839Z",
     "shell.execute_reply": "2023-03-16T15:51:16.349618Z"
    },
    "papermill": {
     "duration": 0.024904,
     "end_time": "2023-03-16T15:51:16.353538",
     "exception": false,
     "start_time": "2023-03-16T15:51:16.328634",
     "status": "completed"
    },
    "tags": []
   },
   "outputs": [
    {
     "data": {
      "application/javascript": [
       "parent.postMessage({\"jupyterEvent\": \"custom.exercise_interaction\", \"data\": {\"outcomeType\": 1, \"valueTowardsCompletion\": 1.0, \"interactionType\": 1, \"questionType\": 2, \"questionId\": \"1_CheckSubmittablePreds\", \"learnToolsVersion\": \"0.3.4\", \"failureMessage\": \"\", \"exceptionClass\": \"\", \"trace\": \"\"}}, \"*\")"
      ],
      "text/plain": [
       "<IPython.core.display.Javascript object>"
      ]
     },
     "metadata": {},
     "output_type": "display_data"
    },
    {
     "data": {
      "text/markdown": [
       "<span style=\"color:#33cc33\">Correct</span>"
      ],
      "text/plain": [
       "Correct"
      ]
     },
     "metadata": {},
     "output_type": "display_data"
    }
   ],
   "source": [
    "# Check your answer (To get credit for completing the exercise, you must get a \"Correct\" result!)\n",
    "step_1.check()\n",
    "# step_1.solution()"
   ]
  },
  {
   "cell_type": "markdown",
   "id": "56cd63fb",
   "metadata": {
    "papermill": {
     "duration": 0.007538,
     "end_time": "2023-03-16T15:51:16.369821",
     "exception": false,
     "start_time": "2023-03-16T15:51:16.362283",
     "status": "completed"
    },
    "tags": []
   },
   "source": [
    "# Generate a submission\n",
    "\n",
    "Run the code cell below to generate a CSV file with your predictions that you can use to submit to the competition."
   ]
  },
  {
   "cell_type": "code",
   "execution_count": 14,
   "id": "0cf000eb",
   "metadata": {
    "execution": {
     "iopub.execute_input": "2023-03-16T15:51:16.387781Z",
     "iopub.status.busy": "2023-03-16T15:51:16.387113Z",
     "iopub.status.idle": "2023-03-16T15:51:16.403810Z",
     "shell.execute_reply": "2023-03-16T15:51:16.402616Z"
    },
    "papermill": {
     "duration": 0.029359,
     "end_time": "2023-03-16T15:51:16.407066",
     "exception": false,
     "start_time": "2023-03-16T15:51:16.377707",
     "status": "completed"
    },
    "tags": []
   },
   "outputs": [],
   "source": [
    "# Run the code to save predictions in the format used for competition scoring\n",
    "\n",
    "output = pd.DataFrame({'Id': test_data.Id,\n",
    "                       'SalePrice': test_preds})\n",
    "output.to_csv('submission.csv', index=False)"
   ]
  },
  {
   "cell_type": "markdown",
   "id": "7dc1bc38",
   "metadata": {
    "papermill": {
     "duration": 0.00789,
     "end_time": "2023-03-16T15:51:16.424518",
     "exception": false,
     "start_time": "2023-03-16T15:51:16.416628",
     "status": "completed"
    },
    "tags": []
   },
   "source": [
    "# Submit to the competition\n",
    "\n",
    "To test your results, you'll need to join the competition (if you haven't already).  So open a new window by clicking on **[this link](https://www.kaggle.com/c/home-data-for-ml-course)**.  Then click on the **Join Competition** button.\n",
    "\n",
    "![join competition image](https://i.imgur.com/axBzctl.png)\n",
    "\n",
    "Next, follow the instructions below:\n",
    "1. Begin by clicking on the **Save Version** button in the top right corner of the window.  This will generate a pop-up window.  \n",
    "2. Ensure that the **Save and Run All** option is selected, and then click on the **Save** button.\n",
    "3. This generates a window in the bottom left corner of the notebook.  After it has finished running, click on the number to the right of the **Save Version** button.  This pulls up a list of versions on the right of the screen.  Click on the ellipsis **(...)** to the right of the most recent version, and select **Open in Viewer**.  This brings you into view mode of the same page. You will need to scroll down to get back to these instructions.\n",
    "4. Click on the **Output** tab on the right of the screen.  Then, click on the file you would like to submit, and click on the **Submit** button to submit your results to the leaderboard.\n",
    "\n",
    "You have now successfully submitted to the competition!\n",
    "\n",
    "If you want to keep working to improve your performance, select the **Edit** button in the top right of the screen. Then you can change your code and repeat the process. There's a lot of room to improve, and you will climb up the leaderboard as you work.\n",
    "\n",
    "\n",
    "# Continue Your Progress\n",
    "There are many ways to improve your model, and **experimenting is a great way to learn at this point.**\n",
    "\n",
    "The best way to improve your model is to add features.  To add more features to the data, revisit the first code cell, and change this line of code to include more column names:\n",
    "```python\n",
    "features = ['LotArea', 'YearBuilt', '1stFlrSF', '2ndFlrSF', 'FullBath', 'BedroomAbvGr', 'TotRmsAbvGrd']\n",
    "```\n",
    "\n",
    "Some features will cause errors because of issues like missing values or non-numeric data types.  Here is a complete list of potential columns that you might like to use, and that won't throw errors:\n",
    "- 'MSSubClass'\n",
    "- 'LotArea'\n",
    "- 'OverallQual' \n",
    "- 'OverallCond' \n",
    "- 'YearBuilt'\n",
    "- 'YearRemodAdd' \n",
    "- '1stFlrSF'\n",
    "- '2ndFlrSF' \n",
    "- 'LowQualFinSF' \n",
    "- 'GrLivArea'\n",
    "- 'FullBath'\n",
    "- 'HalfBath'\n",
    "- 'BedroomAbvGr' \n",
    "- 'KitchenAbvGr' \n",
    "- 'TotRmsAbvGrd' \n",
    "- 'Fireplaces' \n",
    "- 'WoodDeckSF' \n",
    "- 'OpenPorchSF'\n",
    "- 'EnclosedPorch' \n",
    "- '3SsnPorch' \n",
    "- 'ScreenPorch' \n",
    "- 'PoolArea' \n",
    "- 'MiscVal' \n",
    "- 'MoSold' \n",
    "- 'YrSold'\n",
    "\n",
    "Look at the list of columns and think about what might affect home prices.  To learn more about each of these features, take a look at the data description on the **[competition page](https://www.kaggle.com/c/home-data-for-ml-course/data)**.\n",
    "\n",
    "After updating the code cell above that defines the features, re-run all of the code cells to evaluate the model and generate a new submission file.  \n",
    "\n",
    "\n",
    "# What's next?\n",
    "\n",
    "As mentioned above, some of the features will throw an error if you try to use them to train your model.  The **[Intermediate Machine Learning](https://www.kaggle.com/learn/intermediate-machine-learning)** course will teach you how to handle these types of features. You will also learn to use **xgboost**, a technique giving even better accuracy than Random Forest.\n",
    "\n",
    "The **[Pandas](https://kaggle.com/Learn/Pandas)** course will give you the data manipulation skills to quickly go from conceptual idea to implementation in your data science projects. \n",
    "\n",
    "You are also ready for the **[Deep Learning](https://kaggle.com/Learn/intro-to-Deep-Learning)** course, where you will build models with better-than-human level performance at computer vision tasks."
   ]
  },
  {
   "cell_type": "markdown",
   "id": "7273467f",
   "metadata": {
    "papermill": {
     "duration": 0.008252,
     "end_time": "2023-03-16T15:51:16.441173",
     "exception": false,
     "start_time": "2023-03-16T15:51:16.432921",
     "status": "completed"
    },
    "tags": []
   },
   "source": [
    "---\n",
    "\n",
    "\n",
    "\n",
    "\n",
    "*Have questions or comments? Visit the [course discussion forum](https://www.kaggle.com/learn/intro-to-machine-learning/discussion) to chat with other learners.*"
   ]
  }
 ],
 "metadata": {
  "kernelspec": {
   "display_name": "Python 3",
   "language": "python",
   "name": "python3"
  },
  "language_info": {
   "codemirror_mode": {
    "name": "ipython",
    "version": 3
   },
   "file_extension": ".py",
   "mimetype": "text/x-python",
   "name": "python",
   "nbconvert_exporter": "python",
   "pygments_lexer": "ipython3",
   "version": "3.7.12"
  },
  "papermill": {
   "default_parameters": {},
   "duration": 20.30231,
   "end_time": "2023-03-16T15:51:17.677866",
   "environment_variables": {},
   "exception": null,
   "input_path": "__notebook__.ipynb",
   "output_path": "__notebook__.ipynb",
   "parameters": {},
   "start_time": "2023-03-16T15:50:57.375556",
   "version": "2.4.0"
  }
 },
 "nbformat": 4,
 "nbformat_minor": 5
}
